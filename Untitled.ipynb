{
 "cells": [
  {
   "cell_type": "markdown",
   "id": "42626468-3866-4ba3-8d86-f4220199b5d9",
   "metadata": {},
   "source": [
    "Rebecca McSweeney"
   ]
  },
  {
   "cell_type": "code",
   "execution_count": 1,
   "id": "fd9943c6-053b-44dd-88a6-860ffd93b4b5",
   "metadata": {},
   "outputs": [
    {
     "name": "stdout",
     "output_type": "stream",
     "text": [
      "['cat1', 'cat1', 'cat1', 'cat2']\n"
     ]
    }
   ],
   "source": [
    "catlist1 = ['cat1', 'cat1', 'cat1']\n",
    "catlist1.append('cat2')\n",
    "print(catlist1)"
   ]
  },
  {
   "cell_type": "code",
   "execution_count": 2,
   "id": "7dc04b46-366c-4edf-9673-3a16ac3edaa5",
   "metadata": {},
   "outputs": [
    {
     "name": "stdout",
     "output_type": "stream",
     "text": [
      "[]\n"
     ]
    }
   ],
   "source": [
    "catlist2 = ['cat1', 'cat1', 'cat1']\n",
    "catlist2.clear()\n",
    "print(catlist2)"
   ]
  },
  {
   "cell_type": "code",
   "execution_count": 3,
   "id": "f7d11ae5-a767-41e0-8401-a3207ed3a6e0",
   "metadata": {},
   "outputs": [
    {
     "data": {
      "text/plain": [
       "['cat1', 'cat1', 'cat1']"
      ]
     },
     "execution_count": 3,
     "metadata": {},
     "output_type": "execute_result"
    }
   ],
   "source": [
    "catlist3 = ['cat1', 'cat1', 'cat1']\n",
    "catlist3.copy()"
   ]
  },
  {
   "cell_type": "code",
   "execution_count": 4,
   "id": "e362954c-dc95-42ff-9752-a3265b3df390",
   "metadata": {},
   "outputs": [
    {
     "data": {
      "text/plain": [
       "2"
      ]
     },
     "execution_count": 4,
     "metadata": {},
     "output_type": "execute_result"
    }
   ],
   "source": [
    "catlist4 = ['cat1', 'cat1', 'cat2']\n",
    "catlist4.count('cat1')"
   ]
  },
  {
   "cell_type": "code",
   "execution_count": 5,
   "id": "c3cc14d3-b32d-497f-8e56-5248397d8405",
   "metadata": {},
   "outputs": [
    {
     "data": {
      "text/plain": [
       "2"
      ]
     },
     "execution_count": 5,
     "metadata": {},
     "output_type": "execute_result"
    }
   ],
   "source": [
    "catlist5 = ['cat1','cat1','cat2']\n",
    "catlist5.index('cat2')"
   ]
  },
  {
   "cell_type": "code",
   "execution_count": 6,
   "id": "5b7d4fc7-46c5-48da-a502-8102c0a78a2d",
   "metadata": {},
   "outputs": [
    {
     "name": "stdout",
     "output_type": "stream",
     "text": [
      "['cat1', 'cat2', 'cat1', 'cat2']\n"
     ]
    }
   ],
   "source": [
    "catlist6 = ['cat1', 'cat1', 'cat2']\n",
    "catlist6.insert(1, 'cat2')\n",
    "print(catlist6)"
   ]
  },
  {
   "cell_type": "code",
   "execution_count": 7,
   "id": "f705884f-c8e8-4697-95a5-be7dc06d54ac",
   "metadata": {},
   "outputs": [
    {
     "data": {
      "text/plain": [
       "'cat2'"
      ]
     },
     "execution_count": 7,
     "metadata": {},
     "output_type": "execute_result"
    }
   ],
   "source": [
    "catlist7 = ['cat1', 'cat1', 'cat2']\n",
    "catlist7.pop(2)"
   ]
  },
  {
   "cell_type": "code",
   "execution_count": 8,
   "id": "be6fe06e-048b-4fcc-85ba-6668b3d1ae46",
   "metadata": {},
   "outputs": [
    {
     "name": "stdout",
     "output_type": "stream",
     "text": [
      "['cat1', 'cat1']\n"
     ]
    }
   ],
   "source": [
    "catlist8 = ['cat1', 'cat1', 'cat2']\n",
    "catlist8.remove('cat2')\n",
    "print(catlist8)"
   ]
  },
  {
   "cell_type": "code",
   "execution_count": 9,
   "id": "417d8ca8-c481-44f7-83ed-ca07f9e298eb",
   "metadata": {},
   "outputs": [
    {
     "name": "stdout",
     "output_type": "stream",
     "text": [
      "['cat2', 'cat1', 'cat1']\n"
     ]
    }
   ],
   "source": [
    "catlist9 = ['cat1', 'cat1', 'cat2']\n",
    "catlist9.reverse()\n",
    "print(catlist9)"
   ]
  }
 ],
 "metadata": {
  "kernelspec": {
   "display_name": "Python 3 (ipykernel)",
   "language": "python",
   "name": "python3"
  },
  "language_info": {
   "codemirror_mode": {
    "name": "ipython",
    "version": 3
   },
   "file_extension": ".py",
   "mimetype": "text/x-python",
   "name": "python",
   "nbconvert_exporter": "python",
   "pygments_lexer": "ipython3",
   "version": "3.13.7"
  }
 },
 "nbformat": 4,
 "nbformat_minor": 5
}
