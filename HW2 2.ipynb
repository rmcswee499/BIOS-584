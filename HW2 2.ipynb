{
 "cells": [
  {
   "cell_type": "markdown",
   "id": "3acfb3c5-ce4b-4857-af74-0eb13f316abb",
   "metadata": {},
   "source": [
    "### Please submit as an HTML or PDF file\n",
    "\n",
    "Print your name (First Name Last Name) below"
   ]
  },
  {
   "cell_type": "code",
   "execution_count": 5,
   "id": "b41fa10b-6a6c-4b5d-b895-091b9159a4ac",
   "metadata": {
    "ExecuteTime": {
     "end_time": "2025-09-12T02:35:26.114192Z",
     "start_time": "2025-09-12T02:35:26.106207Z"
    }
   },
   "outputs": [
    {
     "name": "stdout",
     "output_type": "stream",
     "text": [
      "Rebecca McSweeney\n"
     ]
    }
   ],
   "source": [
    "print(\"Rebecca McSweeney\")"
   ]
  },
  {
   "cell_type": "markdown",
   "id": "d4ea6acb-6d03-43d4-89bd-545a324de185",
   "metadata": {},
   "source": [
    "## 1. Prerequisites\n",
    "* Install `openpyxl` package in PyCharm. (1') <br>\n",
    "* Import `pandas` and `matplotlib` packages. (1')\n",
    "    * For `pandas`, rename it as `pd`.\n",
    "    * For `matplotlib`, find its `pyplot` module and rename it as `plt`."
   ]
  },
  {
   "cell_type": "markdown",
   "id": "12536263-e8c5-4093-b4dd-c02f0a3db83f",
   "metadata": {},
   "source": [
    "* Take a snapshot and attach it below to show that you have `openpyxl` properly installed. (1')"
   ]
  },
  {
   "cell_type": "markdown",
   "id": "615b7298-3f86-4a74-942c-d276aea6de26",
   "metadata": {},
   "source": "![](figures/openpyxl_install.png)"
  },
  {
   "cell_type": "code",
   "execution_count": 6,
   "id": "aad9339b-474a-45c2-94d4-225b41309ef6",
   "metadata": {
    "ExecuteTime": {
     "end_time": "2025-09-12T02:35:26.242875Z",
     "start_time": "2025-09-12T02:35:26.230276Z"
    }
   },
   "outputs": [],
   "source": [
    "# Note: you do not need to explicitly import openpyxl because it is loaded in the backend once you import pandas.\n",
    "import pandas as pd\n",
    "import matplotlib.pyplot as plt"
   ]
  },
  {
   "cell_type": "markdown",
   "id": "ad2bb025-cd91-46cc-98ee-c5f1282f58e7",
   "metadata": {},
   "source": [
    "## 2. Overview on the Dataset\n",
    "\n",
    "Open `PTSD dataset.xlsx` in the \"data\" folder\n",
    "\n",
    "* Read it as a pandas object called `ptsd_df`, choose the sheet named `main_dataset`. (1')\n",
    "* Note: This is a clinical dataset to study the PTSD from my past collaboration. The PI, Dr. Boadie Dunlop has kindly agreed to share it with me for educational purposes. For more information, check the paper below.\n",
    "    * [Effect of agreement between clinician-rated and patient-reported PTSD symptoms on intensive outpatient treatment outcomes](https://doi.org/10.1016/j.psychres.2024.116287)"
   ]
  },
  {
   "cell_type": "code",
   "execution_count": 7,
   "id": "2d51cc3b-ff2b-4e45-b752-1cd99bb685a6",
   "metadata": {
    "ExecuteTime": {
     "end_time": "2025-09-12T02:36:30.633500Z",
     "start_time": "2025-09-12T02:36:30.323770Z"
    }
   },
   "outputs": [],
   "source": [
    "ptsd_df = pd.read_excel(\"data/PTSD dataset.xlsx\", sheet_name='main_dataset')"
   ]
  },
  {
   "cell_type": "markdown",
   "id": "a25b0305-874e-4b7f-bcc4-d4a122943376",
   "metadata": {},
   "source": [
    "* Find and print the number of rows and columns. (1')\n",
    "* Please fill in the blank: This dataset contains (483) rows and (439) columns."
   ]
  },
  {
   "cell_type": "code",
   "execution_count": 8,
   "id": "6413ba89-bd19-48d0-8d41-c69a2167bfc9",
   "metadata": {
    "scrolled": true
   },
   "outputs": [
    {
     "name": "stdout",
     "output_type": "stream",
     "text": [
      "<class 'pandas.core.frame.DataFrame'>\n",
      "RangeIndex: 483 entries, 0 to 482\n",
      "Columns: 439 entries, record_id to reserve\n",
      "dtypes: float64(335), int64(51), object(53)\n",
      "memory usage: 1.6+ MB\n"
     ]
    },
    {
     "data": {
      "text/html": [
       "<div>\n",
       "<style scoped>\n",
       "    .dataframe tbody tr th:only-of-type {\n",
       "        vertical-align: middle;\n",
       "    }\n",
       "\n",
       "    .dataframe tbody tr th {\n",
       "        vertical-align: top;\n",
       "    }\n",
       "\n",
       "    .dataframe thead th {\n",
       "        text-align: right;\n",
       "    }\n",
       "</style>\n",
       "<table border=\"1\" class=\"dataframe\">\n",
       "  <thead>\n",
       "    <tr style=\"text-align: right;\">\n",
       "      <th></th>\n",
       "      <th>record_id</th>\n",
       "      <th>ptsdpresent_caps</th>\n",
       "      <th>caps_minuspcl</th>\n",
       "      <th>caps_minuspcl_code</th>\n",
       "      <th>caps_intake</th>\n",
       "      <th>pcl5_score_intake</th>\n",
       "      <th>pcl5month_score.baseline</th>\n",
       "      <th>pcl5week_score.completion</th>\n",
       "      <th>pcl5month_score.3_month_follow_up</th>\n",
       "      <th>mdd_code</th>\n",
       "      <th>...</th>\n",
       "      <th>state_code</th>\n",
       "      <th>va_benefits_indicator</th>\n",
       "      <th>wwp_alumni_indicator</th>\n",
       "      <th>army</th>\n",
       "      <th>airforce</th>\n",
       "      <th>marines</th>\n",
       "      <th>navy</th>\n",
       "      <th>coastguard</th>\n",
       "      <th>nationalguard</th>\n",
       "      <th>reserve</th>\n",
       "    </tr>\n",
       "  </thead>\n",
       "  <tbody>\n",
       "    <tr>\n",
       "      <th>0</th>\n",
       "      <td>460</td>\n",
       "      <td>1</td>\n",
       "      <td>-56</td>\n",
       "      <td>1</td>\n",
       "      <td>15</td>\n",
       "      <td>71</td>\n",
       "      <td>75.0</td>\n",
       "      <td>40.0</td>\n",
       "      <td>NaN</td>\n",
       "      <td>0</td>\n",
       "      <td>...</td>\n",
       "      <td>TX</td>\n",
       "      <td>Yes</td>\n",
       "      <td>No</td>\n",
       "      <td>1.0</td>\n",
       "      <td>0.0</td>\n",
       "      <td>0.0</td>\n",
       "      <td>0.0</td>\n",
       "      <td>0.0</td>\n",
       "      <td>0.0</td>\n",
       "      <td>0.0</td>\n",
       "    </tr>\n",
       "    <tr>\n",
       "      <th>1</th>\n",
       "      <td>5942</td>\n",
       "      <td>1</td>\n",
       "      <td>-49</td>\n",
       "      <td>1</td>\n",
       "      <td>23</td>\n",
       "      <td>72</td>\n",
       "      <td>NaN</td>\n",
       "      <td>52.0</td>\n",
       "      <td>29.0</td>\n",
       "      <td>0</td>\n",
       "      <td>...</td>\n",
       "      <td>GA</td>\n",
       "      <td>Yes</td>\n",
       "      <td>No</td>\n",
       "      <td>0.0</td>\n",
       "      <td>1.0</td>\n",
       "      <td>0.0</td>\n",
       "      <td>0.0</td>\n",
       "      <td>0.0</td>\n",
       "      <td>0.0</td>\n",
       "      <td>0.0</td>\n",
       "    </tr>\n",
       "    <tr>\n",
       "      <th>2</th>\n",
       "      <td>5366</td>\n",
       "      <td>1</td>\n",
       "      <td>-48</td>\n",
       "      <td>1</td>\n",
       "      <td>31</td>\n",
       "      <td>79</td>\n",
       "      <td>62.0</td>\n",
       "      <td>23.0</td>\n",
       "      <td>NaN</td>\n",
       "      <td>1</td>\n",
       "      <td>...</td>\n",
       "      <td>GA</td>\n",
       "      <td>N</td>\n",
       "      <td>N</td>\n",
       "      <td>1.0</td>\n",
       "      <td>0.0</td>\n",
       "      <td>0.0</td>\n",
       "      <td>0.0</td>\n",
       "      <td>0.0</td>\n",
       "      <td>0.0</td>\n",
       "      <td>0.0</td>\n",
       "    </tr>\n",
       "    <tr>\n",
       "      <th>3</th>\n",
       "      <td>3480</td>\n",
       "      <td>1</td>\n",
       "      <td>-47</td>\n",
       "      <td>1</td>\n",
       "      <td>31</td>\n",
       "      <td>78</td>\n",
       "      <td>76.0</td>\n",
       "      <td>72.0</td>\n",
       "      <td>NaN</td>\n",
       "      <td>0</td>\n",
       "      <td>...</td>\n",
       "      <td>GA</td>\n",
       "      <td>Yes</td>\n",
       "      <td>Yes</td>\n",
       "      <td>1.0</td>\n",
       "      <td>0.0</td>\n",
       "      <td>0.0</td>\n",
       "      <td>0.0</td>\n",
       "      <td>0.0</td>\n",
       "      <td>0.0</td>\n",
       "      <td>0.0</td>\n",
       "    </tr>\n",
       "    <tr>\n",
       "      <th>4</th>\n",
       "      <td>1029</td>\n",
       "      <td>1</td>\n",
       "      <td>-46</td>\n",
       "      <td>1</td>\n",
       "      <td>28</td>\n",
       "      <td>74</td>\n",
       "      <td>52.0</td>\n",
       "      <td>29.0</td>\n",
       "      <td>36.0</td>\n",
       "      <td>0</td>\n",
       "      <td>...</td>\n",
       "      <td>GA</td>\n",
       "      <td>Yes</td>\n",
       "      <td>No</td>\n",
       "      <td>0.0</td>\n",
       "      <td>0.0</td>\n",
       "      <td>1.0</td>\n",
       "      <td>0.0</td>\n",
       "      <td>0.0</td>\n",
       "      <td>0.0</td>\n",
       "      <td>0.0</td>\n",
       "    </tr>\n",
       "  </tbody>\n",
       "</table>\n",
       "<p>5 rows × 439 columns</p>\n",
       "</div>"
      ],
      "text/plain": [
       "   record_id  ptsdpresent_caps  caps_minuspcl  caps_minuspcl_code  \\\n",
       "0        460                 1            -56                   1   \n",
       "1       5942                 1            -49                   1   \n",
       "2       5366                 1            -48                   1   \n",
       "3       3480                 1            -47                   1   \n",
       "4       1029                 1            -46                   1   \n",
       "\n",
       "   caps_intake  pcl5_score_intake  pcl5month_score.baseline  \\\n",
       "0           15                 71                      75.0   \n",
       "1           23                 72                       NaN   \n",
       "2           31                 79                      62.0   \n",
       "3           31                 78                      76.0   \n",
       "4           28                 74                      52.0   \n",
       "\n",
       "   pcl5week_score.completion  pcl5month_score.3_month_follow_up  mdd_code  \\\n",
       "0                       40.0                                NaN         0   \n",
       "1                       52.0                               29.0         0   \n",
       "2                       23.0                                NaN         1   \n",
       "3                       72.0                                NaN         0   \n",
       "4                       29.0                               36.0         0   \n",
       "\n",
       "   ...  state_code  va_benefits_indicator  wwp_alumni_indicator  army  \\\n",
       "0  ...          TX                    Yes                    No   1.0   \n",
       "1  ...          GA                    Yes                    No   0.0   \n",
       "2  ...          GA                      N                     N   1.0   \n",
       "3  ...          GA                    Yes                   Yes   1.0   \n",
       "4  ...          GA                    Yes                    No   0.0   \n",
       "\n",
       "   airforce  marines  navy  coastguard  nationalguard  reserve  \n",
       "0       0.0      0.0   0.0         0.0            0.0      0.0  \n",
       "1       1.0      0.0   0.0         0.0            0.0      0.0  \n",
       "2       0.0      0.0   0.0         0.0            0.0      0.0  \n",
       "3       0.0      0.0   0.0         0.0            0.0      0.0  \n",
       "4       0.0      1.0   0.0         0.0            0.0      0.0  \n",
       "\n",
       "[5 rows x 439 columns]"
      ]
     },
     "execution_count": 8,
     "metadata": {},
     "output_type": "execute_result"
    }
   ],
   "source": [
    "ptsd_df.info() \n",
    "\n",
    "ptsd_df.head()"
   ]
  },
  {
   "cell_type": "markdown",
   "id": "07baf8e0-bdf1-42aa-a76e-da8fd946f4b9",
   "metadata": {},
   "source": [
    "* Find the variable names of the dataset, assign it to a variable name `ptsd_col_name`. (1')\n",
    "* Print out the type of the variable `ptsd_col_name`. (1')\n",
    "* Convert it to a list without changing the variable name and confirm the type as a list. (2')\n",
    "* Print out `ptsd_col_name`. (1')\n",
    "* Find and print out the first item of the `ptsd_col_name`. (1')\n",
    "* Find and print out the index corresponding to the variable `pcl5_score_intake`. (1')"
   ]
  },
  {
   "cell_type": "code",
   "execution_count": 9,
   "id": "94959a05-15c5-4c4a-a500-7c4f8f79b755",
   "metadata": {},
   "outputs": [
    {
     "name": "stdout",
     "output_type": "stream",
     "text": [
      "<class 'pandas.core.indexes.base.Index'>\n",
      "<class 'list'>\n"
     ]
    }
   ],
   "source": [
    "# Assigning variable names to an object and determining the type\n",
    "ptsd_col_name = ptsd_df.columns\n",
    "\n",
    "print(type(ptsd_col_name))\n",
    "\n",
    "# Converting ptsd_col_name to a list and print the updated type\n",
    "ptsd_col_name = list(ptsd_col_name)\n",
    "print(type(ptsd_col_name))"
   ]
  },
  {
   "cell_type": "code",
   "execution_count": 10,
   "id": "690d5db9-e9ab-42e3-8b30-00fc49b72c47",
   "metadata": {},
   "outputs": [
    {
     "name": "stdout",
     "output_type": "stream",
     "text": [
      "['record_id', 'ptsdpresent_caps', 'caps_minuspcl', 'caps_minuspcl_code', 'caps_intake', 'pcl5_score_intake', 'pcl5month_score.baseline', 'pcl5week_score.completion', 'pcl5month_score.3_month_follow_up', 'mdd_code', 'ctq_total_score', 'sexual_trauma', 'sud_code', 'phq9_score_intake', 'phq9_score.baseline', 'age_iop', 'gender_code', 'race_code', 'ethnicity_code', 'sexualorient_code', 'education_code', 'employment_code', 'rank_code', 'branch_code', 'total_ptsd_sx_caps', 'caps_1', 'caps_1_sev', 'caps_2', 'caps_2_sev', 'caps_3', 'caps_3_sev', 'caps_4', 'caps_4_sev', 'caps_5', 'caps_5_sev', 'b_sx_caps', 'b_sev_caps', 'criterion_b', 'caps_6', 'caps_6_sev', 'caps_7', 'caps_7_sev', 'c_sx_caps', 'c_sev_caps', 'criterion_c', 'caps_8', 'caps_8_sev', 'caps_9', 'caps_9_sev', 'caps_10', 'caps_10_sev', 'caps_11', 'caps_11_sev', 'caps_12', 'caps_12_sev', 'caps_13', 'caps_13_sev', 'caps_14', 'caps_14_sev', 'd_sx_caps', 'd_sev_caps', 'criterion_d', 'caps_15', 'caps_15_sev', 'caps_16', 'caps_16_sev', 'caps_17', 'caps_17_sev', 'caps_18', 'caps_18_sev', 'caps_19', 'caps_19_sev', 'caps_20', 'caps_20_sev', 'e_sx_caps', 'e_sev_caps', 'criterion_e', 'pcl5_1_intake', 'pcl5_2_intake', 'pcl5_3_intake', 'pcl5_4_intake', 'pcl5_5_intake', 'pcl5_6_intake', 'pcl5_7_intake', 'pcl5_8_intake', 'pcl5_9_intake', 'pcl5_10_intake', 'pcl5_11_intake', 'pcl5_12_intake', 'pcl5_13_intake', 'pcl5_14_intake', 'pcl5_15_intake', 'pcl5_16_intake', 'pcl5_17_intake', 'pcl5_18_intake', 'pcl5_19_intake', 'pcl5_20_intake', 'pcl_5_complete_intake', 'diagnosisa_caps_dissociative_sx', 'diagnosisb_caps_21_21_delayed_onset', 'caps_22_criterion_f', 'caps_23', 'caps_23_sev', 'caps_24', 'caps_24_sev', 'caps_25', 'caps_25_sev', 'g_sx_caps', 'g_sev_caps', 'criterion_g', 'caps_26', 'caps_27', 'caps_28', 'caps_29', 'caps_29_sev', 'caps_30', 'caps_30_sev', 'capscomplete', 'caps_method', 'caps_complete', 'PresentingComplaint', 'TargetTrauma', 'HistoryofPsychiatricDiagnoses', 'Currentpsychiatrictreatment', 'Pastpsychiatrictreatment', 'CriteriaA', 'Trauma1LEC', 'Trauma1Military', 'Trauma1ExpWit', 'Trauma1Suicide', 'Trauma2LEC', 'Trauma2Military', 'Trauma2ExpWit', 'Trauma2Suicide', 'Trauma3LEC', 'Trauma3Military', 'Trauma3ExpWit', 'Trauma3Suicide', 'TraumaNotes', 'pcl5_1w.completion', 'pcl5_2w.completion', 'pcl5_3w.completion', 'pcl5_4w.completion', 'pcl5_5w.completion', 'pcl5_6w.completion', 'pcl5_7w.completion', 'pcl5_8w.completion', 'pcl5_9w.completion', 'pcl5_10w.completion', 'pcl5_11w.completion', 'pcl5_12w.completion', 'pcl5_13w.completion', 'pcl5_14w.completion', 'pcl5_15w.completion', 'pcl5_16w.completion', 'pcl5_17w.completion', 'pcl5_18w.completion', 'pcl5_19w.completion', 'pcl5_20w.completion', 'pcl5w_complete', 'pcl5_1.12_month_follow_up', 'pcl5_2.12_month_follow_up', 'pcl5_3.12_month_follow_up', 'pcl5_4.12_month_follow_up', 'pcl5_5.12_month_follow_up', 'pcl5_6.12_month_follow_up', 'pcl5_7.12_month_follow_up', 'pcl5_8.12_month_follow_up', 'pcl5_9.12_month_follow_up', 'pcl5_10.12_month_follow_up', 'pcl5_11.12_month_follow_up', 'pcl5_12.12_month_follow_up', 'pcl5_13.12_month_follow_up', 'pcl5_14.12_month_follow_up', 'pcl5_15.12_month_follow_up', 'pcl5_16.12_month_follow_up', 'pcl5_17.12_month_follow_up', 'pcl5_18.12_month_follow_up', 'pcl5_19.12_month_follow_up', 'pcl5_20.12_month_follow_up', 'pcl_5_complete.12_month_follow_up', 'phq_date.12_month_follow_up', 'phq_1.12_month_follow_up', 'phq_2.12_month_follow_up', 'phq_3.12_month_follow_up', 'phq_4.12_month_follow_up', 'phq_5.12_month_follow_up', 'phq_6.12_month_follow_up', 'phq_7.12_month_follow_up', 'phq_8.12_month_follow_up', 'phq_9.12_month_follow_up', 'phq_10.12_month_follow_up', 'phq_9_complete.12_month_follow_up', 'phq9_score.12_month_follow_up', 'pcl5month_score.12_month_follow_up', 'pcl5_1.3_month_follow_up', 'pcl5_2.3_month_follow_up', 'pcl5_3.3_month_follow_up', 'pcl5_4.3_month_follow_up', 'pcl5_5.3_month_follow_up', 'pcl5_6.3_month_follow_up', 'pcl5_7.3_month_follow_up', 'pcl5_8.3_month_follow_up', 'pcl5_9.3_month_follow_up', 'pcl5_10.3_month_follow_up', 'pcl5_11.3_month_follow_up', 'pcl5_12.3_month_follow_up', 'pcl5_13.3_month_follow_up', 'pcl5_14.3_month_follow_up', 'pcl5_15.3_month_follow_up', 'pcl5_16.3_month_follow_up', 'pcl5_17.3_month_follow_up', 'pcl5_18.3_month_follow_up', 'pcl5_19.3_month_follow_up', 'pcl5_20.3_month_follow_up', 'pcl_5_complete.3_month_follow_up', 'phq_date.3_month_follow_up', 'phq_1.3_month_follow_up', 'phq_2.3_month_follow_up', 'phq_3.3_month_follow_up', 'phq_4.3_month_follow_up', 'phq_5.3_month_follow_up', 'phq_6.3_month_follow_up', 'phq_7.3_month_follow_up', 'phq_8.3_month_follow_up', 'phq_9.3_month_follow_up', 'phq_10.3_month_follow_up', 'phq_9_complete.3_month_follow_up', 'phq9_score.3_month_follow_up', 'pcl5_1.6_month_follow_up', 'pcl5_2.6_month_follow_up', 'pcl5_3.6_month_follow_up', 'pcl5_4.6_month_follow_up', 'pcl5_5.6_month_follow_up', 'pcl5_6.6_month_follow_up', 'pcl5_7.6_month_follow_up', 'pcl5_8.6_month_follow_up', 'pcl5_9.6_month_follow_up', 'pcl5_10.6_month_follow_up', 'pcl5_11.6_month_follow_up', 'pcl5_12.6_month_follow_up', 'pcl5_13.6_month_follow_up', 'pcl5_14.6_month_follow_up', 'pcl5_15.6_month_follow_up', 'pcl5_16.6_month_follow_up', 'pcl5_17.6_month_follow_up', 'pcl5_18.6_month_follow_up', 'pcl5_19.6_month_follow_up', 'pcl5_20.6_month_follow_up', 'pcl_5_complete.6_month_follow_up', 'phq_date.6_month_follow_up', 'phq_1.6_month_follow_up', 'phq_2.6_month_follow_up', 'phq_3.6_month_follow_up', 'phq_4.6_month_follow_up', 'phq_5.6_month_follow_up', 'phq_6.6_month_follow_up', 'phq_7.6_month_follow_up', 'phq_8.6_month_follow_up', 'phq_9.6_month_follow_up', 'phq_10.6_month_follow_up', 'phq_9_complete.6_month_follow_up', 'phq9_score.6_month_follow_up', 'pcl5month_score.6_month_follow_up', 'pcl5_1.baseline', 'pcl5_2.baseline', 'pcl5_3.baseline', 'pcl5_4.baseline', 'pcl5_5.baseline', 'pcl5_6.baseline', 'pcl5_7.baseline', 'pcl5_8.baseline', 'pcl5_9.baseline', 'pcl5_10.baseline', 'pcl5_11.baseline', 'pcl5_12.baseline', 'pcl5_13.baseline', 'pcl5_14.baseline', 'pcl5_15.baseline', 'pcl5_16.baseline', 'pcl5_17.baseline', 'pcl5_18.baseline', 'pcl5_19.baseline', 'pcl5_20.baseline', 'pcl_5_complete.baseline', 'phq_date.baseline', 'phq_1.baseline', 'phq_2.baseline', 'phq_3.baseline', 'phq_4.baseline', 'phq_5.baseline', 'phq_6.baseline', 'phq_7.baseline', 'phq_8.baseline', 'phq_9.baseline', 'phq_10.baseline', 'phq_9_complete.baseline', 'pcl5_1.completion', 'pcl5_2.completion', 'pcl5_3.completion', 'pcl5_4.completion', 'pcl5_5.completion', 'pcl5_6.completion', 'pcl5_7.completion', 'pcl5_8.completion', 'pcl5_9.completion', 'pcl5_10.completion', 'pcl5_11.completion', 'pcl5_12.completion', 'pcl5_13.completion', 'pcl5_14.completion', 'pcl5_15.completion', 'pcl5_16.completion', 'pcl5_17.completion', 'pcl5_18.completion', 'pcl5_19.completion', 'pcl5_20.completion', 'pcl_5_complete.completion', 'phq_date.completion', 'phq_1.completion', 'phq_2.completion', 'phq_3.completion', 'phq_4.completion', 'phq_5.completion', 'phq_6.completion', 'phq_7.completion', 'phq_8.completion', 'phq_9.completion', 'phq_10.completion', 'phq_9_complete.completion', 'phq9_score.completion', 'pcl5month_score.completion', 'height', 'weight', 'bmi', 'primary_therapy6', 'iop_track', 'tbi_patient', 'care_type', 'telehealth_location', 'rtms_patient', 'tdcs_patient', 'icf', 'adl_2_complete', 'childtra_1', 'childtra_2', 'childtra_3', 'childtra_4', 'childtra_5', 'childtra_6', 'childtra_7', 'childtra_8', 'childtra_9', 'childtra_10', 'childtra_11', 'childtra_12', 'childtra_13', 'childtra_14', 'childtra_15', 'childtra_16', 'childtra_17', 'childtra_18', 'childtra_19', 'childtra_20', 'childtra_21', 'childtra_22', 'childtra_23', 'childtra_24', 'childtra_25', 'childtra_26', 'childtra_27', 'childtra_28', 'ctq_complete', 'phq_date_intake', 'phq_1_intake', 'phq_2_intake', 'phq_3_intake', 'phq_4_intake', 'phq_5_intake', 'phq_6_intake', 'phq_7_intake', 'phq_8_intake', 'phq_9_intake', 'phq_10_intake', 'phq_9_complete_intake', 'ctq_emo_score', 'ctq_phys_score', 'ctq_sexabuse_score', 'ctq_emoneglect_score', 'ctq_physneglect_score', 'ctq_emot_cat', 'ctq_phys_cat', 'ctq_sex_cat', 'ctq_emot_neg_cat', 'ctq_phys_neg_cat', 'survey_date2', 'survey_date4', 'survey_date7', 'survey_date9', 'pcl5_score2', 'pcl5_score4', 'pcl5_score7', 'pcl5_score9', 'phq9_score2', 'phq9_score4', 'phq9_score7', 'phq9_score9', 'primary_diagnosis_icd', 'secondary_icd_dx_code_1', 'secondary_icd_dx_code_2', 'secondary_icd_dx_code_3', 'secondary_icd_dx_code_4', 'secondary_icd_dx_code_5', 'secondary_icd_dx_code_6', 'secondary_icd_dx_code_7', 'secondary_icd_dx_code_8', 'secondary_icd_dx_code_9', 'secondary_icd_dx_code_10', 'fullcaps', 'gender_src', 'sexual_orientation_src', 'employment_status', 'birth_year', 'marital_status', 'number_of_children', 'branch_src', 'military_service_status_src', 'rank_pay_grade', 'discharge_status', 'state_code', 'va_benefits_indicator', 'wwp_alumni_indicator', 'army', 'airforce', 'marines', 'navy', 'coastguard', 'nationalguard', 'reserve']\n"
     ]
    }
   ],
   "source": [
    "# Printing out the whole list ptsd_col_name\n",
    "print(ptsd_col_name) "
   ]
  },
  {
   "cell_type": "code",
   "execution_count": 11,
   "id": "17b1834c-d10b-48ea-b79d-92f8b8954a54",
   "metadata": {},
   "outputs": [
    {
     "name": "stdout",
     "output_type": "stream",
     "text": [
      "record_id\n",
      "5\n"
     ]
    }
   ],
   "source": [
    "# Printing out the first item (would have an index of 0)\n",
    "print(ptsd_col_name[0]) \n",
    "\n",
    "#Find and print the index of the item 'pcl5_score_intake'\n",
    "print(ptsd_col_name.index('pcl5_score_intake'))"
   ]
  },
  {
   "cell_type": "markdown",
   "id": "68429dfc-d025-4ae4-bf7b-8a1ee0a3a79c",
   "metadata": {},
   "source": [
    "## 3. Descriptive Statistics and Visualization\n",
    "\n",
    "* Compute and print out descriptive statistics of `pcl5_score_intake`.\n",
    "    * Directly type the name such as `df[\"col_name\"]`. (1')\n",
    "    * Use `ptsd_col_name` with an index to extract the column `pcl5_score_intake`. (1')"
   ]
  },
  {
   "cell_type": "code",
   "execution_count": 12,
   "id": "2085f49d-ef5c-4e81-a31d-59919e7e3cfa",
   "metadata": {},
   "outputs": [
    {
     "data": {
      "text/plain": [
       "count    483.000000\n",
       "mean      53.612836\n",
       "std       14.165925\n",
       "min        8.000000\n",
       "25%       44.000000\n",
       "50%       54.000000\n",
       "75%       64.000000\n",
       "max       80.000000\n",
       "Name: pcl5_score_intake, dtype: float64"
      ]
     },
     "execution_count": 12,
     "metadata": {},
     "output_type": "execute_result"
    }
   ],
   "source": [
    "# Descriptive statistics two ways\n",
    "# Directly typing the name\n",
    "ptsd_df[\"pcl5_score_intake\"].describe()\n",
    "\n",
    "#Extracting the column from the \"ptsd_col_name\" item\n",
    "ptsd_df[ptsd_col_name[5]].describe()"
   ]
  },
  {
   "cell_type": "markdown",
   "id": "893c3559-d86a-4d09-905c-6676d067052f",
   "metadata": {},
   "source": [
    "* Generate a scatter plot that shows `pcl5_score_intake` in the y-axis and `age_iop` in the x-axis.\n",
    "    * `pcl5_score_intake` refers to \"PCL5 Score at Intake\", while `age_iop` refers to \"Age\".\n",
    "    * Extract columns to create two variables named `age` and `pcl5_score_intake`, respectively. (1')\n",
    "    * Generate the scatter plot. (1')\n",
    "    * Label both x and y axes properly and the title as \"Scatter Plot\". (1')\n",
    "    * Show the plot. (1')"
   ]
  },
  {
   "cell_type": "code",
   "execution_count": 13,
   "id": "e85d6090-4c62-4299-a2ef-034bf494498a",
   "metadata": {},
   "outputs": [
    {
     "data": {
      "image/png": "[encoded data removed]",
      "text/plain": [
       "<Figure size 640x480 with 1 Axes>"
      ]
     },
     "metadata": {},
     "output_type": "display_data"
    }
   ],
   "source": [
    "age = ptsd_df['age_iop']\n",
    "pcl5_score_intake = ptsd_df['pcl5_score_intake']\n",
    "\n",
    "plt.scatter(x = age, y = pcl5_score_intake)\n",
    "plt.xlabel(\"Age\")\n",
    "plt.ylabel(\"PCL5 Score at Intake\")\n",
    "plt.title(\"Scatter Plot\")\n",
    "plt.show()"
   ]
  },
  {
   "cell_type": "markdown",
   "id": "f4378f3b-7bb2-4018-87ed-e23213b2246c",
   "metadata": {},
   "source": [
    "* Provide a frequency table of `gender_code`. (1')"
   ]
  },
  {
   "cell_type": "code",
   "execution_count": 14,
   "id": "0e238a93-4fff-48a3-b5fe-fb65f83dd527",
   "metadata": {},
   "outputs": [
    {
     "data": {
      "text/html": [
       "<div>\n",
       "<style scoped>\n",
       "    .dataframe tbody tr th:only-of-type {\n",
       "        vertical-align: middle;\n",
       "    }\n",
       "\n",
       "    .dataframe tbody tr th {\n",
       "        vertical-align: top;\n",
       "    }\n",
       "\n",
       "    .dataframe thead th {\n",
       "        text-align: right;\n",
       "    }\n",
       "</style>\n",
       "<table border=\"1\" class=\"dataframe\">\n",
       "  <thead>\n",
       "    <tr style=\"text-align: right;\">\n",
       "      <th>col_0</th>\n",
       "      <th>count</th>\n",
       "    </tr>\n",
       "    <tr>\n",
       "      <th>gender_code</th>\n",
       "      <th></th>\n",
       "    </tr>\n",
       "  </thead>\n",
       "  <tbody>\n",
       "    <tr>\n",
       "      <th>1</th>\n",
       "      <td>290</td>\n",
       "    </tr>\n",
       "    <tr>\n",
       "      <th>2</th>\n",
       "      <td>193</td>\n",
       "    </tr>\n",
       "  </tbody>\n",
       "</table>\n",
       "</div>"
      ],
      "text/plain": [
       "col_0        count\n",
       "gender_code       \n",
       "1              290\n",
       "2              193"
      ]
     },
     "execution_count": 14,
     "metadata": {},
     "output_type": "execute_result"
    }
   ],
   "source": [
    "pd.crosstab(index = ptsd_df.gender_code, columns = \"count\")"
   ]
  },
  {
   "cell_type": "markdown",
   "id": "ce5975b3-e8d9-4935-a691-e42640364177",
   "metadata": {},
   "source": [
    "* Provide a contingency table between `gender_code` and `race_code`. (1')"
   ]
  },
  {
   "cell_type": "code",
   "execution_count": 15,
   "id": "8e06f010-9850-4697-ab69-bdcf16034ea5",
   "metadata": {
    "ExecuteTime": {
     "end_time": "2025-09-12T02:35:27.064529Z",
     "start_time": "2025-09-12T02:31:16.886973Z"
    }
   },
   "outputs": [
    {
     "data": {
      "text/html": [
       "<div>\n",
       "<style scoped>\n",
       "    .dataframe tbody tr th:only-of-type {\n",
       "        vertical-align: middle;\n",
       "    }\n",
       "\n",
       "    .dataframe tbody tr th {\n",
       "        vertical-align: top;\n",
       "    }\n",
       "\n",
       "    .dataframe thead th {\n",
       "        text-align: right;\n",
       "    }\n",
       "</style>\n",
       "<table border=\"1\" class=\"dataframe\">\n",
       "  <thead>\n",
       "    <tr style=\"text-align: right;\">\n",
       "      <th>race_code</th>\n",
       "      <th>1</th>\n",
       "      <th>2</th>\n",
       "      <th>3</th>\n",
       "      <th>4</th>\n",
       "      <th>5</th>\n",
       "      <th>6</th>\n",
       "    </tr>\n",
       "    <tr>\n",
       "      <th>gender_code</th>\n",
       "      <th></th>\n",
       "      <th></th>\n",
       "      <th></th>\n",
       "      <th></th>\n",
       "      <th></th>\n",
       "      <th></th>\n",
       "    </tr>\n",
       "  </thead>\n",
       "  <tbody>\n",
       "    <tr>\n",
       "      <th>1</th>\n",
       "      <td>194</td>\n",
       "      <td>58</td>\n",
       "      <td>4</td>\n",
       "      <td>0</td>\n",
       "      <td>5</td>\n",
       "      <td>29</td>\n",
       "    </tr>\n",
       "    <tr>\n",
       "      <th>2</th>\n",
       "      <td>76</td>\n",
       "      <td>86</td>\n",
       "      <td>6</td>\n",
       "      <td>3</td>\n",
       "      <td>6</td>\n",
       "      <td>16</td>\n",
       "    </tr>\n",
       "  </tbody>\n",
       "</table>\n",
       "</div>"
      ],
      "text/plain": [
       "race_code      1   2  3  4  5   6\n",
       "gender_code                      \n",
       "1            194  58  4  0  5  29\n",
       "2             76  86  6  3  6  16"
      ]
     },
     "execution_count": 15,
     "metadata": {},
     "output_type": "execute_result"
    }
   ],
   "source": [
    "pd.crosstab(ptsd_df.gender_code, ptsd_df.race_code)"
   ]
  },
  {
   "cell_type": "markdown",
   "id": "677ebdbc-b7ec-40a9-8f65-ed21bb80894f",
   "metadata": {},
   "source": [
    "Save it as `HW2.html` or `HW2.pdf` and upload it to Canvas."
   ]
  }
 ],
 "metadata": {
  "kernelspec": {
   "display_name": "Python 3 (ipykernel)",
   "language": "python",
   "name": "python3"
  },
  "language_info": {
   "codemirror_mode": {
    "name": "ipython",
    "version": 3
   },
   "file_extension": ".py",
   "mimetype": "text/x-python",
   "name": "python",
   "nbconvert_exporter": "python",
   "pygments_lexer": "ipython3",
   "version": "3.13.7"
  }
 },
 "nbformat": 4,
 "nbformat_minor": 5
}
