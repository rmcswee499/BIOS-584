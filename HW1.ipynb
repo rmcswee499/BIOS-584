{
 "cells": [
  {
   "cell_type": "markdown",
   "id": "ba6ccbd2-e0ef-46bb-8a12-fa2131a95a1c",
   "metadata": {},
   "source": [
    "This is my first Jupyter notebook"
   ]
  },
  {
   "cell_type": "code",
   "execution_count": 1,
   "id": "348f834c-8bda-4d3b-8dd9-60e8d4251770",
   "metadata": {},
   "outputs": [
    {
     "name": "stdout",
     "output_type": "stream",
     "text": [
      "My name is Rebecca McSweeney.\n"
     ]
    }
   ],
   "source": [
    "print(\"My name is Rebecca McSweeney.\")"
   ]
  },
  {
   "cell_type": "code",
   "execution_count": null,
   "id": "58d30ad6-5535-4312-9451-36c2c280a4ef",
   "metadata": {},
   "outputs": [],
   "source": []
  }
 ],
 "metadata": {
  "kernelspec": {
   "display_name": "Python 3 (ipykernel)",
   "language": "python",
   "name": "python3"
  },
  "language_info": {
   "codemirror_mode": {
    "name": "ipython",
    "version": 3
   },
   "file_extension": ".py",
   "mimetype": "text/x-python",
   "name": "python",
   "nbconvert_exporter": "python",
   "pygments_lexer": "ipython3",
   "version": "3.13.7"
  }
 },
 "nbformat": 4,
 "nbformat_minor": 5
}
