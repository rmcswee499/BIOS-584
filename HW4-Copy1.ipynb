{
 "cells": [
  {
   "cell_type": "markdown",
   "metadata": {},
   "source": [
    "# HW4 (20')"
   ]
  },
  {
   "cell_type": "markdown",
   "metadata": {},
   "source": [
    "## Submit as an HTML or PDF file"
   ]
  },
  {
   "cell_type": "markdown",
   "metadata": {},
   "source": [
    "Print your name (First Name and Last Name) below."
   ]
  },
  {
   "cell_type": "code",
   "execution_count": 1,
   "metadata": {
    "ExecuteTime": {
     "end_time": "2025-09-19T19:11:04.440087Z",
     "start_time": "2025-09-19T19:11:04.419949Z"
    }
   },
   "outputs": [
    {
     "name": "stdout",
     "output_type": "stream",
     "text": [
      "Rebecca McSweeney\n"
     ]
    }
   ],
   "source": [
    "print(\"Rebecca McSweeney\")"
   ]
  },
  {
   "cell_type": "markdown",
   "metadata": {},
   "source": [
    "- Import `numpy` and `matplotlib` libraries. Pay attention to the alias."
   ]
  },
  {
   "cell_type": "code",
   "execution_count": 1,
   "metadata": {
    "ExecuteTime": {
     "end_time": "2025-09-19T19:11:30.894143Z",
     "start_time": "2025-09-19T19:11:28.651085Z"
    }
   },
   "outputs": [],
   "source": [
    "import numpy as np\n",
    "import matplotlib.pyplot as plt"
   ]
  },
  {
   "cell_type": "markdown",
   "metadata": {},
   "source": [
    "## 1. For loops to count conditional statements (5')\n",
    "\n",
    "- Previously, we introduce generating normal vectors using `np.random.normal()`. \n",
    "- Set the seed value as `100`. (1')\n",
    "- Generate a random vector that follows a univariate normal distribution with a zero mean and a unit variance with a sample size of `1000` and rename it as `norm_vec`. (1')\n",
    "- Define an empty list called `eligible_ls`.\n",
    "- Write a for loop that iterate the entire 1000 samples. Append the value `True` to `eligible_ls` if each random variable lies between $-1.96$ and $1.96$, and `False` otherwise. (2')\n",
    "- Print out the first five elements of `norm_vec` and `eligible_ls`. (1')"
   ]
  },
  {
   "cell_type": "code",
   "execution_count": 40,
   "metadata": {},
   "outputs": [
    {
     "name": "stdout",
     "output_type": "stream",
     "text": [
      "[-1.74976547  0.3426804   1.1530358  -0.25243604  0.98132079]\n",
      "[True, True, True, True, True]\n"
     ]
    }
   ],
   "source": [
    "# Write your own code    \n",
    "np.random.seed(100) \n",
    "\n",
    "# Generate the random vector norm_vec\n",
    "norm_vec = np.random.normal(loc=0, scale=1, size=1000) \n",
    "\n",
    "# Define an empty list to use in the for loop\n",
    "eligible_ls = [] \n",
    "\n",
    "for norm_iter, x_iter in enumerate(norm_vec):\n",
    "    if -1.96 < norm_vec[norm_iter] < 1.96:\n",
    "        eligible_ls.append(True)\n",
    "    else:\n",
    "        eligible_ls.append(False)\n",
    "\n",
    "# Printe out the first five elements of norm_vec and eligible_ls\n",
    "print(norm_vec[:5])\n",
    "print(eligible_ls[:5])"
   ]
  },
  {
   "cell_type": "markdown",
   "metadata": {},
   "source": [
    "## 2. This is a follow-up to question 1. (5')\n",
    "\n",
    "- If you run ```np.sum(list_eligible)```, what value is Python assigning to ```True``` or ```False``` elements in the sum? Write you answer as a comment. (1')\n",
    "- Assign a variable `eligible_sum` to the previous output.\n",
    "- Print out the type of the output above. (1')\n",
    "- Convert it to an integer using `int` instead of the previous type. Print out the corresponding value and type. (1')\n",
    "- Calculate the sample size of numbers who are outside $[-1.96, 1.96]$ using at least **two** methods. (2')\n",
    "    - You can use subtraction directly.\n",
    "    - Convert `True` and `False` to $1$ and $0$, respectively; Reverse $0$ and $1$ and calculate the corresponding sum."
   ]
  },
  {
   "cell_type": "code",
   "execution_count": 66,
   "metadata": {},
   "outputs": [
    {
     "name": "stdout",
     "output_type": "stream",
     "text": [
      "937\n",
      "937\n",
      "<class 'numpy.int64'>\n",
      "937\n",
      "<class 'int'>\n",
      "63\n",
      "63\n"
     ]
    }
   ],
   "source": [
    "# Write your own code\n",
    "print(np.sum(eligible_ls))\n",
    "\n",
    "print(eligible_ls.count(True)) \n",
    "\n",
    "# Since the count of `True` values in eligible_ls is equal to the sum I get for the list, this means that Python assigns a value of 1 to 'True' elements and a value of 0 to 'False' elements\n",
    "\n",
    "# Identifying the data type of the assigned eligible_sum variable\n",
    "eligible_sum = (np.sum(eligible_ls)) \n",
    "print(type(eligible_sum)) \n",
    "\n",
    "# Converting eligible_sum to an integer\n",
    "eligible_sum = int(eligible_sum)\n",
    "print(eligible_sum)\n",
    "print(type(eligible_sum))\n",
    "\n",
    "# Calculating the sample size of numbers which are outside the range [-1.96,1.96] \n",
    "\n",
    "# Method 1: Directly subtracting values in the range from the total sample size\n",
    "outside_range_n = 1000 - 937 \n",
    "print(outside_range_n)\n",
    "\n",
    "# Method 2: Converting True and False to 1 and 0, respectively, then switching these assignments and adding the sum\n",
    "print(eligible_ls.count(False)) \n",
    "\n"
   ]
  },
  {
   "cell_type": "markdown",
   "metadata": {},
   "source": [
    "## 3. For-Loops + Plotting (5')\n",
    "\n",
    "- Create an array of x-values with all the integers between 1 and 5, denoted as `x_vec`. Do not manually write out $1,2,\\cdots,5$. (1')\n",
    "- Create a vector ```y1_vec``` where each element is computed from the formula $ y_1 = x^2 + x^{-2}$. (1')\n",
    "- Create a vector ```y2_vec``` where each element is computed from the formula $ y_2 = \\log(x)$. (1')\n",
    "- Create an object ```list_vectors``` with elements ```vec_y1``` and ```vec_y2```.\n",
    "- Create a for-loop that goes through each element of ```list_vectors``` and plots each list of $y$ values against $x$. (2')\n",
    "\n",
    "Note: The final output should be a 2 dimensional scatter plot with two sets of points, with the $y_1$ and $y_2$ on the vertical axis, and the $x$ values on the horizontal axis. X-axes are labelled as `x`. Y-axes are labelled as `y1` and `y2`, respectively. Titles are labelled as `Scatterplot 1` and `Scatterplot 2`, respectively. Those labeling process should be written inside the for loop for automation workflows."
   ]
  },
  {
   "cell_type": "code",
   "execution_count": 92,
   "metadata": {},
   "outputs": [
    {
     "name": "stdout",
     "output_type": "stream",
     "text": [
      "[1 2 3 4 5]\n",
      "1.0986122886681098\n",
      "[np.float64(2.0), np.float64(4.25), np.float64(9.11111111111111), np.float64(16.0625), np.float64(25.04)]\n",
      "[np.float64(0.0), np.float64(0.3010299956639812), np.float64(0.47712125471966244), np.float64(0.6020599913279624), np.float64(0.6989700043360189)]\n"
     ]
    }
   ],
   "source": [
    "# Write your own code\n",
    "x_vec = np.arange(1,6) # array starting from 1 but not including 6 (includes the integers from 1 to 5)\n",
    "print(x_vec) \n",
    "\n",
    "y1_vec = []\n",
    "y2_vec = [] \n",
    "\n",
    "list_vectors = y1_vec + y2_vec\n",
    "\n",
    "for id_iter, x_vec in enumerate(x_vec):\n",
    "    y1_vec.append((x_vec ** 2) + (1/(x_vec ** 2))) \n",
    "    y2_vec.append(np.log10(x_vec))\n",
    "    id_iter += 1\n",
    "\n",
    "print(np.log(3))\n",
    "print(y1_vec) \n",
    "print(y2_vec) \n",
    "\n"
   ]
  },
  {
   "cell_type": "markdown",
   "metadata": {},
   "source": [
    "## 4. While Loops (5')\n",
    "\n",
    "Write a program to generate the Fibonacci sequence between $0$ and $1000$.<br>\n",
    "A Fibonacci sequence is a sequence in which each element is the sum of the two elements that precede it.\n",
    "Define initial values `a=0, b=1`, then the next value is `a+b=1`, so on.\n",
    "The first six values of a Fibonacci sequence given the above initialization is `0,1,1,2,3,5`.\n",
    "\n",
    "- Create a list `f_ls` that saves the first two initialized values $0$ and $1$.\n",
    "- Create a `count_id` that can evaluate the last element of the list `f_ls` and define the value as 1. \n",
    "    - Q: Why do we initialize `count_id` as 1 here?\n",
    "    - (**Note for TA:** (1') for initialization `f_ls` and `count_id`)\n",
    "- The condition for the while loop is to evaluate whether the last element of `f_ls` is smaller than $1000$. (1')\n",
    "- If we pass the while condition, we use the `append` function to compute the next element by summing up the previous two elements. (1')\n",
    "- Remember to increase `count_id` by 1. (1')\n",
    "- Print out the final list. Make sure the largest value is smaller than $1000$. (1')"
   ]
  },
  {
   "cell_type": "code",
   "execution_count": 4,
   "metadata": {},
   "outputs": [],
   "source": [
    "# Write your own code\n",
    "a = 0\n",
    "b = 1  \n",
    "\n",
    "while f_ls[-1] < 1000:\n",
    "    \n",
    "\n",
    "count_id += 1"
   ]
  }
 ],
 "metadata": {
  "kernelspec": {
   "display_name": "Python 3 (ipykernel)",
   "language": "python",
   "name": "python3"
  },
  "language_info": {
   "codemirror_mode": {
    "name": "ipython",
    "version": 3
   },
   "file_extension": ".py",
   "mimetype": "text/x-python",
   "name": "python",
   "nbconvert_exporter": "python",
   "pygments_lexer": "ipython3",
   "version": "3.13.7"
  }
 },
 "nbformat": 4,
 "nbformat_minor": 4
}
