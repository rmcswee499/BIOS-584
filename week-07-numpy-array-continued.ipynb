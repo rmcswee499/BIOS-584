{
 "cells": [
  {
   "attachments": {},
   "cell_type": "markdown",
   "metadata": {},
   "source": [
    "# Week 07: NumPy Arrays (Cont'ed)"
   ]
  },
  {
   "attachments": {},
   "cell_type": "markdown",
   "metadata": {},
   "source": [
    "## 0. Import Libraries "
   ]
  },
  {
   "cell_type": "code",
   "execution_count": 1,
   "metadata": {},
   "outputs": [],
   "source": [
    "# the \"pandas\" library is for manipualting datasets\n",
    "import pandas as pd\n",
    "import numpy as np\n",
    "import matplotlib.pyplot as plt\n",
    "np.random.seed(100)"
   ]
  },
  {
   "cell_type": "markdown",
   "metadata": {},
   "source": [
    "## 1. Broadcasting"
   ]
  },
  {
   "cell_type": "code",
   "execution_count": 7,
   "metadata": {},
   "outputs": [
    {
     "name": "stdout",
     "output_type": "stream",
     "text": [
      "(3, 4)\n",
      "(3, 4)\n",
      "[[1.98092086 1.05994199 1.89054594 1.5769015 ]\n",
      " [1.74247969 1.63018394 1.58184219 1.02043913]\n",
      " [1.21002658 1.54468488 1.76911517 1.25069523]]\n",
      "(3, 4)\n"
     ]
    },
    {
     "ename": "NameError",
     "evalue": "name 'x' is not defined",
     "output_type": "error",
     "traceback": [
      "\u001b[31m---------------------------------------------------------------------------\u001b[39m",
      "\u001b[31mNameError\u001b[39m                                 Traceback (most recent call last)",
      "\u001b[36mCell\u001b[39m\u001b[36m \u001b[39m\u001b[32mIn[7]\u001b[39m\u001b[32m, line 17\u001b[39m\n\u001b[32m     14\u001b[39m \u001b[38;5;28mprint\u001b[39m(z.shape)\n\u001b[32m     16\u001b[39m \u001b[38;5;28;01mdel\u001b[39;00m x, y, z\n\u001b[32m---> \u001b[39m\u001b[32m17\u001b[39m \u001b[38;5;28mprint\u001b[39m(\u001b[43mx\u001b[49m)\n",
      "\u001b[31mNameError\u001b[39m: name 'x' is not defined"
     ]
    }
   ],
   "source": [
    "# 1.1.Initialize a 3x4 array of ones and assign it to the variable `x`\n",
    "x = np.ones([3,4])\n",
    "\n",
    "# print the shape of the array `x`\n",
    "print(x.shape)\n",
    "\n",
    "# Initialize a 3x4 array of random numbers and assign it to the variable `y`\n",
    "y = np.random.random((3,4))\n",
    "print(y.shape) \n",
    "\n",
    "# element-wise addition z = x+y\n",
    "z = x + y\n",
    "print(z)\n",
    "print(z.shape)\n",
    "\n",
    "# deletes x, y and z from the memory\n",
    "del x, y, z"
   ]
  },
  {
   "cell_type": "code",
   "execution_count": 10,
   "metadata": {},
   "outputs": [
    {
     "name": "stdout",
     "output_type": "stream",
     "text": [
      "[[[1.31306644 1.63403668 1.54040458 1.29679375]\n",
      "  [1.31306644 1.63403668 1.54040458 1.29679375]\n",
      "  [1.31306644 1.63403668 1.54040458 1.29679375]]\n",
      "\n",
      " [[1.1107879  1.3126403  1.45697913 1.65894007]\n",
      "  [1.1107879  1.3126403  1.45697913 1.65894007]\n",
      "  [1.1107879  1.3126403  1.45697913 1.65894007]]\n",
      "\n",
      " [[1.25425752 1.64110126 1.20012361 1.65762481]\n",
      "  [1.25425752 1.64110126 1.20012361 1.65762481]\n",
      "  [1.25425752 1.64110126 1.20012361 1.65762481]]\n",
      "\n",
      " [[1.77828922 1.7795984  1.61032815 1.30900035]\n",
      "  [1.77828922 1.7795984  1.61032815 1.30900035]\n",
      "  [1.77828922 1.7795984  1.61032815 1.30900035]]\n",
      "\n",
      " [[1.69773491 1.8596183  1.62532376 1.98240783]\n",
      "  [1.69773491 1.8596183  1.62532376 1.98240783]\n",
      "  [1.69773491 1.8596183  1.62532376 1.98240783]]]\n",
      "(5, 3, 4)\n"
     ]
    }
   ],
   "source": [
    "# 1.2. Initialize `x` and `y`\n",
    "x = np.ones((3,4))\n",
    "y = np.random.random((5,1,4))\n",
    "\n",
    "z = x + y\n",
    "print(z)\n",
    "print(z.shape)"
   ]
  },
  {
   "cell_type": "code",
   "execution_count": 11,
   "metadata": {},
   "outputs": [
    {
     "ename": "ValueError",
     "evalue": "operands could not be broadcast together with shapes (3,4) (5,2,4) ",
     "output_type": "error",
     "traceback": [
      "\u001b[31m---------------------------------------------------------------------------\u001b[39m",
      "\u001b[31mValueError\u001b[39m                                Traceback (most recent call last)",
      "\u001b[36mCell\u001b[39m\u001b[36m \u001b[39m\u001b[32mIn[11]\u001b[39m\u001b[32m, line 5\u001b[39m\n\u001b[32m      2\u001b[39m x = np.ones((\u001b[32m3\u001b[39m,\u001b[32m4\u001b[39m))\n\u001b[32m      3\u001b[39m y = np.random.random((\u001b[32m5\u001b[39m,\u001b[32m2\u001b[39m,\u001b[32m4\u001b[39m))\n\u001b[32m----> \u001b[39m\u001b[32m5\u001b[39m z = \u001b[43mx\u001b[49m\u001b[43m \u001b[49m\u001b[43m+\u001b[49m\u001b[43m \u001b[49m\u001b[43my\u001b[49m\n",
      "\u001b[31mValueError\u001b[39m: operands could not be broadcast together with shapes (3,4) (5,2,4) "
     ]
    }
   ],
   "source": [
    "# 1.3. Initialize `x` and `y`\n",
    "x = np.ones((3,4))\n",
    "y = np.random.random((5,2,4))\n",
    "\n",
    "z = x + y"
   ]
  },
  {
   "cell_type": "code",
   "execution_count": 18,
   "metadata": {},
   "outputs": [
    {
     "name": "stdout",
     "output_type": "stream",
     "text": [
      "addition of x and y [[ 7  9 11]\n",
      " [ 9 11 13]]\n",
      "x - y [[-5 -5 -5]\n",
      " [-3 -3 -3]]\n",
      "x * y [[ 6 14 24]\n",
      " [18 28 40]]\n",
      "x / y [[0.16666667 0.28571429 0.375     ]\n",
      " [0.5        0.57142857 0.625     ]]\n"
     ]
    }
   ],
   "source": [
    "# 1.4. Initialize arrays\n",
    "x = np.array([[1, 2, 3], [3, 4, 5]]) # shape: (2,3)\n",
    "y = np.array([6, 7, 8]) # (3, ) -> (2,3)\n",
    "\n",
    "# Like running x + y\n",
    "z = np.add(x, y) \n",
    "print('addition of x and y {}'.format(z))\n",
    "\n",
    "z = np.subtract(x, y) \n",
    "print('x - y {}'.format(z))\n",
    "\n",
    "z = np.multiply(x, y) \n",
    "print('x * y {}'.format(z)) \n",
    "\n",
    "z = np.divide(x, y) \n",
    "print('x / y {}'.format(z))"
   ]
  },
  {
   "cell_type": "code",
   "execution_count": 19,
   "metadata": {},
   "outputs": [
    {
     "name": "stdout",
     "output_type": "stream",
     "text": [
      "[ True  True False False]\n",
      "[ True False  True False]\n",
      "False\n",
      "[ True False False False]\n",
      "[ True  True  True False]\n",
      "[False False  True  True]\n"
     ]
    }
   ],
   "source": [
    "# 1.5. Initialize arrays\n",
    "a = np.array([1, 1, 0, 0], dtype=bool)\n",
    "b = np.array([1, 0, 1, 0], dtype=bool)\n",
    "\n",
    "print(a)\n",
    "print(b)\n",
    "\n",
    "print(np.array_equal(a, b)) # are the two arrays exactly the same\n",
    "\n",
    "print(np.logical_and(a, b)) # element wise comparison \n",
    "\n",
    "print(np.logical_or(a, b)) # element wise comparison\n",
    "\n",
    "print(np.logical_not(a)) # reverse true and false (1 and 0) for a"
   ]
  },
  {
   "cell_type": "markdown",
   "metadata": {},
   "source": [
    "## 2. Subsetting"
   ]
  },
  {
   "cell_type": "code",
   "execution_count": 20,
   "metadata": {},
   "outputs": [
    {
     "name": "stdout",
     "output_type": "stream",
     "text": [
      "2\n"
     ]
    }
   ],
   "source": [
    "# 2.1. Initialize 1D array\n",
    "my_array = np.array([1,2,3,4])\n",
    "\n",
    "# Print subsets\n",
    "print(my_array[1]) #print second element\n"
   ]
  },
  {
   "cell_type": "code",
   "execution_count": 22,
   "metadata": {},
   "outputs": [
    {
     "name": "stdout",
     "output_type": "stream",
     "text": [
      "7\n",
      "7\n"
     ]
    }
   ],
   "source": [
    "# 2.2. Initialize 2D array\n",
    "my_2d_array = np.array([[1,2,3,4], [5,6,7,8]], dtype=np.int64)\n",
    "\n",
    "# 1 print the first element in the second row\n",
    "print(my_2d_array[1][2])\n",
    "print(my_2d_array[1,2]) # recommended"
   ]
  },
  {
   "cell_type": "code",
   "execution_count": 24,
   "metadata": {},
   "outputs": [
    {
     "name": "stdout",
     "output_type": "stream",
     "text": [
      "[[[ 1  2  3  4]\n",
      "  [ 5  6  7  8]]\n",
      "\n",
      " [[ 1  2  3  4]\n",
      "  [ 9 10 11 12]]]\n",
      "11\n"
     ]
    }
   ],
   "source": [
    "# 2.3. Initialize 3D array\n",
    "my_3d_array = np.array([[[1,2,3,4], [5,6,7,8]], [[1,2,3,4], [9,10,11,12]]], dtype=np.int64)\n",
    "print(my_3d_array)\n",
    "\n",
    "print(my_3d_array[1,1,2])"
   ]
  },
  {
   "cell_type": "markdown",
   "metadata": {},
   "source": [
    "## 3. Slicing"
   ]
  },
  {
   "cell_type": "code",
   "execution_count": 26,
   "metadata": {},
   "outputs": [
    {
     "name": "stdout",
     "output_type": "stream",
     "text": [
      "[1 2]\n",
      "[1 2]\n"
     ]
    }
   ],
   "source": [
    "# 3.1. Initialize 1D array\n",
    "my_array = np.array([1,2,3,4])\n",
    "print(my_array[0:2]) \n",
    "print(my_array[:2])"
   ]
  },
  {
   "cell_type": "code",
   "execution_count": 36,
   "metadata": {},
   "outputs": [
    {
     "name": "stdout",
     "output_type": "stream",
     "text": [
      "[2 6]\n",
      "[2 6]\n",
      "[ 2  6 10]\n"
     ]
    }
   ],
   "source": [
    "# 3.2. Initialize 2D array\n",
    "my_2d_array = np.array([[1,2,3,4], [5,6,7,8], [9,10,11,12]], dtype=np.int64)\n",
    "print(my_2d_array[0:2,1]) # zero can be skipped\n",
    "print(my_2d_array[:2,1]) # selects values from first two rows in the second column\n",
    "print(my_2d_array[:,1]) # selects all rows in the second colums"
   ]
  },
  {
   "cell_type": "code",
   "execution_count": 30,
   "metadata": {},
   "outputs": [
    {
     "name": "stdout",
     "output_type": "stream",
     "text": [
      "[5 6 7 8]\n"
     ]
    }
   ],
   "source": [
    "# 3.3. the entire second row\n",
    "print(my_2d_array[1, :])"
   ]
  },
  {
   "cell_type": "code",
   "execution_count": 35,
   "metadata": {},
   "outputs": [
    {
     "name": "stdout",
     "output_type": "stream",
     "text": [
      "[[[ 1  2  3  4]\n",
      "  [ 5  6  7  8]]\n",
      "\n",
      " [[ 1  2  3  4]\n",
      "  [ 9 10 11 12]]]\n",
      "\n",
      "\n",
      "[[ 1  2  3  4]\n",
      " [ 9 10 11 12]]\n",
      "\n",
      "[[ 1  2  3  4]\n",
      " [ 9 10 11 12]]\n"
     ]
    }
   ],
   "source": [
    "# 3.4. Initialize 3D array\n",
    "my_3d_array = np.array([[[1,2,3,4], [5,6,7,8]], [[1,2,3,4], [9,10,11,12]]], dtype=np.int64)\n",
    "print(my_3d_array)\n",
    "print()\n",
    "print()\n",
    "# Print subset\n",
    "# We use : to select all elements along one dimension.\n",
    "# We use ... to select all elements along more than or equal to two dimensions.\n",
    "print(my_3d_array[1,...])\n",
    "print()\n",
    "print(my_3d_array[1,:,:]) #more tedious"
   ]
  },
  {
   "cell_type": "markdown",
   "metadata": {},
   "source": [
    "## 4. Indexing"
   ]
  },
  {
   "cell_type": "code",
   "execution_count": 42,
   "metadata": {},
   "outputs": [
    {
     "name": "stdout",
     "output_type": "stream",
     "text": [
      "[1 2]\n",
      "[[[False False  True  True]\n",
      "  [ True  True  True  True]]\n",
      "\n",
      " [[False False  True  True]\n",
      "  [ True  True  True  True]]]\n",
      "[ 3  4  5  6  7  8  3  4  9 10 11 12]\n",
      "\n"
     ]
    }
   ],
   "source": [
    "# 4.1. Boolean indexing\n",
    "my_array = np.array([1,2,3,4])\n",
    "my_3d_array = np.array([[[1,2,3,4], [5,6,7,8]], [[1,2,3,4], [9,10,11,12]]], dtype=np.int64)\n",
    "\n",
    "# Try out a simple example\n",
    "print(my_array[my_array<=2])\n",
    "\n",
    "# Specify a condition\n",
    "bigger_than_3 = (my_3d_array>=3)\n",
    "print(bigger_than_3)\n",
    "print(my_3d_array[bigger_than_3]) # 1-D array: just extracting numbers based on a given condition\n",
    "print()\n",
    "# Use the condition to index our 3d array\n"
   ]
  },
  {
   "cell_type": "code",
   "execution_count": 44,
   "metadata": {},
   "outputs": [
    {
     "name": "stdout",
     "output_type": "stream",
     "text": [
      "[[1 2 3 4]\n",
      " [5 6 7 8]]\n",
      "\n",
      "[5 2 7 1]\n"
     ]
    }
   ],
   "source": [
    "# 4.2. Fancy indexing (optional)\n",
    "my_array = np.array([1,2,3,4])\n",
    "my_2d_array = np.array([[1,2,3,4], [5,6,7,8]], dtype=np.int64)\n",
    "my_3d_array = np.array([[[1,2,3,4], [5,6,7,8]], [[1,2,3,4], [9,10,11,12]]], dtype=np.int64)\n",
    "\n",
    "# Select elements at (1,0), (0,1), (1,2) and (0,0)\n",
    "print(my_2d_array)\n",
    "print() \n",
    "print(my_2d_array[[1,0,1,0],[0,1,2,0]]) # element wise combination gives you the coordinates\n",
    "# In this case, the output above is reduced to a 1-dim array\n"
   ]
  },
  {
   "cell_type": "code",
   "execution_count": 46,
   "metadata": {},
   "outputs": [
    {
     "name": "stdout",
     "output_type": "stream",
     "text": [
      "[[5 6 7 8]\n",
      " [1 2 3 4]\n",
      " [5 6 7 8]\n",
      " [1 2 3 4]]\n"
     ]
    }
   ],
   "source": [
    "# 4.3. Select a subset of the rows and columns\n",
    "print(my_2d_array[[1,0,1,0]]) # second row, first row, second row, first row (gives you all columns)"
   ]
  },
  {
   "cell_type": "code",
   "execution_count": 50,
   "metadata": {},
   "outputs": [
    {
     "name": "stdout",
     "output_type": "stream",
     "text": [
      "[[5 6 7 5]\n",
      " [1 2 3 1]\n",
      " [5 6 7 5]\n",
      " [1 2 3 1]]\n"
     ]
    }
   ],
   "source": [
    "# 4.4. Select a subset of the rows and columns\n",
    "# What the second part, namely, [:,[0,1,2,0]], is tell you that \n",
    "# you want to keep all the rows of this result, \n",
    "# but that you want to change the order of the columns around a bit. \n",
    "# You want to display the columns 0, 1, and 2 as they are right now, \n",
    "# but you want to repeat column 0 as the last column instead of displaying column number 3.\n",
    "print(my_2d_array[[1,0,1,0]] [:,[0,1,2,0]])"
   ]
  },
  {
   "cell_type": "markdown",
   "metadata": {},
   "source": [
    "## 5. Transpose\n",
    "\n",
    "<font size='4'>\n",
    "\n",
    "- Transpose refers to permute the dimensions of the original array.\n",
    "- `np.transpose()` or `.T`"
   ]
  },
  {
   "cell_type": "code",
   "execution_count": 55,
   "metadata": {},
   "outputs": [
    {
     "name": "stdout",
     "output_type": "stream",
     "text": [
      "[[1 2 3 4]\n",
      " [5 6 7 8]]\n",
      "(2, 4)\n",
      "[[1 5]\n",
      " [2 6]\n",
      " [3 7]\n",
      " [4 8]]\n",
      "[[1 5]\n",
      " [2 6]\n",
      " [3 7]\n",
      " [4 8]]\n"
     ]
    }
   ],
   "source": [
    "# 5.1\n",
    "my_2d_array = np.array([[1,2,3,4], [5,6,7,8]], dtype=np.int64)\n",
    "\n",
    "# Print `my_2d_array`\n",
    "print(my_2d_array)\n",
    "print(my_2d_array.shape)\n",
    "# Transpose `my_2d_array`\n",
    "my_2d_array_t = np.transpose(my_2d_array)\n",
    "print(my_2d_array_t)\n",
    "# Or use `T` to transpose `my_2d_array`\n",
    "print(my_2d_array.T)\n",
    "\n",
    "# 2x4 array becomes 4x2"
   ]
  },
  {
   "cell_type": "markdown",
   "metadata": {},
   "source": [
    "<font size='4'>\n",
    "- What if we transpose a 1-dim array?"
   ]
  },
  {
   "cell_type": "code",
   "execution_count": 56,
   "metadata": {},
   "outputs": [
    {
     "name": "stdout",
     "output_type": "stream",
     "text": [
      "[1 2 3 4]\n",
      "\n",
      "[1 2 3 4]\n"
     ]
    }
   ],
   "source": [
    "# 5.2\n",
    "my_array = np.array([1,2,3,4])\n",
    "print(my_array)\n",
    "print()\n",
    "# Transpose `my_2d_array\n",
    "\n",
    "# Or use `T` to transpose `my_2d_array\n",
    "print(my_array.T)"
   ]
  },
  {
   "cell_type": "markdown",
   "metadata": {},
   "source": [
    "## 6. Resize and Reshape\n",
    "<font size='4'>\n",
    "\n",
    "- Use `np.resize()` to modify the dimensions of the old array to make it compatible.\n",
    "- Two usages:\n",
    "- `arr_new = np.resize(arr_old, new_shape)`: Additional portion filled with copies of the original array\n",
    "- `arr_old.resize(new_shape)`: Additional portion filled with zeros (**No need to assign it to a new name**)"
   ]
  },
  {
   "cell_type": "code",
   "execution_count": 63,
   "metadata": {},
   "outputs": [
    {
     "name": "stdout",
     "output_type": "stream",
     "text": [
      "(2, 4)\n",
      "[[0.73299502 0.9024095  0.16224692 0.40588132]\n",
      " [0.41709074 0.69559103 0.42484724 0.85811423]\n",
      " [0.73299502 0.9024095  0.16224692 0.40588132]\n",
      " [0.41709074 0.69559103 0.42484724 0.85811423]\n",
      " [0.73299502 0.9024095  0.16224692 0.40588132]\n",
      " [0.41709074 0.69559103 0.42484724 0.85811423]]\n",
      "(6, 4)\n",
      "[[0.73299502 0.9024095  0.16224692 0.40588132]\n",
      " [0.41709074 0.69559103 0.42484724 0.85811423]\n",
      " [0.         0.         0.         0.        ]\n",
      " [0.         0.         0.         0.        ]\n",
      " [0.         0.         0.         0.        ]\n",
      " [0.         0.         0.         0.        ]]\n",
      "(6, 4)\n"
     ]
    }
   ],
   "source": [
    "# 6.1.\n",
    "x = np.random.random(size=(2,4))\n",
    "\n",
    "# Print the shape of `x`\n",
    "print(x.shape)\n",
    "# Resize `x` to ((6,4))\n",
    "x_resize = np.resize(x, (6,4)) \n",
    "print(x_resize)\n",
    "print(x_resize.shape)\n",
    "\n",
    "# Try out this as well\n",
    "x.resize(6,4) \n",
    "# Print out `x`\n",
    "print(x) \n",
    "print(x.shape)"
   ]
  },
  {
   "cell_type": "markdown",
   "metadata": {},
   "source": [
    "<font size='4'>\n",
    "\n",
    "- Reshape, on the other hand, assigns a new shape to an array without changing its data.\n",
    "- The total size of the new array is unchanged.\n",
    "    - Use `arr.size` to export the size.\n",
    "    - This is an **attribute**, so no round brackets after it because we cannot modify it."
   ]
  },
  {
   "cell_type": "code",
   "execution_count": 68,
   "metadata": {},
   "outputs": [
    {
     "name": "stdout",
     "output_type": "stream",
     "text": [
      "[0.32088173 0.07352706 0.06088456 0.11140632 0.16926891 0.62768628\n",
      " 0.43839309 0.83090376]\n",
      "\n",
      "[[0.32088173 0.07352706 0.06088456 0.11140632]\n",
      " [0.16926891 0.62768628 0.43839309 0.83090376]]\n",
      "\n",
      "[[0.32088173 0.07352706 0.06088456 0.11140632]\n",
      " [0.16926891 0.62768628 0.43839309 0.83090376]]\n",
      "(2, 4)\n",
      "\n",
      "[[[0.32088173 0.07352706]\n",
      "  [0.06088456 0.11140632]]\n",
      "\n",
      " [[0.16926891 0.62768628]\n",
      "  [0.43839309 0.83090376]]]\n",
      "\n"
     ]
    }
   ],
   "source": [
    "# 6.2. Initialize array with a size of 8.\n",
    "x = np.random.random(size=8)\n",
    "print(x)\n",
    "print() \n",
    "\n",
    "x_reshape = np.reshape(x, shape=(2,4))\n",
    "print(x_reshape)\n",
    "print() \n",
    "\n",
    "x_reshape_2 = x.reshape([2,4])\n",
    "print(x_reshape_2)\n",
    "print(x_reshape_2.shape) \n",
    "print()\n",
    "# finds first four elements: first row in the four columns \n",
    "\n",
    "x_reshape_3d = np.reshape(x, shape=(2,2,2))\n",
    "print(x_reshape_3d)\n",
    "print() "
   ]
  },
  {
   "cell_type": "markdown",
   "metadata": {},
   "source": [
    "## 7. Append"
   ]
  },
  {
   "cell_type": "markdown",
   "metadata": {},
   "source": [
    "<font size='4'>\n",
    "\n",
    "- Similar to a list, you can append an array to the original one.\n",
    "- The new array is \"glued\" to the end of that original array.\n",
    "- General syntax: `arr_new = np.append(arr_old, small_arr_new, axis=axis_num)`.\n",
    "    - Note that the axis option makes a difference!\n",
    "- The following example can help you understand the role of `axis`.\n",
    "- <span style=\"color: red;\">From now on, you will start to do perform arithmetics along a certain **axis**.</span>\n",
    "- This may sound confusing in the first place. But you should be able to understand the fundamental principles through examples and HW."
   ]
  },
  {
   "cell_type": "code",
   "execution_count": 74,
   "metadata": {},
   "outputs": [
    {
     "name": "stdout",
     "output_type": "stream",
     "text": [
      "[1 2 3 4]\n",
      "\n",
      "\n",
      "[ 1  2  3  4  7  8  9 10]\n",
      "[1 2 3 4]\n"
     ]
    }
   ],
   "source": [
    "# 7.1.\n",
    "my_array = np.array([1,2,3,4])\n",
    "print(my_array)\n",
    "print()\n",
    "# Append a 1D array to `my_array`\n",
    "new_array = np.append(my_array, [7,8,9,10])\n",
    "print()\n",
    "# Print `new_array`\n",
    "new_array = np.append(my_array, [7,8,9,10], axis = 0)\n",
    "print(new_array)\n",
    "# Print `my_array` after appending\n",
    "print(my_array)"
   ]
  },
  {
   "cell_type": "code",
   "execution_count": 76,
   "metadata": {},
   "outputs": [
    {
     "name": "stdout",
     "output_type": "stream",
     "text": [
      "[[1 2 3 4]\n",
      " [5 6 7 8]]\n",
      "\n"
     ]
    }
   ],
   "source": [
    "# 7.2. 2-dimensional array\n",
    "my_array = np.array([[1,2,3,4], [5,6,7,8]])\n",
    "print(my_array)\n",
    "print()\n",
    "# Print `new_array`\n",
    "new_array = np.append(my_array, [[7,8,9,10]], axis=0) #need double square brackets to make it a 2d array"
   ]
  },
  {
   "cell_type": "code",
   "execution_count": 78,
   "metadata": {},
   "outputs": [
    {
     "name": "stdout",
     "output_type": "stream",
     "text": [
      "[[ 1  2  3  4]\n",
      " [ 5  6  7  8]\n",
      " [ 9 10 11 12]]\n"
     ]
    }
   ],
   "source": [
    "# 7.3. Your input arrays have to have the same structure. my_array is 2-dim array, while [9, 10, 11, 12] is a 1-dim array.\n",
    "# They are NOT compatible, so they cannot be appended on axis=0.\n",
    "new_array = np.append(my_array, [[9,10,11,12]], axis=0) \n",
    "# Print `new_array`\n",
    "print(new_array)"
   ]
  },
  {
   "cell_type": "code",
   "execution_count": 82,
   "metadata": {},
   "outputs": [],
   "source": [
    "# 7.4. Your input arrays have to have the same structure. my_array is 2-dim array, while [9, 10, 11, 12] is a 1-dim array.\n",
    "# They are NOT compatible, so they cannot be appended on axis=1.\n",
    "#new_array = np.append(my_array, [9,10,11,12], axis=1)\n",
    "# Print `new_array`\n",
    "#print(new_array)"
   ]
  },
  {
   "cell_type": "code",
   "execution_count": 81,
   "metadata": {},
   "outputs": [
    {
     "name": "stdout",
     "output_type": "stream",
     "text": [
      "[ 1  2  3  4  5  6  7  8  9 10 11 12]\n"
     ]
    }
   ],
   "source": [
    "# 7.5. One exception is when axis=None. It forces all input arrays to be 1d and concatenated together.\n",
    "new_array = np.append(my_array, [9,10,11,12], axis=None)\n",
    "# Print `new_array`\n",
    "print(new_array)"
   ]
  },
  {
   "cell_type": "code",
   "execution_count": 84,
   "metadata": {},
   "outputs": [
    {
     "name": "stdout",
     "output_type": "stream",
     "text": [
      "[[ 1  2  3  4]\n",
      " [ 5  6  7  8]\n",
      " [ 9 10 11 12]\n",
      " [13 14 15 16]]\n"
     ]
    }
   ],
   "source": [
    "# 7.6.\n",
    "new_array = np.append(my_array, [[9,10,11,12],[13,14,15,16]], axis=0) # axis = 0 gives more rows\n",
    "# Print `new_array`\n",
    "print(new_array)"
   ]
  },
  {
   "cell_type": "code",
   "execution_count": 85,
   "metadata": {},
   "outputs": [
    {
     "name": "stdout",
     "output_type": "stream",
     "text": [
      "[[ 1  2  3  4  9 10 11 12]\n",
      " [ 5  6  7  8 13 14 15 16]]\n"
     ]
    }
   ],
   "source": [
    "# 7.7\n",
    "new_array = np.append(my_array, [[9,10,11,12],[13,14,15,16]], axis=1) # axis = 1 gives more columns\n",
    "# Print `new_array`\n",
    "print(new_array)"
   ]
  },
  {
   "cell_type": "code",
   "execution_count": 88,
   "metadata": {},
   "outputs": [],
   "source": [
    "# 7.8 - running this chunk will not work\n",
    "#new_array = np.append(my_array, [[9,10,11],[12,14,15]], axis=0) # gives error because the array you're trying to append is the wrong shape\n",
    "# Print `new_array`\n",
    "#print(new_array)"
   ]
  },
  {
   "cell_type": "code",
   "execution_count": 90,
   "metadata": {},
   "outputs": [
    {
     "name": "stdout",
     "output_type": "stream",
     "text": [
      "[[ 1  2  3  4  9 10 11]\n",
      " [ 5  6  7  8 12 14 15]]\n"
     ]
    }
   ],
   "source": [
    "# 7.9\n",
    "new_array = np.append(my_array, [[9,10,11],[12,14,15]], axis=1)\n",
    "# Print `new_array`\n",
    "print(new_array)"
   ]
  },
  {
   "cell_type": "markdown",
   "metadata": {},
   "source": [
    "## 8. Insert and Delete\n",
    "\n",
    "<font size='4'>\n",
    "\n",
    "- `np.insert(arr, obj, values, axis=None)`\n",
    "- `np.delete(arr, obj, axis=None)`\n",
    "- `obj` is sort of an index location, which supports slicing, int, numpy array, and boolean."
   ]
  },
  {
   "cell_type": "code",
   "execution_count": 93,
   "metadata": {},
   "outputs": [
    {
     "name": "stdout",
     "output_type": "stream",
     "text": [
      "[1 2 3 4]\n",
      "\n",
      "[1 5 2 3 4]\n",
      "\n",
      "[1 3 4]\n"
     ]
    }
   ],
   "source": [
    "# 8.1.\n",
    "my_array = np.array([1,2,3,4])\n",
    "print(my_array)\n",
    "print()\n",
    "# Insert `5` at index 1\n",
    "my_array_2 = np.insert(my_array, 1, 5)\n",
    "print(my_array_2)\n",
    "print()\n",
    "# Delete the value at index 1\n",
    "my_array_3 = np.delete(my_array, 1) # [1] is okay\n",
    "print(my_array_3)"
   ]
  },
  {
   "cell_type": "code",
   "execution_count": 98,
   "metadata": {},
   "outputs": [
    {
     "name": "stdout",
     "output_type": "stream",
     "text": [
      "[[1. 2. 3. 4.]\n",
      " [5. 6. 7. 8.]]\n",
      "\n",
      "[[1.  1.5 2.  3.  4. ]\n",
      " [5.  2.5 6.  7.  8. ]]\n",
      "\n",
      "[[1. 2. 4.]\n",
      " [5. 6. 8.]]\n"
     ]
    }
   ],
   "source": [
    "# 8.2.\n",
    "my_2d_array = np.array([[1,2,3,4], [5,6,7,8]], dtype=np.float64)\n",
    "print(my_2d_array)\n",
    "print()\n",
    "my_2d_array_2 = np.insert(my_2d_array, 1, [[1.5,2.5]], axis=1) # Dimensions need to be the same along the axis you are adding it to\n",
    "print(my_2d_array_2)\n",
    "print()\n",
    "my_2d_array_3 = np.delete(my_2d_array, 2, axis=1) # deleting the third column\n",
    "print(my_2d_array_3)"
   ]
  },
  {
   "cell_type": "code",
   "execution_count": 99,
   "metadata": {},
   "outputs": [
    {
     "name": "stdout",
     "output_type": "stream",
     "text": [
      "[[5. 6. 7. 8.]]\n"
     ]
    }
   ],
   "source": [
    "# 8.3.\n",
    "my_2d_array_3 = np.delete(my_2d_array, 0, axis=0)\n",
    "print(my_2d_array_3)"
   ]
  },
  {
   "cell_type": "code",
   "execution_count": 102,
   "metadata": {},
   "outputs": [
    {
     "name": "stdout",
     "output_type": "stream",
     "text": [
      "[[-1. -2. -3. -4.]\n",
      " [ 1.  2.  3.  4.]\n",
      " [ 5.  6.  7.  8.]]\n",
      "\n",
      "\n",
      "[[1. 4.]\n",
      " [5. 8.]]\n"
     ]
    }
   ],
   "source": [
    "# 8.4.\n",
    "my_2d_array_2 = np.insert(my_2d_array, 0, [-1,-2,-3,-4], axis=0)\n",
    "print(my_2d_array_2)\n",
    "print()\n",
    "# print(my_2d_array_3)\n",
    "print()\n",
    "my_2d_array_3 = np.delete(my_2d_array, np.arange(1,3), axis=1) # Deletes the second and third column \n",
    "#(end value not included for np.arange)\n",
    "print(my_2d_array_3)"
   ]
  },
  {
   "cell_type": "markdown",
   "metadata": {},
   "source": [
    "## 9. Join and split arrays\n",
    "\n",
    "<font size='4'>\n",
    "    "
   ]
  },
  {
   "cell_type": "code",
   "execution_count": 106,
   "metadata": {},
   "outputs": [
    {
     "name": "stdout",
     "output_type": "stream",
     "text": [
      "[1. 1. 1. 1.]\n",
      "\n",
      "[1. 2. 3. 4. 1. 1. 1. 1.]\n",
      "\n",
      "[[1. 2. 3. 4.]\n",
      " [1. 1. 1. 1.]]\n",
      "\n",
      "[[1. 1.]\n",
      " [2. 1.]\n",
      " [3. 1.]\n",
      " [4. 1.]]\n"
     ]
    }
   ],
   "source": [
    "# 9.1.\n",
    "x = np.ones((4,))\n",
    "print(x)\n",
    "print()\n",
    "my_array = np.array([1,2,3,4])\n",
    "my_resized_array=np.resize(my_array,(2,4))\n",
    "my_2d_array = np.array([[1,2,3,4], [5,6,7,8]], dtype=np.int64)\n",
    "\n",
    "# Concatentate `my_array` and `x`\n",
    "print(np.concatenate([my_array, x], axis=0)) \n",
    "print()\n",
    "print(np.stack([my_array, x], axis=0))\n",
    "print()\n",
    "print(np.stack([my_array,x], axis=1))"
   ]
  },
  {
   "cell_type": "code",
   "execution_count": 9,
   "metadata": {},
   "outputs": [],
   "source": [
    "# 9.2. Stack arrays row-wise\n"
   ]
  },
  {
   "cell_type": "code",
   "execution_count": 18,
   "metadata": {},
   "outputs": [],
   "source": [
    "# 9.3.\n",
    "my_array = np.array([1,2,3,4])\n",
    "my_resized_array=np.resize(my_array,(2,4))\n",
    "my_2d_array = np.array([[1,2,3,4], [5,6,7,8]], dtype=np.int64)\n",
    "\n",
    "# if the second argument is an integer, it will split the array into an N equal sub-arrays\n",
    "# Split `my_stacked_array` horizontally into two equal sub-arrays\n",
    "\n",
    "# Split `my_stacked_array` vertically into two equal sub-arrays\n"
   ]
  },
  {
   "cell_type": "code",
   "execution_count": 11,
   "metadata": {},
   "outputs": [],
   "source": [
    "# 9.4. Use indices in the form of a numpy array\n"
   ]
  },
  {
   "cell_type": "markdown",
   "metadata": {},
   "source": [
    "## 10. Visualize NumPy Arrays\n",
    "<font size='4'>\n",
    "\n",
    "- `np.hist()` or `np.histogram()`\n",
    "- Scatter plot (One continuous vs another continuous)\n",
    "- `np.meshgrid()` (HW7)"
   ]
  },
  {
   "cell_type": "code",
   "execution_count": 107,
   "metadata": {},
   "outputs": [
    {
     "data": {
      "image/png": "[encoded data removed]",
      "text/plain": [
       "<Figure size 640x480 with 2 Axes>"
      ]
     },
     "metadata": {},
     "output_type": "display_data"
    }
   ],
   "source": [
    "# Create an array\n",
    "points = np.arange(-5, 5, 0.01)\n",
    "\n",
    "# Make a meshgrid\n",
    "xs, ys = np.meshgrid(points, points) #Creates pairs of coordinates \n",
    "z = np.sqrt(xs ** 2 + ys ** 2) \n",
    "\n",
    "# Display the image on the axes\n",
    "plt.imshow(z, cmap=plt.cm.gray) # Visualize z to present data in a two-dimensional way\n",
    "\n",
    "# Draw a color bar\n",
    "plt.colorbar()\n",
    "\n",
    "# Show the plot\n",
    "plt.show() \n",
    "\n",
    "#Can use to visualize covariance matrix, a countour plot, etc."
   ]
  },
  {
   "cell_type": "code",
   "execution_count": null,
   "metadata": {},
   "outputs": [],
   "source": []
  }
 ],
 "metadata": {
  "kernelspec": {
   "display_name": "Python 3 (ipykernel)",
   "language": "python",
   "name": "python3"
  },
  "language_info": {
   "codemirror_mode": {
    "name": "ipython",
    "version": 3
   },
   "file_extension": ".py",
   "mimetype": "text/x-python",
   "name": "python",
   "nbconvert_exporter": "python",
   "pygments_lexer": "ipython3",
   "version": "3.13.7"
  },
  "vscode": {
   "interpreter": {
    "hash": "45fc1f684f6f416f40889115beff3ddf69879b64cf4bfee48cb72a61e9d15d1a"
   }
  }
 },
 "nbformat": 4,
 "nbformat_minor": 4
}
