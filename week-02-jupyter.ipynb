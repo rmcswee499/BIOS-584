{
 "cells": [
  {
   "attachments": {},
   "cell_type": "markdown",
   "metadata": {},
   "source": [
    "# Lecture 02: Basic Jupyter Notebooks "
   ]
  },
  {
   "cell_type": "markdown",
   "metadata": {},
   "source": [
    "<font size=\"4\"> \n",
    "\n",
    "The basic structure for running Python for data projects\n",
    "<img src=\"figures/project_flow.png\" alt=\"drawing\" width=\"800\"/>\n",
    "- Python is a general purpose language\n",
    "- Researchers and practitioners add new functionalities all the time\n",
    "- New features are included as libraries on top of the \"basic\" installation\n",
    "\n",
    "***"
   ]
  },
  {
   "cell_type": "markdown",
   "metadata": {},
   "source": [
    "## Preliminaries \n",
    "\n",
    "<font size=\"4\"> \n",
    "\n",
    "- A Virtual Environment is a **directory** (folder in your computer) <br>\n",
    "that contains a specific **collection of packages**  <br>\n",
    "This is the *.venv* when you create or open a PyCharm project.\n",
    "\n",
    "- A package is a folder containing a set of Python scripts or <br>\n",
    "modules which allow you to accomplish a defined task <br> \n",
    "(visualisation, analysis, mathematical operations, etc.)"
   ]
  },
  {
   "cell_type": "markdown",
   "metadata": {},
   "source": [
    "## Setup Working Environment\n",
    "\n",
    "<font size=\"4\"> \n",
    "\n",
    "![](figures/python_kernel.png)\n",
    "\n",
    "- If you see Python 3 (ipykernel), you are good to go. <br>\n",
    "- Otherwise, go to Kernel -> Change Kernel -> Select Python 3 (ipykernel).\n"
   ]
  },
  {
   "cell_type": "markdown",
   "metadata": {},
   "source": [
    "<font size = \"4\">\n",
    "\n",
    "(a) Import Packages:\n",
    "\n",
    "- Jupyter notebooks launches with very basic options\n",
    "- Install packages using the PyCharm Python Interpreter covered last lecture\n",
    "\n",
    " For recent version of PyCharm, there is a shortcut to install packages:\n",
    " <img src=\"figures/pycharm_shortcut_package.png\" alt=\"drawing\" width=\"800\"/>\n",
    "\n",
    ">  Click \"Python packages\" icon ->\n",
    ">  Search for the package ->\n",
    ">  Specify the version number ->\n",
    ">  Click \"install\". \n",
    "\n",
    "Please wait until the progress bar on the bottom right is clear. You can refresh the Jupyter notebook if you do not see the changes immediately.\n",
    "\n",
    "- The \"import\" command adds libraries to the working enviroment. \n",
    "- We can give the libraries a nickname with \"as\"\n",
    "\n",
    "\n",
    "\n",
    "```matplotlib``` allows us to do nice graphs in Python <br>\n",
    "``` pandas ``` allows us to work with datasets"
   ]
  },
  {
   "cell_type": "markdown",
   "metadata": {},
   "source": [
    "### Practice:\n",
    "<font size = \"4\">\n",
    "    \n",
    "- <span style=\"color: red;\">Try installing a new pacakge *scipy* using the shortcut approach.</span>\n",
    "    "
   ]
  },
  {
   "cell_type": "code",
   "execution_count": 1,
   "metadata": {},
   "outputs": [
    {
     "ename": "ModuleNotFoundError",
     "evalue": "No module named 'pandas._libs.groupby'",
     "output_type": "error",
     "traceback": [
      "\u001B[31m---------------------------------------------------------------------------\u001B[39m",
      "\u001B[31mModuleNotFoundError\u001B[39m                       Traceback (most recent call last)",
      "\u001B[36mCell\u001B[39m\u001B[36m \u001B[39m\u001B[32mIn[1]\u001B[39m\u001B[32m, line 8\u001B[39m\n\u001B[32m      1\u001B[39m \u001B[38;5;66;03m# Notes about nicknames:\u001B[39;00m\n\u001B[32m      2\u001B[39m \u001B[38;5;66;03m# - For example, \"matplotlib.pyplot\" is a long name. Let's call it \"plt\"\u001B[39;00m\n\u001B[32m      3\u001B[39m \u001B[38;5;66;03m# - Similarly, let's call \"pandas\" as \"pd\"\u001B[39;00m\n\u001B[32m      4\u001B[39m \u001B[38;5;66;03m# - Try adding your own nickname!\u001B[39;00m\n\u001B[32m      5\u001B[39m \u001B[38;5;66;03m# - To avoid errors, be consistent with your nicknames\u001B[39;00m\n\u001B[32m      7\u001B[39m \u001B[38;5;28;01mimport\u001B[39;00m\u001B[38;5;250m \u001B[39m\u001B[34;01mmatplotlib\u001B[39;00m\u001B[34;01m.\u001B[39;00m\u001B[34;01mpyplot\u001B[39;00m\u001B[38;5;250m \u001B[39m\u001B[38;5;28;01mas\u001B[39;00m\u001B[38;5;250m \u001B[39m\u001B[34;01mplt\u001B[39;00m\n\u001B[32m----> \u001B[39m\u001B[32m8\u001B[39m \u001B[38;5;28;01mimport\u001B[39;00m\u001B[38;5;250m \u001B[39m\u001B[34;01mpandas\u001B[39;00m\u001B[38;5;250m \u001B[39m\u001B[38;5;28;01mas\u001B[39;00m\u001B[38;5;250m \u001B[39m\u001B[34;01mpd\u001B[39;00m\n",
      "\u001B[36mFile \u001B[39m\u001B[32m~/Documents/GitHub/BIOS-584/.venv/lib/python3.13/site-packages/pandas/__init__.py:49\u001B[39m\n\u001B[32m     46\u001B[39m \u001B[38;5;66;03m# let init-time option registration happen\u001B[39;00m\n\u001B[32m     47\u001B[39m \u001B[38;5;28;01mimport\u001B[39;00m\u001B[38;5;250m \u001B[39m\u001B[34;01mpandas\u001B[39;00m\u001B[34;01m.\u001B[39;00m\u001B[34;01mcore\u001B[39;00m\u001B[34;01m.\u001B[39;00m\u001B[34;01mconfig_init\u001B[39;00m  \u001B[38;5;66;03m# pyright: ignore[reportUnusedImport] # noqa: F401\u001B[39;00m\n\u001B[32m---> \u001B[39m\u001B[32m49\u001B[39m \u001B[38;5;28;01mfrom\u001B[39;00m\u001B[38;5;250m \u001B[39m\u001B[34;01mpandas\u001B[39;00m\u001B[34;01m.\u001B[39;00m\u001B[34;01mcore\u001B[39;00m\u001B[34;01m.\u001B[39;00m\u001B[34;01mapi\u001B[39;00m\u001B[38;5;250m \u001B[39m\u001B[38;5;28;01mimport\u001B[39;00m (\n\u001B[32m     50\u001B[39m     \u001B[38;5;66;03m# dtype\u001B[39;00m\n\u001B[32m     51\u001B[39m     ArrowDtype,\n\u001B[32m     52\u001B[39m     Int8Dtype,\n\u001B[32m     53\u001B[39m     Int16Dtype,\n\u001B[32m     54\u001B[39m     Int32Dtype,\n\u001B[32m     55\u001B[39m     Int64Dtype,\n\u001B[32m     56\u001B[39m     UInt8Dtype,\n\u001B[32m     57\u001B[39m     UInt16Dtype,\n\u001B[32m     58\u001B[39m     UInt32Dtype,\n\u001B[32m     59\u001B[39m     UInt64Dtype,\n\u001B[32m     60\u001B[39m     Float32Dtype,\n\u001B[32m     61\u001B[39m     Float64Dtype,\n\u001B[32m     62\u001B[39m     CategoricalDtype,\n\u001B[32m     63\u001B[39m     PeriodDtype,\n\u001B[32m     64\u001B[39m     IntervalDtype,\n\u001B[32m     65\u001B[39m     DatetimeTZDtype,\n\u001B[32m     66\u001B[39m     StringDtype,\n\u001B[32m     67\u001B[39m     BooleanDtype,\n\u001B[32m     68\u001B[39m     \u001B[38;5;66;03m# missing\u001B[39;00m\n\u001B[32m     69\u001B[39m     NA,\n\u001B[32m     70\u001B[39m     isna,\n\u001B[32m     71\u001B[39m     isnull,\n\u001B[32m     72\u001B[39m     notna,\n\u001B[32m     73\u001B[39m     notnull,\n\u001B[32m     74\u001B[39m     \u001B[38;5;66;03m# indexes\u001B[39;00m\n\u001B[32m     75\u001B[39m     Index,\n\u001B[32m     76\u001B[39m     CategoricalIndex,\n\u001B[32m     77\u001B[39m     RangeIndex,\n\u001B[32m     78\u001B[39m     MultiIndex,\n\u001B[32m     79\u001B[39m     IntervalIndex,\n\u001B[32m     80\u001B[39m     TimedeltaIndex,\n\u001B[32m     81\u001B[39m     DatetimeIndex,\n\u001B[32m     82\u001B[39m     PeriodIndex,\n\u001B[32m     83\u001B[39m     IndexSlice,\n\u001B[32m     84\u001B[39m     \u001B[38;5;66;03m# tseries\u001B[39;00m\n\u001B[32m     85\u001B[39m     NaT,\n\u001B[32m     86\u001B[39m     Period,\n\u001B[32m     87\u001B[39m     period_range,\n\u001B[32m     88\u001B[39m     Timedelta,\n\u001B[32m     89\u001B[39m     timedelta_range,\n\u001B[32m     90\u001B[39m     Timestamp,\n\u001B[32m     91\u001B[39m     date_range,\n\u001B[32m     92\u001B[39m     bdate_range,\n\u001B[32m     93\u001B[39m     Interval,\n\u001B[32m     94\u001B[39m     interval_range,\n\u001B[32m     95\u001B[39m     DateOffset,\n\u001B[32m     96\u001B[39m     \u001B[38;5;66;03m# conversion\u001B[39;00m\n\u001B[32m     97\u001B[39m     to_numeric,\n\u001B[32m     98\u001B[39m     to_datetime,\n\u001B[32m     99\u001B[39m     to_timedelta,\n\u001B[32m    100\u001B[39m     \u001B[38;5;66;03m# misc\u001B[39;00m\n\u001B[32m    101\u001B[39m     Flags,\n\u001B[32m    102\u001B[39m     Grouper,\n\u001B[32m    103\u001B[39m     factorize,\n\u001B[32m    104\u001B[39m     unique,\n\u001B[32m    105\u001B[39m     value_counts,\n\u001B[32m    106\u001B[39m     NamedAgg,\n\u001B[32m    107\u001B[39m     array,\n\u001B[32m    108\u001B[39m     Categorical,\n\u001B[32m    109\u001B[39m     set_eng_float_format,\n\u001B[32m    110\u001B[39m     Series,\n\u001B[32m    111\u001B[39m     DataFrame,\n\u001B[32m    112\u001B[39m )\n\u001B[32m    114\u001B[39m \u001B[38;5;28;01mfrom\u001B[39;00m\u001B[38;5;250m \u001B[39m\u001B[34;01mpandas\u001B[39;00m\u001B[34;01m.\u001B[39;00m\u001B[34;01mcore\u001B[39;00m\u001B[34;01m.\u001B[39;00m\u001B[34;01mdtypes\u001B[39;00m\u001B[34;01m.\u001B[39;00m\u001B[34;01mdtypes\u001B[39;00m\u001B[38;5;250m \u001B[39m\u001B[38;5;28;01mimport\u001B[39;00m SparseDtype\n\u001B[32m    116\u001B[39m \u001B[38;5;28;01mfrom\u001B[39;00m\u001B[38;5;250m \u001B[39m\u001B[34;01mpandas\u001B[39;00m\u001B[34;01m.\u001B[39;00m\u001B[34;01mtseries\u001B[39;00m\u001B[34;01m.\u001B[39;00m\u001B[34;01mapi\u001B[39;00m\u001B[38;5;250m \u001B[39m\u001B[38;5;28;01mimport\u001B[39;00m infer_freq\n",
      "\u001B[36mFile \u001B[39m\u001B[32m~/Documents/GitHub/BIOS-584/.venv/lib/python3.13/site-packages/pandas/core/api.py:47\u001B[39m\n\u001B[32m     45\u001B[39m \u001B[38;5;28;01mfrom\u001B[39;00m\u001B[38;5;250m \u001B[39m\u001B[34;01mpandas\u001B[39;00m\u001B[34;01m.\u001B[39;00m\u001B[34;01mcore\u001B[39;00m\u001B[34;01m.\u001B[39;00m\u001B[34;01mconstruction\u001B[39;00m\u001B[38;5;250m \u001B[39m\u001B[38;5;28;01mimport\u001B[39;00m array\n\u001B[32m     46\u001B[39m \u001B[38;5;28;01mfrom\u001B[39;00m\u001B[38;5;250m \u001B[39m\u001B[34;01mpandas\u001B[39;00m\u001B[34;01m.\u001B[39;00m\u001B[34;01mcore\u001B[39;00m\u001B[34;01m.\u001B[39;00m\u001B[34;01mflags\u001B[39;00m\u001B[38;5;250m \u001B[39m\u001B[38;5;28;01mimport\u001B[39;00m Flags\n\u001B[32m---> \u001B[39m\u001B[32m47\u001B[39m \u001B[38;5;28;01mfrom\u001B[39;00m\u001B[38;5;250m \u001B[39m\u001B[34;01mpandas\u001B[39;00m\u001B[34;01m.\u001B[39;00m\u001B[34;01mcore\u001B[39;00m\u001B[34;01m.\u001B[39;00m\u001B[34;01mgroupby\u001B[39;00m\u001B[38;5;250m \u001B[39m\u001B[38;5;28;01mimport\u001B[39;00m (\n\u001B[32m     48\u001B[39m     Grouper,\n\u001B[32m     49\u001B[39m     NamedAgg,\n\u001B[32m     50\u001B[39m )\n\u001B[32m     51\u001B[39m \u001B[38;5;28;01mfrom\u001B[39;00m\u001B[38;5;250m \u001B[39m\u001B[34;01mpandas\u001B[39;00m\u001B[34;01m.\u001B[39;00m\u001B[34;01mcore\u001B[39;00m\u001B[34;01m.\u001B[39;00m\u001B[34;01mindexes\u001B[39;00m\u001B[34;01m.\u001B[39;00m\u001B[34;01mapi\u001B[39;00m\u001B[38;5;250m \u001B[39m\u001B[38;5;28;01mimport\u001B[39;00m (\n\u001B[32m     52\u001B[39m     CategoricalIndex,\n\u001B[32m     53\u001B[39m     DatetimeIndex,\n\u001B[32m   (...)\u001B[39m\u001B[32m     59\u001B[39m     TimedeltaIndex,\n\u001B[32m     60\u001B[39m )\n\u001B[32m     61\u001B[39m \u001B[38;5;28;01mfrom\u001B[39;00m\u001B[38;5;250m \u001B[39m\u001B[34;01mpandas\u001B[39;00m\u001B[34;01m.\u001B[39;00m\u001B[34;01mcore\u001B[39;00m\u001B[34;01m.\u001B[39;00m\u001B[34;01mindexes\u001B[39;00m\u001B[34;01m.\u001B[39;00m\u001B[34;01mdatetimes\u001B[39;00m\u001B[38;5;250m \u001B[39m\u001B[38;5;28;01mimport\u001B[39;00m (\n\u001B[32m     62\u001B[39m     bdate_range,\n\u001B[32m     63\u001B[39m     date_range,\n\u001B[32m     64\u001B[39m )\n",
      "\u001B[36mFile \u001B[39m\u001B[32m~/Documents/GitHub/BIOS-584/.venv/lib/python3.13/site-packages/pandas/core/groupby/__init__.py:1\u001B[39m\n\u001B[32m----> \u001B[39m\u001B[32m1\u001B[39m \u001B[38;5;28;01mfrom\u001B[39;00m\u001B[38;5;250m \u001B[39m\u001B[34;01mpandas\u001B[39;00m\u001B[34;01m.\u001B[39;00m\u001B[34;01mcore\u001B[39;00m\u001B[34;01m.\u001B[39;00m\u001B[34;01mgroupby\u001B[39;00m\u001B[34;01m.\u001B[39;00m\u001B[34;01mgeneric\u001B[39;00m\u001B[38;5;250m \u001B[39m\u001B[38;5;28;01mimport\u001B[39;00m (\n\u001B[32m      2\u001B[39m     DataFrameGroupBy,\n\u001B[32m      3\u001B[39m     NamedAgg,\n\u001B[32m      4\u001B[39m     SeriesGroupBy,\n\u001B[32m      5\u001B[39m )\n\u001B[32m      6\u001B[39m \u001B[38;5;28;01mfrom\u001B[39;00m\u001B[38;5;250m \u001B[39m\u001B[34;01mpandas\u001B[39;00m\u001B[34;01m.\u001B[39;00m\u001B[34;01mcore\u001B[39;00m\u001B[34;01m.\u001B[39;00m\u001B[34;01mgroupby\u001B[39;00m\u001B[34;01m.\u001B[39;00m\u001B[34;01mgroupby\u001B[39;00m\u001B[38;5;250m \u001B[39m\u001B[38;5;28;01mimport\u001B[39;00m GroupBy\n\u001B[32m      7\u001B[39m \u001B[38;5;28;01mfrom\u001B[39;00m\u001B[38;5;250m \u001B[39m\u001B[34;01mpandas\u001B[39;00m\u001B[34;01m.\u001B[39;00m\u001B[34;01mcore\u001B[39;00m\u001B[34;01m.\u001B[39;00m\u001B[34;01mgroupby\u001B[39;00m\u001B[34;01m.\u001B[39;00m\u001B[34;01mgrouper\u001B[39;00m\u001B[38;5;250m \u001B[39m\u001B[38;5;28;01mimport\u001B[39;00m Grouper\n",
      "\u001B[36mFile \u001B[39m\u001B[32m~/Documents/GitHub/BIOS-584/.venv/lib/python3.13/site-packages/pandas/core/groupby/generic.py:69\u001B[39m\n\u001B[32m     67\u001B[39m \u001B[38;5;28;01mimport\u001B[39;00m\u001B[38;5;250m \u001B[39m\u001B[34;01mpandas\u001B[39;00m\u001B[34;01m.\u001B[39;00m\u001B[34;01mcore\u001B[39;00m\u001B[34;01m.\u001B[39;00m\u001B[34;01mcommon\u001B[39;00m\u001B[38;5;250m \u001B[39m\u001B[38;5;28;01mas\u001B[39;00m\u001B[38;5;250m \u001B[39m\u001B[34;01mcom\u001B[39;00m\n\u001B[32m     68\u001B[39m \u001B[38;5;28;01mfrom\u001B[39;00m\u001B[38;5;250m \u001B[39m\u001B[34;01mpandas\u001B[39;00m\u001B[34;01m.\u001B[39;00m\u001B[34;01mcore\u001B[39;00m\u001B[34;01m.\u001B[39;00m\u001B[34;01mframe\u001B[39;00m\u001B[38;5;250m \u001B[39m\u001B[38;5;28;01mimport\u001B[39;00m DataFrame\n\u001B[32m---> \u001B[39m\u001B[32m69\u001B[39m \u001B[38;5;28;01mfrom\u001B[39;00m\u001B[38;5;250m \u001B[39m\u001B[34;01mpandas\u001B[39;00m\u001B[34;01m.\u001B[39;00m\u001B[34;01mcore\u001B[39;00m\u001B[34;01m.\u001B[39;00m\u001B[34;01mgroupby\u001B[39;00m\u001B[38;5;250m \u001B[39m\u001B[38;5;28;01mimport\u001B[39;00m (\n\u001B[32m     70\u001B[39m     base,\n\u001B[32m     71\u001B[39m     ops,\n\u001B[32m     72\u001B[39m )\n\u001B[32m     73\u001B[39m \u001B[38;5;28;01mfrom\u001B[39;00m\u001B[38;5;250m \u001B[39m\u001B[34;01mpandas\u001B[39;00m\u001B[34;01m.\u001B[39;00m\u001B[34;01mcore\u001B[39;00m\u001B[34;01m.\u001B[39;00m\u001B[34;01mgroupby\u001B[39;00m\u001B[34;01m.\u001B[39;00m\u001B[34;01mgroupby\u001B[39;00m\u001B[38;5;250m \u001B[39m\u001B[38;5;28;01mimport\u001B[39;00m (\n\u001B[32m     74\u001B[39m     GroupBy,\n\u001B[32m     75\u001B[39m     GroupByPlot,\n\u001B[32m   (...)\u001B[39m\u001B[32m     79\u001B[39m     _transform_template,\n\u001B[32m     80\u001B[39m )\n\u001B[32m     81\u001B[39m \u001B[38;5;28;01mfrom\u001B[39;00m\u001B[38;5;250m \u001B[39m\u001B[34;01mpandas\u001B[39;00m\u001B[34;01m.\u001B[39;00m\u001B[34;01mcore\u001B[39;00m\u001B[34;01m.\u001B[39;00m\u001B[34;01mindexes\u001B[39;00m\u001B[34;01m.\u001B[39;00m\u001B[34;01mapi\u001B[39;00m\u001B[38;5;250m \u001B[39m\u001B[38;5;28;01mimport\u001B[39;00m (\n\u001B[32m     82\u001B[39m     Index,\n\u001B[32m     83\u001B[39m     MultiIndex,\n\u001B[32m     84\u001B[39m     all_indexes_same,\n\u001B[32m     85\u001B[39m     default_index,\n\u001B[32m     86\u001B[39m )\n",
      "\u001B[36mFile \u001B[39m\u001B[32m~/Documents/GitHub/BIOS-584/.venv/lib/python3.13/site-packages/pandas/core/groupby/ops.py:25\u001B[39m\n\u001B[32m     19\u001B[39m \u001B[38;5;28;01mimport\u001B[39;00m\u001B[38;5;250m \u001B[39m\u001B[34;01mnumpy\u001B[39;00m\u001B[38;5;250m \u001B[39m\u001B[38;5;28;01mas\u001B[39;00m\u001B[38;5;250m \u001B[39m\u001B[34;01mnp\u001B[39;00m\n\u001B[32m     21\u001B[39m \u001B[38;5;28;01mfrom\u001B[39;00m\u001B[38;5;250m \u001B[39m\u001B[34;01mpandas\u001B[39;00m\u001B[34;01m.\u001B[39;00m\u001B[34;01m_libs\u001B[39;00m\u001B[38;5;250m \u001B[39m\u001B[38;5;28;01mimport\u001B[39;00m (\n\u001B[32m     22\u001B[39m     NaT,\n\u001B[32m     23\u001B[39m     lib,\n\u001B[32m     24\u001B[39m )\n\u001B[32m---> \u001B[39m\u001B[32m25\u001B[39m \u001B[38;5;28;01mimport\u001B[39;00m\u001B[38;5;250m \u001B[39m\u001B[34;01mpandas\u001B[39;00m\u001B[34;01m.\u001B[39;00m\u001B[34;01m_libs\u001B[39;00m\u001B[34;01m.\u001B[39;00m\u001B[34;01mgroupby\u001B[39;00m\u001B[38;5;250m \u001B[39m\u001B[38;5;28;01mas\u001B[39;00m\u001B[38;5;250m \u001B[39m\u001B[34;01mlibgroupby\u001B[39;00m\n\u001B[32m     26\u001B[39m \u001B[38;5;28;01mfrom\u001B[39;00m\u001B[38;5;250m \u001B[39m\u001B[34;01mpandas\u001B[39;00m\u001B[34;01m.\u001B[39;00m\u001B[34;01m_typing\u001B[39;00m\u001B[38;5;250m \u001B[39m\u001B[38;5;28;01mimport\u001B[39;00m (\n\u001B[32m     27\u001B[39m     ArrayLike,\n\u001B[32m     28\u001B[39m     AxisInt,\n\u001B[32m   (...)\u001B[39m\u001B[32m     31\u001B[39m     npt,\n\u001B[32m     32\u001B[39m )\n\u001B[32m     33\u001B[39m \u001B[38;5;28;01mfrom\u001B[39;00m\u001B[38;5;250m \u001B[39m\u001B[34;01mpandas\u001B[39;00m\u001B[34;01m.\u001B[39;00m\u001B[34;01merrors\u001B[39;00m\u001B[38;5;250m \u001B[39m\u001B[38;5;28;01mimport\u001B[39;00m AbstractMethodError\n",
      "\u001B[31mModuleNotFoundError\u001B[39m: No module named 'pandas._libs.groupby'"
     ]
    }
   ],
   "source": [
    "# Notes about nicknames:\n",
    "# - For example, \"matplotlib.pyplot\" is a long name. Let's call it \"plt\"\n",
    "# - Similarly, let's call \"pandas\" as \"pd\"\n",
    "# - Try adding your own nickname!\n",
    "# - To avoid errors, be consistent with your nicknames\n",
    "\n",
    "import matplotlib.pyplot as plt\n",
    "import pandas as pd"
   ]
  },
  {
   "cell_type": "markdown",
   "metadata": {},
   "source": [
    "### Practice\n",
    "<font size = \"4\">\n",
    "- <span style=\"color:red\">Practice: Try importing *scipy* </span>"
   ]
  },
  {
   "cell_type": "code",
   "execution_count": null,
   "metadata": {
    "ExecuteTime": {
     "end_time": "2025-09-08T23:13:15.433343Z",
     "start_time": "2025-09-08T23:13:13.521624Z"
    }
   },
   "outputs": [],
   "source": [
    "import scipy"
   ]
  },
  {
   "attachments": {},
   "cell_type": "markdown",
   "metadata": {},
   "source": [
    "<font size=\"4\"> \n",
    "\n",
    "(b) Open datasets\n",
    "\n",
    "Run the command \"read_csv\" from the library <br>\n",
    "\"pandas\" (nicknamed \"pd\"). \n"
   ]
  },
  {
   "cell_type": "code",
   "execution_count": null,
   "metadata": {},
   "outputs": [],
   "source": [
    "print('Hello, World!')"
   ]
  },
  {
   "cell_type": "code",
   "execution_count": null,
   "metadata": {},
   "outputs": [],
   "source": [
    "# You can use \".\" to run subcommands contained in a library.\n",
    "# The subcommand \"read_csv()\" opens the file in parenthesis.\n",
    "# We use the \"=\" symbol to store the data in the working environment under the name \"carfeatures\"\n",
    "\n",
    "\n",
    "carfeatures = pd.read_csv('features.csv')\n",
    "carfeatures.head()"
   ]
  },
  {
   "attachments": {},
   "cell_type": "markdown",
   "metadata": {},
   "source": [
    "<font size=\"4\"> \n",
    "\n",
    "You can open the datasets in the current environment and display the the first five rows of the dataset using *.head()* function. \n",
    "\n",
    "Notice that the index of Python starts from 0. We will talk about those details in the future.\n"
   ]
  },
  {
   "cell_type": "markdown",
   "metadata": {},
   "source": [
    "### Practice\n",
    "<font size='4'>\n",
    "<span style=\"color:red\"> - Print out the first five rows using .head() function </span>"
   ]
  },
  {
   "cell_type": "markdown",
   "metadata": {},
   "source": [
    "***"
   ]
  },
  {
   "attachments": {},
   "cell_type": "markdown",
   "metadata": {},
   "source": [
    "\n",
    "## STEP 2: Run Analyses\n",
    "\n",
    "<font size=\"4\"> \n",
    "\n",
    "Output data for all the columns"
   ]
  },
  {
   "cell_type": "code",
   "execution_count": null,
   "metadata": {},
   "outputs": [],
   "source": [
    "# Entering the name of a dataframe produces an output (with the first five and last five rows)\n",
    "\n",
    "carfeatures"
   ]
  },
  {
   "attachments": {},
   "cell_type": "markdown",
   "metadata": {},
   "source": [
    "<font size=\"4\"> \n",
    "\n",
    "Output data for a single column 'cylinders'"
   ]
  },
  {
   "cell_type": "code",
   "execution_count": null,
   "metadata": {},
   "outputs": [],
   "source": [
    "# We use square brackets [...] to subset information from data \n",
    "# Text/strings have to be written in quotation marks\n",
    "# This command extracts the column 'cylinders'\n",
    "\n",
    "carfeatures['cylinders']\n"
   ]
  },
  {
   "attachments": {},
   "cell_type": "markdown",
   "metadata": {},
   "source": [
    "<font size=\"4\"> \n",
    "\n",
    "Example: Compute a frequency table"
   ]
  },
  {
   "cell_type": "code",
   "execution_count": null,
   "metadata": {},
   "outputs": [],
   "source": [
    "# crosstab counts how many rows fall into categories\n",
    "# \"index\" is the category\n",
    "# \"columns\" is a custom title\n",
    "\n",
    "table = pd.crosstab(index = carfeatures['cylinders'], columns = \"count\")\n",
    "table"
   ]
  },
  {
   "cell_type": "code",
   "execution_count": null,
   "metadata": {},
   "outputs": [],
   "source": [
    "table.columns.name"
   ]
  },
  {
   "cell_type": "code",
   "execution_count": null,
   "metadata": {},
   "outputs": [],
   "source": [
    "table.columns.name = 'column name'\n",
    "table"
   ]
  },
  {
   "cell_type": "markdown",
   "metadata": {},
   "source": [
    "### Practice\n",
    "<font size='4'>\n",
    "<span style='color:red'> Try the command again but this time change the column name to \"frequency table\". </span>\n"
   ]
  },
  {
   "cell_type": "code",
   "execution_count": null,
   "metadata": {},
   "outputs": [],
   "source": [
    "table.columns.name = 'frequency table'\n",
    "table"
   ]
  },
  {
   "attachments": {},
   "cell_type": "markdown",
   "metadata": {},
   "source": [
    "<font size=\"4\"> \n",
    "\n",
    "Example: Compute basic summary statistics for all variables"
   ]
  },
  {
   "cell_type": "code",
   "execution_count": null,
   "metadata": {},
   "outputs": [],
   "source": [
    "# \"describe\" computes the count, mean, std, min, 25% quantile, 50%, 75%, max\n",
    "# automatically excludes variables with text values\n",
    "# otherwise includes all numeric variables\n",
    "\n",
    "carfeatures.describe()"
   ]
  },
  {
   "attachments": {},
   "cell_type": "markdown",
   "metadata": {},
   "source": [
    "<font size=\"5\"> \n",
    "\n",
    "Example: Display a scatter plot "
   ]
  },
  {
   "cell_type": "code",
   "execution_count": null,
   "metadata": {},
   "outputs": [],
   "source": [
    "plt.scatter(x = carfeatures['weight'], y = carfeatures['mpg'])\n",
    "plt.show()"
   ]
  },
  {
   "cell_type": "markdown",
   "metadata": {},
   "source": [
    "### Practice\n",
    "<font size='4'>\n",
    "- <span style='color:red'>Try another scatter plot with x = \"acceleration\" </span>\n",
    "\n"
   ]
  },
  {
   "cell_type": "code",
   "execution_count": null,
   "metadata": {},
   "outputs": [],
   "source": [
    "plt.scatter(x = carfeatures['acceleration'], y = carfeatures['mpg'])\n",
    "plt.show()"
   ]
  }
 ],
 "metadata": {
  "kernelspec": {
   "display_name": "Python 3 (ipykernel)",
   "language": "python",
   "name": "python3"
  },
  "language_info": {
   "codemirror_mode": {
    "name": "ipython",
    "version": 3
   },
   "file_extension": ".py",
   "mimetype": "text/x-python",
   "name": "python",
   "nbconvert_exporter": "python",
   "pygments_lexer": "ipython3",
   "version": "3.13.7"
  },
  "vscode": {
   "interpreter": {
    "hash": "aee8b7b246df8f9039afb4144a1f6fd8d2ca17a180786b69acc140d282b71a49"
   }
  }
 },
 "nbformat": 4,
 "nbformat_minor": 4
}
