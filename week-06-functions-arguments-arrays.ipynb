{
 "cells": [
  {
   "attachments": {},
   "cell_type": "markdown",
   "metadata": {},
   "source": [
    "# Week-06: Functions and Arrays"
   ]
  },
  {
   "attachments": {},
   "cell_type": "markdown",
   "metadata": {},
   "source": [
    "## 1. Import Libraries "
   ]
  },
  {
   "cell_type": "code",
<<<<<<< Updated upstream
   "execution_count": 2,
=======
   "execution_count": 1,
>>>>>>> Stashed changes
   "metadata": {},
   "outputs": [],
   "source": [
    "# the \"numPy\" library is used for mathematical operations\n",
    "# the \"matplotlib\" library is for generating graphs\n",
    "# the \"pandas\" library is for manipualting datasets\n",
    "\n",
    "import numpy as np\n",
    "import matplotlib.pyplot as plt\n",
    "import pandas as pd"
   ]
  },
  {
   "attachments": {},
   "cell_type": "markdown",
   "metadata": {},
   "source": [
    "## 2. Introduction to Functions "
   ]
  },
  {
   "attachments": {},
   "cell_type": "markdown",
   "metadata": {},
   "source": [
    "<font size=\"4\"> \n",
    "\n",
    "A function is ...\n",
    "\n",
    "- a **block of reusable** code to perform a a specific task\n",
    "- Functions avoid repetition\n",
    "- As our code grows larger, functions make it more manageable\n",
    "\n"
   ]
  },
  {
   "attachments": {},
   "cell_type": "markdown",
   "metadata": {},
   "source": [
    "<font size = \"4\">\n",
    "\n",
    "Enter arguments by assigning parameters"
   ]
  },
  {
   "cell_type": "code",
   "execution_count": 3,
   "metadata": {},
   "outputs": [],
   "source": [
    "# Here \"df\" and \"size\" are both parameters\n",
    "# They get assigned the arguments \"2\" and \"20\", respectively\n",
    "# The return is a vector of random variables\n",
    "np.random.seed(100)\n",
    "vec_x = np.random.uniform(low=-2, high=2, size=10)"
   ]
  },
  {
   "cell_type": "code",
   "execution_count": 4,
   "metadata": {},
   "outputs": [
    {
     "data": {
      "text/plain": [
       "array([ 0.17361977, -0.88652246, -0.30192964,  1.37910453, -1.98112458,\n",
       "       -1.51372352,  0.68299634,  1.30341102, -1.45317364,  0.30037332])"
      ]
     },
     "execution_count": 4,
     "metadata": {},
     "output_type": "execute_result"
    }
   ],
   "source": [
    "vec_x"
   ]
  },
  {
   "cell_type": "code",
   "execution_count": 5,
   "metadata": {},
   "outputs": [
    {
     "name": "stdout",
     "output_type": "stream",
     "text": [
<<<<<<< Updated upstream
      "[-0.69586345  7.48957453]\n"
=======
      "[-0.99245193 -0.42564129  1.68911887  1.51176143  0.9685161   0.05428192\n",
      "  1.98816181  0.19714991 -0.16006242 -1.91352474]\n",
      "[1.82058194 8.39199273]\n"
>>>>>>> Stashed changes
     ]
    }
   ],
   "source": [
    "# Write your own code:\n",
    "# Define vec_y by writing arguments by position:\n",
<<<<<<< Updated upstream
    "\n",
    "# What if you write vec_y = np.random.uniform(10, -2, 2)\n",
    "vec_y = np.random.uniform(10, -2, 2)\n",
=======
    "vec_y = np.random.uniform(-2, 2, 10)\n",
    "print(vec_y)\n",
    "# What if you write vec_y = np.random.uniform(10, -2, 2)\n",
    "vec_y = np.random.uniform(10, -2, 2) \n",
>>>>>>> Stashed changes
    "print(vec_y)"
   ]
  },
  {
   "cell_type": "code",
   "execution_count": 7,
   "metadata": {},
   "outputs": [
    {
     "name": "stdout",
     "output_type": "stream",
     "text": [
<<<<<<< Updated upstream
      "[ 1.27059752 -0.6555522  -1.29835819 -0.50867181 -1.97724597 -0.99029459\n",
      "  1.18265003 -1.93898012  0.39537351  0.41521816]\n"
=======
      "[ 1.67723039 -0.35083009 -0.24398143 -0.88353024 -0.03234227  1.41172195\n",
      "  1.77840227 -0.12423149  1.9788955  -1.37333668]\n"
>>>>>>> Stashed changes
     ]
    }
   ],
   "source": [
    "# Write your own code\n",
    "# Define vec_z by writing arguments by name (with whatever order you like)\n",
<<<<<<< Updated upstream
    "vec_z = np.random.uniform(high=2, low=-2, size=10)\n",
=======
    "vec_z = np.random.uniform(size = 10, low = -2, high = 2)\n",
>>>>>>> Stashed changes
    "print(vec_z)"
   ]
  },
  {
   "attachments": {},
   "cell_type": "markdown",
   "metadata": {},
   "source": [
    "## 3. Customize Functions "
   ]
  },
  {
   "attachments": {},
   "cell_type": "markdown",
   "metadata": {},
   "source": [
    "<font size = \"4\">\n",
    "\n",
    "You can write your own functions:\n",
    "\n",
    "```python\n",
    "\n",
    "    #---- DEFINE\n",
    "    def my_function(parameter):\n",
    "        body\n",
    "        return expression\n",
    "\n",
    "    #---- RUN\n",
    "    my_function(parameter = argument) \n",
    "\n",
    "    #---- RUN\n",
    "    my_function(argument)\n",
    "```\n",
    "<br>"
   ]
  },
  {
   "attachments": {},
   "cell_type": "markdown",
   "metadata": {},
   "source": [
    "<font size = \"4\">\n",
    "\n",
    "Example 1: Calculate the PMF of a Poisson distribution named `fun_poisson_pmf`.\n",
    "\n",
    "Parameters include `lambda_val` and `k` and return `pmf_val`.\n",
    "\n",
    "$P(X=k)=\\lambda^k \\exp(-\\lambda) / k!, k\\in\\mathbb{N}_0$"
   ]
  },
  {
   "cell_type": "code",
<<<<<<< Updated upstream
   "execution_count": 13,
=======
   "execution_count": 9,
   "metadata": {},
   "outputs": [],
   "source": [
    "# Write your own code:\n",
    "def fun_poisson_pmf(lambda_val, k):\n",
    "    k_fact = np.cumprod(np.arange(1,k+1))[-1]\n",
    "    #could also define k_fact as np.prod(np.arange(1,k+1))\n",
    "    pmf_val = (lambda_val**k) * (np.exp(-lambda_val)) / k_fact\n",
    "    return pmf_val"
   ]
  },
  {
   "cell_type": "code",
   "execution_count": 14,
>>>>>>> Stashed changes
   "metadata": {},
   "outputs": [
    {
     "name": "stdout",
     "output_type": "stream",
     "text": [
      "0.33469524022264474\n",
      "0.33469524022264474\n",
      "0.33469524022264474\n"
     ]
    }
   ],
   "source": [
    "# Write your own code:\n",
<<<<<<< Updated upstream
    "def compute_fact(input_val):\n",
    "    fact_val = np.prod(np.arange(1, input_val+1))\n",
    "    return fact_val\n",
    "    \n",
    "def fun_poisson_pmf(lambda_val, k):\n",
    "    # k_fact = np.cumprod(np.arange(1,k+1))[-1]\n",
    "    # k_fact = np.prod(np.arange(1,k+1))\n",
    "    # k_fact = compute_fact(k)\n",
    "    k_fact = compute_fact(input_val=k)\n",
    "    pmf_val = lambda_val**k * np.exp(-lambda_val) / k_fact\n",
    "    return pmf_val"
   ]
  },
  {
   "cell_type": "code",
   "execution_count": 17,
   "metadata": {},
   "outputs": [
    {
     "name": "stdout",
     "output_type": "stream",
     "text": [
      "0.33469524022264474\n",
      "0.33469524022264474\n",
      "0.33469524022264474\n",
      "0.33469524022264474\n"
     ]
    }
   ],
   "source": [
    "# Write your own code:\n",
    "# Call your function\n",
    "pmf_1 = fun_poisson_pmf(lambda_val=1.5, k=1)\n",
    "print(pmf_1)\n",
    "\n",
    "pmf_1 = fun_poisson_pmf(1.5, 1)\n",
    "print(pmf_1)\n",
    "\n",
    "lambda_val_2 = 1.5\n",
    "k_2 = 1\n",
    "pmf_1 = fun_poisson_pmf(lambda_val_2, k_2)\n",
    "print(pmf_1)\n",
    "\n",
    "pmf_1 = fun_poisson_pmf(lambda_val=lambda_val_2, k=k_2)\n",
=======
    "# Call your function\n",
    "pmf_1 = fun_poisson_pmf(lambda_val = 1.5, k=1)\n",
    "print(pmf_1) \n",
    "\n",
    "pmf_1 = fun_poisson_pmf(1.5,1)\n",
    "print(pmf_1) \n",
    "\n",
    "pmf_1 = fun_poisson_pmf(k=1,lambda_val=1.5) # Defining by name, so we need to include the parameter names (not listing in original order)\n",
>>>>>>> Stashed changes
    "print(pmf_1)"
   ]
  },
  {
   "cell_type": "code",
   "execution_count": 11,
   "metadata": {},
   "outputs": [],
   "source": [
    "# You can know compute the formula with different values\n",
    "# Let's see how much one can gain by investing 50k and 100k\n",
    "# Earning 10% a year for 10 years\n"
   ]
  },
  {
   "attachments": {},
   "cell_type": "markdown",
   "metadata": {},
   "source": [
    "<font size = \"4\">\n",
    "\n",
    "Example 2:\n",
    "\n",
    "- Write a function that calculates <br>\n",
    " $f(x) = x^2 + 2x + 1$.\n",
    "\n",
    " - Test your function with $x = 2$ and $x = 3$\n"
   ]
  },
  {
   "cell_type": "code",
<<<<<<< Updated upstream
   "execution_count": 18,
=======
   "execution_count": 19,
>>>>>>> Stashed changes
   "metadata": {},
   "outputs": [
    {
     "name": "stdout",
     "output_type": "stream",
     "text": [
      "9 16\n"
     ]
    }
   ],
   "source": [
    "# Write your own code here\n",
<<<<<<< Updated upstream
    "def fn_quadratic(input_x):\n",
    "    y = input_x**2 + 2*input_x + 1\n",
    "    return y"
   ]
  },
  {
   "cell_type": "code",
   "execution_count": 20,
   "metadata": {},
   "outputs": [
    {
     "name": "stdout",
     "output_type": "stream",
     "text": [
      "9 16\n",
      "9\n",
      "9\n",
      "9\n"
     ]
    }
   ],
   "source": [
    "# call the function\n",
    "y_1 = fn_quadratic(input_x=2)\n",
    "y_2 = fn_quadratic(input_x=3)\n",
    "print(y_1, y_2)\n",
    "\n",
    "y_1 = fn_quadratic(2)\n",
    "print(y_1)\n",
    "x_val = 2\n",
    "y_1 = fn_quadratic(input_x=x_val)\n",
    "print(y_1)\n",
    "y_1 = fn_quadratic(x_val)\n",
    "print(y_1)"
=======
    "# Defining the function\n",
    "def fun_quadratic(x_input):\n",
    "    y = x_input**2 + (2*x_input) + 1\n",
    "    return y\n",
    "\n",
    "# Test with x = 2 and x = 3 (Calling the function)\n",
    "y1 = fun_quadratic(2) \n",
    "y2 = fun_quadratic(3) \n",
    "print(y1,y2)"
>>>>>>> Stashed changes
   ]
  },
  {
   "cell_type": "markdown",
   "metadata": {},
   "source": [
    "<font size='4'>\n",
    "Example 3:<br>\n",
    "Call back the nested for loop from the previous class. Below is the prompt and original code.\n",
    "\n",
    "- The CLT is a fundamental concept in statistics.\n",
    "- It states that the distribution of the mean (or sum) of many independent, identically distributed random variables approaches to a normal distribution, regardless of the original distribution\n",
    "- This is true even if the original distribution is NOT normal.\n",
    "- Let $\\bar{X}$ be the sample mean of a random vector $(X_1,\\cdots,X_n)$.\n",
    "- What happens to $\\bar{X}$ with different $n$?\n",
    "    - The Central Limit Theorem makes a prediction!\n",
    "    - It says that the distribution will have a bell shape with higher $n$.\n",
    "- Let's verify CLT by simulating random vectors from a uniform distribution from $-4$ to $5$.\n",
    "- The previous code looks like:\n"
   ]
  },
  {
   "cell_type": "code",
<<<<<<< Updated upstream
   "execution_count": 21,
=======
   "execution_count": 20,
>>>>>>> Stashed changes
   "metadata": {},
   "outputs": [],
   "source": [
    "iteration_num = 1000\n",
    "sample_size_ls = [1,10,50,100]\n",
    "unif_vec_ls_ls = []\n",
    "\n",
    "for sample_size in sample_size_ls:\n",
    "\n",
    "    # initialize unif_vec_sample_size_ls first\n",
    "    unif_vec_sample_size_ls = []\n",
    "    \n",
    "    for iter_num in range(iteration_num):\n",
    "            unif_vec_sample_size_iter  = np.random.uniform(\n",
    "                low = -4, high=5, size = sample_size\n",
    "            )\n",
    "            unif_vec_sample_size_ls.append(\n",
    "                float(np.mean(unif_vec_sample_size_iter))\n",
    "            )\n",
    "\n",
    "    unif_vec_ls_ls.append(unif_vec_sample_size_ls)"
   ]
  },
  {
   "cell_type": "markdown",
   "metadata": {},
   "source": [
    "<font size='4'>\n",
    "\n",
    "- We can write two functions to simplify the process. \n",
    "- It will be easier for you to understand once we wrap up the code with functions. \n",
    "- Try developing this habit to decompose your tasks to multiple functions.\n",
    "- We will start the smallest task unit - **computing sample size mean of a uniform vector**.\n",
    "    - Let the function name be `compute_unif_mean` with parameters `low_val`, `high_val`, and `sample_size_n`.\n",
    "    - Generate a uniform vector using `np.random.uniform()`, give a variable name `unif_vec` and return its sample mean using `np.mean()`.\n",
    "    - Make sure the format inside function is parameter_name = argument_name (by name) or argument_name to follow the order (by position)."
   ]
  },
  {
   "cell_type": "code",
<<<<<<< Updated upstream
   "execution_count": 22,
=======
   "execution_count": 25,
>>>>>>> Stashed changes
   "metadata": {},
   "outputs": [],
   "source": [
    "# Write your own code\n",
    "def compute_unif_mean(low_val, high_val, sample_size_n):\n",
<<<<<<< Updated upstream
    "    unif_vec = np.random.uniform(low_val, high_val, sample_size_n)\n",
    "    #  -> by position, the order matters.\n",
    "    # unif_vec = np.random.unifrom(low=low_val, high=high_val, \n",
    "    # size=sample_size_n) -> by name, the order does not matter\n",
    "    return float(np.mean(unif_vec))"
=======
    "    unif_vec = np.random.uniform(low = low_val, high= high_val, size = sample_size_n) \n",
    "    unif_mean = float(np.mean(unif_vec))\n",
    "    return unif_mean"
>>>>>>> Stashed changes
   ]
  },
  {
   "cell_type": "markdown",
   "metadata": {},
   "source": [
    "<font size='4'>\n",
    "    \n",
    "- Then, we work on the larger task unit - **looping through `iteration_num` to build a list of sample mean values**.\n",
    "    - Let the function name be `loop_iteration_num_build_ls` with parameters `low_val`, `high_val`, `sample_size_n`, and `iteration_n`.\n",
    "        - Remember to include the parameters for the previous function if you want to call it inside it.\n",
    "    - Initialize an empty list called `unif_vec_sample_size_mean_ls`.\n",
    "    - Write a for loop to iterate `range(iteration_n)`, compute the sample mean of each random vector per iteration, and append it to the list initialized just now.\n",
    "    - Return the list `unif_vec_sample_size_mean_ls`."
   ]
  },
  {
   "cell_type": "code",
<<<<<<< Updated upstream
   "execution_count": 23,
=======
   "execution_count": 28,
>>>>>>> Stashed changes
   "metadata": {},
   "outputs": [],
   "source": [
    "# Write your own code\n",
<<<<<<< Updated upstream
    "def loop_iteration_num_build_ls(\n",
    "    low_val, high_val, sample_size_n, iteration_n\n",
    "):\n",
=======
    "def loop_iteration_num_build_ls(low_val, high_val, sample_size_n, iteration_n):\n",
>>>>>>> Stashed changes
    "    unif_vec_sample_size_mean_ls = []\n",
    "    for iter_n in range(iteration_n):\n",
    "        sample_mean_iter_n = compute_unif_mean(\n",
    "            low_val, high_val, sample_size_n\n",
    "        )\n",
    "        unif_vec_sample_size_mean_ls.append(sample_mean_iter_n)\n",
    "    return unif_vec_sample_size_mean_ls"
   ]
  },
  {
   "cell_type": "markdown",
   "metadata": {},
   "source": [
    "<font size='4'>\n",
    "\n",
    "- The original process is decomposed into a few smaller tasks.\n",
    "- Initialize the parameter with proper values, i.e., `low_value`, `high_value`, and `iteration_num`.\n",
    "    - Note that it is okay to intialize variable names differently from the parameter names of the function. But you have to observe the rule either by position or by name.\n",
    "- Our code can be further simplified to the following format."
   ]
  },
  {
   "cell_type": "code",
<<<<<<< Updated upstream
   "execution_count": 26,
=======
   "execution_count": 33,
>>>>>>> Stashed changes
   "metadata": {},
   "outputs": [
    {
     "name": "stdout",
     "output_type": "stream",
     "text": [
      "4\n",
<<<<<<< Updated upstream
      "[-2.3645075873606567, 1.6285308318310452, 4.498994452169258, -2.0253014038446806, 4.68531061355226, 4.07604763005709, 3.530382387548676, 0.7461644381426303, 1.0404014279043279, 2.0074734963846996]\n"
=======
      "[0.13753359704595525, -0.4196316804336018, 1.310567187035737, 0.8536900745648603, 2.1663602962996595, -0.621072396646071, 2.7997413747994226, 3.717777542943746, -1.336096504885076, -0.6542697851850381]\n"
>>>>>>> Stashed changes
     ]
    }
   ],
   "source": [
    "# Write your own code\n",
    "iteration_num = 1000\n",
    "sample_size_ls = [1,10,50,100]\n",
    "unif_vec_ls_ls = []\n",
    "\n",
    "low_value = -4\n",
    "high_value = 5\n",
    "\n",
    "for sample_size_n in sample_size_ls:\n",
    "    unif_vec_iter_ls = loop_iteration_num_build_ls(\n",
    "        low_value, high_value, sample_size_n, iteration_num\n",
<<<<<<< Updated upstream
    "    )\n",
=======
    "    ) \n",
>>>>>>> Stashed changes
    "    unif_vec_ls_ls.append(unif_vec_iter_ls)\n",
    "\n",
    "print(len(unif_vec_ls_ls))\n",
    "print(unif_vec_ls_ls[0][:10])"
   ]
  },
  {
   "attachments": {},
   "cell_type": "markdown",
   "metadata": {},
   "source": [
    "## 4. Lambda Functions \n",
    "\n",
    "<font size = \"4\">\n",
    "\n",
    "\"Lambda Functions\" are defined in one line:\n",
    "\n",
    "```python\n",
    "my_function = lambda parameters: expression\n",
    "```"
   ]
  },
  {
   "attachments": {},
   "cell_type": "markdown",
   "metadata": {},
   "source": [
    "<font size = \"4\">\n",
    "\n",
    "Calculate $x + y$"
   ]
  },
  {
   "cell_type": "code",
   "execution_count": 17,
   "metadata": {},
   "outputs": [],
   "source": [
    "def fn_sum(x, y):\n",
    "    return x + y"
   ]
  },
  {
   "cell_type": "code",
   "execution_count": 18,
   "metadata": {},
   "outputs": [
    {
     "data": {
      "text/plain": [
       "3"
      ]
     },
     "execution_count": 18,
     "metadata": {},
     "output_type": "execute_result"
    }
   ],
   "source": [
    "fn_sum(1,2)"
   ]
  },
  {
   "cell_type": "code",
   "execution_count": 19,
   "metadata": {},
   "outputs": [
    {
     "data": {
      "text/plain": [
       "3"
      ]
     },
     "execution_count": 19,
     "metadata": {},
     "output_type": "execute_result"
    }
   ],
   "source": [
    "# (a) Define function\n",
    "fn_sum = lambda x,y: x + y\n",
    "\n",
    "# (b) Run function\n",
    "fn_sum(1,2)"
   ]
  },
  {
   "attachments": {},
   "cell_type": "markdown",
   "metadata": {},
   "source": [
    "<font size = \"4\">\n",
    "Example 4: <br>\n",
    "Rewrite the PMF of Poisson distribution using a Lambda function."
   ]
  },
  {
   "cell_type": "code",
<<<<<<< Updated upstream
   "execution_count": 28,
=======
   "execution_count": 36,
>>>>>>> Stashed changes
   "metadata": {},
   "outputs": [
    {
     "name": "stdout",
     "output_type": "stream",
     "text": [
      "0.33469524022264474\n"
     ]
    }
   ],
   "source": [
    "# Write your own code:\n",
<<<<<<< Updated upstream
    "lambda_fn_poisson_pmf = lambda lambda_val,k: lambda_val**k * np.exp(-lambda_val) / np.prod(np.arange(1, k+1))"
   ]
  },
  {
   "cell_type": "code",
   "execution_count": 29,
   "metadata": {},
   "outputs": [
    {
     "name": "stdout",
     "output_type": "stream",
     "text": [
      "0.33469524022264474\n"
     ]
    }
   ],
   "source": [
    "print(lambda_fn_poisson_pmf(1.5, 1))"
=======
    "lambda_fn_poisson_pmf = lambda lambda_val,k: (lambda_val**k) * (np.exp(-lambda_val)) / np.prod(np.arange(1, k+1))\n",
    "\n",
    "print(lambda_fn_poisson_pmf(1.5,1))"
>>>>>>> Stashed changes
   ]
  },
  {
   "attachments": {},
   "cell_type": "markdown",
   "metadata": {},
   "source": [
    "<font size = \"4\">\n",
    "Example 5:\n",
    "    \n",
    "Boolean + Functions\n",
    "\n",
    "- Write a function called `fn_iseligible_vote`\n",
    "- This functions returns a boolean value that checks whether $age \\ge$ 18\n",
    "- Test your function with $age = 20$"
   ]
  },
  {
   "cell_type": "code",
<<<<<<< Updated upstream
   "execution_count": 30,
=======
   "execution_count": 37,
>>>>>>> Stashed changes
   "metadata": {},
   "outputs": [
    {
     "data": {
      "text/plain": [
       "True"
      ]
     },
     "execution_count": 37,
     "metadata": {},
     "output_type": "execute_result"
    }
   ],
   "source": [
    "# Write your own code\n",
<<<<<<< Updated upstream
    "fn_iseligible_vote = lambda age: age>=18"
   ]
  },
  {
   "cell_type": "code",
   "execution_count": 31,
   "metadata": {},
   "outputs": [
    {
     "data": {
      "text/plain": [
       "True"
      ]
     },
     "execution_count": 31,
     "metadata": {},
     "output_type": "execute_result"
    }
   ],
   "source": [
=======
    "fn_iseligible_vote = lambda age: age >= 18\n",
    "\n",
>>>>>>> Stashed changes
    "fn_iseligible_vote(20)"
   ]
  },
  {
   "attachments": {},
   "cell_type": "markdown",
   "metadata": {},
   "source": [
    "## 5. Functions for Visualisation \n",
    "\n",
    "<font size = \"4\">\n",
    "Returning a value is not always necesary, you can write:\n",
    "\n",
    "```python\n",
    "\n",
    "    #---- DEFINE\n",
    "    def my_function(parameter):\n",
    "        body\n",
    "```"
   ]
  },
  {
   "attachments": {},
   "cell_type": "markdown",
   "metadata": {},
   "source": [
    "<font size = \"4\">\n",
    "\n",
    "Example 6: A customized plot\n",
    "\n",
    "- You can use functions to store your favorite aesthetic\n",
    "- The function name: `red_histogram`.\n",
    "- Parameters include `vec_x` and `title`."
   ]
  },
  {
   "cell_type": "code",
<<<<<<< Updated upstream
   "execution_count": 32,
=======
   "execution_count": 46,
>>>>>>> Stashed changes
   "metadata": {},
   "outputs": [
    {
     "data": {
      "image/png": "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",
      "text/plain": [
       "<Figure size 640x480 with 1 Axes>"
      ]
     },
     "metadata": {},
     "output_type": "display_data"
    },
    {
     "data": {
      "image/png": "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",
      "text/plain": [
       "<Figure size 640x480 with 1 Axes>"
      ]
     },
     "metadata": {},
     "output_type": "display_data"
    }
   ],
   "source": [
    "# Define the function\n",
    "def red_histogram(vec_x,title):\n",
    "    plt.hist(x = vec_x, color = \"red\")\n",
    "    plt.title(title)\n",
    "    plt.ylabel(\"Frequency\")\n",
    "    plt.show()\n",
    "\n",
    "carfeatures = pd.read_csv(\"data/features.csv\")\n",
    "\n",
    "red_histogram(vec_x = carfeatures[\"weight\"], title = \"Weight Histogram\")\n",
    "red_histogram(vec_x = carfeatures[\"acceleration\"], title = \"Acceleration Histogram\")\n"
   ]
  },
  {
   "attachments": {},
   "cell_type": "markdown",
   "metadata": {},
   "source": [
    "<font size = \"4\">\n",
    "\n",
    "Example 7:\n",
    "\n",
    "Create a function that computes a red scatter plot named `red_scatterplot` <br>\n",
    " that takes `vec_y` and `vec_x` inputs.\n",
    "\n",
    "When you call the function, you can plot **acceleration** and **weight**."
   ]
  },
  {
   "cell_type": "code",
<<<<<<< Updated upstream
   "execution_count": 37,
=======
   "execution_count": 53,
>>>>>>> Stashed changes
   "metadata": {},
   "outputs": [
    {
     "data": {
      "image/png": "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",
      "text/plain": [
       "<Figure size 640x480 with 1 Axes>"
      ]
     },
     "metadata": {},
     "output_type": "display_data"
    },
    {
     "data": {
      "image/png": "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",
      "text/plain": [
       "<Figure size 640x480 with 1 Axes>"
      ]
     },
     "metadata": {},
     "output_type": "display_data"
    },
    {
     "data": {
      "image/png": "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",
      "text/plain": [
       "<Figure size 640x480 with 1 Axes>"
      ]
     },
     "metadata": {},
     "output_type": "display_data"
    }
   ],
   "source": [
    "# Write your own code\n",
    "# Define the function\n",
<<<<<<< Updated upstream
    "def color_scatterplot(vec_x, vec_y, name_x, name_y, title, color='red'):\n",
    "    plt.scatter(vec_x, vec_y, color=color)\n",
    "    plt.xlabel(name_x)\n",
    "    plt.ylabel(name_y)\n",
    "    plt.title(title)\n",
    "    plt.show()"
   ]
  },
  {
   "cell_type": "code",
   "execution_count": 39,
   "metadata": {},
   "outputs": [
    {
     "data": {
      "image/png": "iVBORw0KGgoAAAANSUhEUgAAAkQAAAHHCAYAAABeLEexAAAAOnRFWHRTb2Z0d2FyZQBNYXRwbG90bGliIHZlcnNpb24zLjEwLjYsIGh0dHBzOi8vbWF0cGxvdGxpYi5vcmcvq6yFwwAAAAlwSFlzAAAPYQAAD2EBqD+naQAAeU5JREFUeJztnQmYFNW599/Z92HYhn0TFNkVUcQgoiCIu2ASlAgqYCBgFCJy8SMqeiNevAZRI2i4EW/EBXLdAoIim0EwEBZFEAKIgOyyzQyzMUx/z3uwmu6eXk7t2//3PE3TXaerq2qq6/zrXZMCgUCAAAAAAAB8TLLdGwAAAAAAYDcQRAAAAADwPRBEAAAAAPA9EEQAAAAA8D0QRAAAAADwPRBEAAAAAPA9EEQAAAAA8D0QRAAAAADwPRBEAAAAAPA9EEQAAGABvXv3Fg8AgDOBIAIAuJ7Vq1fTk08+SSdPnqyx7JlnnqEPPviA3EppaanYtxUrVti9KQB4GggiAIAnBNGUKVM8K4h43yCIADAXCCIAAFBJeXk5VVdX270ZAAADgSACAJhCcXExPfzww9SyZUvKyMigwsJCuv7662nDhg3BMf/85z/pxhtvpNq1a1NOTg517tyZZsyYEVz+9ddf07333ksXXHABZWZmUsOGDen++++nY8eOBcewO2nChAni/61ataKkpCTx+P7778Xz6dOn6Y033gi+z+tT2L9/v1hfgwYNxDZ26NCB/vKXv4TtB1tm+HPvvPMOTZ48mZo0aULZ2dlUVFREc+bMEcs+//xz+vWvf01169al/Px8Gjp0KJ04cSLhMTpy5AgNHz5cfD/vX5cuXcS2KvA+1K9fX/yfrUTKPvA+AwCMJdXg9QEAgGDUqFH0t7/9jcaOHUvt27cXImbVqlX07bffUteuXWnJkiV08803U6NGjeihhx4SYoeXLViwQLxmeMx3331H9913n1i+ZcsWeu2118Tzl19+KcTBwIED6d///je9/fbbNH36dKpXr574LAuJv/71rzRixAi64oor6IEHHhDvt27dWjwfPnyYrrzySrEO3kYev2jRIiFQWOywmAvl6aefpvT0dHrkkUeooqJC/F+BP19QUCCEyvbt22nmzJm0Z8+eoJiKRllZmQiy3rlzp/g8i7n58+cLwcauPz4GvE28rtGjR9Mdd9wh9pVh4QgAMJgAAACYQK1atQJjxoyJuqyqqirQqlWrQIsWLQInTpwIW1ZdXR38f2lpaY3Pvv322wG+dH3++efB95577jnx3u7du2uMz8nJCQwbNqzG+8OHDw80atQo8OOPP4a9P3jwYLHtyncvX75crPuCCy6osT2vv/66WHbZZZcFKisrg+9PmzZNvP/hhx8G37vmmmvEQ+GFF14QY958883ge7yOHj16BHJzcwNFRUXivaNHj4pxTzzxRJQjCQAwCrjMAACmwBYTdokdOHCgxrKNGzfS7t27hRWGx4USalHJysoKi9v58ccfhVWHCXW9qSUQCND//d//0S233CL+z+tVHv3796dTp07VWP+wYcPCticUtj6lpaUFX7NFJzU1lT7++OOY28DL2Op11113Bd/jdfz2t7+lkpISWrlypeb9AwCoB4IIAGAK06ZNo2+++YaaNWsmXFbsTmL3F7Nr1y7x3LFjx7jrOH78uHAdcYwNixF2IbFriWHRopWjR48KtxS733idoQ92zynxPaEo3xuNCy+8MOx1bm6ucAVyDFAs2KXGn0tODr8Mt2vXLrgcAGAdiCECAJjCL37xC7r66qvp/fffp08//ZSee+45+q//+i967733VK2DU+o5aPqSSy4RQoOzu2644QZdWV7KZ3/1q18Jy080IuN0YlmHAADeAIIIAGAabCX5zW9+Ix5sceFg6j/84Q/0wgsviOVsQerbt2/Uz3KW1tKlS0V21eOPPx58f8eOHTXGxgpcjrWMLUF5eXl09uzZmN+vBt6ma6+9NviaXV4HDx4UGXSxaNGihciiY3EWaiXatm1bcHms7QcAGA9cZgAAw2GhEenS4rT7xo0biwwtFkbsgmJhFFlMkWN6mJSUlLDXCoqYCoVT9plohRl5WeT7vO5BgwaJOCIWZdFcampg19uZM2eCrzkzrKqqigYMGBDzMyyWDh06RO+++27wPf7MSy+9JCxh11xzjXiPU/xj7RsAwDhgIQIAmFKDqGnTpnTnnXeK2jo8wX/22We0bt06ev7554VFhEUDBzWzK4zjdtiaxNYRTqn/5JNPRD2fXr16iVgkFhtc/4ddbxyMHclll10mnv/f//t/NHjwYBGczOtmMcTL+Lv/+Mc/CkHGQqx79+707LPP0vLly8X/R44cKUoDcMwSB1PzeP6/LJWVldSnTx/h4uO0+1deeYV69uxJt956a8zPcCD2q6++KtLs169fL+o1cZmCL774Qog+tmAprjreNhZOF110EdWpU0fEXiWKvwIAqMSwfDUAAPiJioqKwIQJEwJdunQJ5OXlidR3/v8rr7wSNm7VqlWB66+/Pjimc+fOgZdeeim4/IcffgjccccdgYKCApEK//Of/zxw4MCBqGnoTz/9dKBJkyaB5OTksBT8bdu2BXr16hXIysoS74em4B8+fFiUBmjWrFkgLS0t0LBhw0CfPn0Cr732WnCMknY/f/78GvuppN2vXLky8MADDwRq164tUuaHDBkSOHbsWNjYyLR75fvvu+++QL169QLp6emBTp06iXVGsnr1apHaz2OQgg+AOSTxP2pFFAAAABKVqtm6xZavbt262b05AAAdIIYIAAAAAL4HgggAAAAAvgeCCAAAAAC+BzFEAAAAAPA9sBABAAAAwPdAEAEAAADA96AwowRcWp87dnOhNJTRBwAAANwBRwVxoVguyhrZSDkSCCIJWAxxx24AAAAAuI99+/aJ6vnxgCCSQCmhzweU2wkAAAAAwPkUFRUJg4Yyj8cDgkgCxU3GYgiCCAAAAHAXMuEuCKoGAAAAgO+BIAIAAACA74EgAgAAAIDvgSACAAAAgO+BIAIAAACA74EgAgAAAIDvgSACAAAAgO+BIAIAAACA74EgAgAAAIDvQaVqACSoDgRoX8kZOn0mQDlpSdQsN42S0egXAAA8AwQRAAnYfrKCPvvhNBWfqQ6+l5eWTH2b5lDbggxbtw0AAIAxwGUGQAIx9P7u4jAxxPBrfp+XAwAAcD8QRADEcZOxZSgevJzHAQAAcDcQRADEgGOGIi1DkfByHgcAAMDdQBABEAMOoDZyHAAAAOcCQQRADDibzMhxAAAAnAsEEQAx4NR6ziaLBy/ncQAAANwNBBEAMeA6Q5xaHw9ejnpEAADgfiCIAIgD1xm6o1VeDUsRv+b3UYcIAAC8AQozApAAFj0X1kpHpWoAAPAwEEQASMDip0Veut2bAQAAwCTgMgMAAACA74EgAgAAAIDvsVUQPfnkk5SUlBT2uPjii4PLy8vLacyYMVS3bl3Kzc2lQYMG0eHDh8PWsXfvXrrpppsoOzubCgsLacKECVRVVRU2ZsWKFdS1a1fKyMigNm3a0Jw5cyzbRwCcDLcd2VNcSVuPV4hntCEBAPgV22OIOnToQJ999lnwdWrq+U0aN24cLVy4kObPn0+1atWisWPH0sCBA+mLL74Qy8+ePSvEUMOGDWn16tV08OBBGjp0KKWlpdEzzzwjxuzevVuMGTVqFM2dO5eWLl1KI0aMoEaNGlH//v1t2GMAnAE3puVebKHtSTh7jksJIHsOAOA3kgIB+24J2UL0wQcf0KZNm2osO3XqFNWvX5/eeustuvPOO8V727Zto3bt2tGaNWvoyiuvpEWLFtHNN99MBw4coAYNGogxs2bNookTJ9LRo0cpPT1d/J9F1TfffBNc9+DBg+nkyZO0ePFiqe0sKioSgoy3KT8/37D9B8BOMfT+7uKYy1FSAADgBdTM37bHEO3YsYMaN25MF1xwAQ0ZMkS4wJj169fTmTNnqG/fvsGx7E5r3ry5EEQMP3fq1Ckohhi2+vAB2LJlS3BM6DqUMco6olFRUSHWEfoAwCuwW4wtQ/Hg5XCfAQD8hK2CqHv37iKehy01M2fOFO6tq6++moqLi+nQoUPCwlNQUBD2GRY/vIzh51AxpCxXlsUbwyKnrKws6nZNnTpVKErl0axZM0P3G9gb/1JVXU1rD5fSp/tKxDO/9hNcTynUTRYNXs7jAADAL9gaQzRgwIDg/zt37iwEUosWLWjevHmUlZVl23ZNmjSJxo8fH3zN4gmiyBvxL8v2l9C6I+UUKp2WHyilywsz6bomueQHuLikkeMAAMAL2O4yC4WtQRdddBHt3LlTBEpXVlaKWJ9QOMuMlzH8HJl1prxONIZ9ibFEF2ej8fLQB3Be/EuklYNf8/u8PJYYWhshhhh+ze/zcj/AlbaNHAcAAF7AUYKopKSEdu3aJTLALrvsMpEtxllhCtu3bxcxRj169BCv+Xnz5s105MiR4JglS5YIAdO+ffvgmNB1KGOUdQB/xL+wW4wtQ/Hg5X5wn3HbkcjebJHwch4HAAB+wVZB9Mgjj9DKlSvp+++/F2nzd9xxB6WkpNBdd90lYneGDx8uXFfLly8XQdb33XefEDKcYcb069dPCJ977rmHvvrqK/rkk09o8uTJonYRW3kYTrf/7rvv6NFHHxVZaq+88opwyXFKP/BP/MuGozUtQ5EEfhrn9To/3IaEXYvx4OXo1QYA8BO2xhD98MMPQvwcO3ZMpNj37NmTvvzyS/F/Zvr06ZScnCwKMnLmF2eHsaBRYPG0YMECGj16tBBKOTk5NGzYMHrqqaeCY1q1aiXS7lkAzZgxg5o2bUqzZ89GDSKfxb+crJSz/MiOc3udH/7+O1qRY7cPAAB8VYfILaAOkXNgK8vbOxOXQbirTX5YM1bOJlt2oDTh565rnE1XNMj2TZ0ftlixNY0FJMcMsZsMliEAgFdwVR0iAKyIf+laP5MSTfNJP43zU50fFj8sHNvXyRDPEEMAAL8CQQRchdb4l9TkZJFaHw9ezuP0gjo/AADgPiCIgOs4F/+SV8NSxK/juaK4ztAVhTUtRfz6CgPrEKHODwAAuA/bm7sCoAUWPRfWSlcd/8Kip1ejbJFNxgHUBenJwk1mhGVIAXV+AADAfUAQAdeixL+ohcWPEYHTieKc4rnNUOcHAACcBVxmABgM6vwAAID7gCACwEFxTgAAAOwBLjMAHBbnBAAAwHogiABwYJwTAAAAa4HLDAAAAAC+B4IIAAAAAL4HgggAAAAAvgcxRABIgCaoAADgbSCIAJDoXM/NWEMLLXL6PNcSQvo8AAB4A7jMgKutNnuKK2nr8QrxbEb3eBZD7+8urlF1ml/z+7wcAL//TgDwArAQAVdihdWGJw7+jnjwcq41BPcZcCKwbgIgDyxEwHVYZbXhmKF4/ciU7+RxADgNWDcBUAcEEXAVslYbI9wCHEBt5DivABeM87HydwKAV4DLDLgKNVYbvRWiOZvMyHFeAC4Yd2Dl7wQArwALEXAVVlptOLU+sjlrJLycx/kBuGDcA6ybAKgHggi4CiOsNrIuHw6UZstHPHi5HwKq4YJxF7BuAqAeuMyAq1CsNvHcAfGsNmpdPvzeHa3IUjeR1iKQZhaPhAvGX78TAPwIBBFwFYrVhl00aq02issnEsXlw8Inliji1HorKlVrjdExO7YHLhj//E4A8CtwmQHXcc5qk1cjvodf8/vRBIBelw9PHGz5aF8nQzybJYa0xOhYEdvjNhcMMuG0/U4A8DOwEAHXEoiY5CJfu8nlo7UIpFXFI93kgkEmnD3WTQDcDixEwHUoFpGSqnABxK9jWUSc7vLRWgRSb/FIrwWYIxPOHusmAF4AFiLgKrRaRJzu8tEq2PQIPTcEmKsBrVYAAHqAIAKuQqvry+kuH62CTevn3BBgrhanu0UBAM4GLjPgKrRaRJzu8tFaBFLL59wQYK4Fp7tFAQDOBoIIuAo9ri8nZ91oFWxaPufVprVOd4sCAJwNXGbAVeh1fTnZ5aM1Rkft57xqSXG6WxQA4GwgiIDvCs4pLh8nolWwqfmcVy0pKEYIANADBBFwHU7PdtKLVsEm+zkvW1K8fm4AAMwDggi4Eie7vpyO1y0pODcAAFqAIAKuxcmuL6fjdUsKzg0AgFogiADwKbCkAADAeSCIADARruVjleDQ8l1aLClW7hMAAPiuDtGzzz5LSUlJ9PDDDwff6927t3gv9DFq1Kiwz+3du5duuukmys7OpsLCQpowYQJVVVWFjVmxYgV17dqVMjIyqE2bNjRnzhzL9gv4F64GPXPLCXp7ZxF9tKdYPPNrM/ppWfVdVu4TAAD4ThCtW7eOXn31VercuXONZSNHjqSDBw8GH9OmTQsuO3v2rBBDlZWVtHr1anrjjTeE2Hn88ceDY3bv3i3GXHvttbRp0yYhuEaMGEGffPKJZfsH/IeVTUat+i40TgUAeBnbBVFJSQkNGTKE/vznP1Pt2rVrLGfLT8OGDYOP/Pz84LJPP/2Utm7dSm+++SZdcsklNGDAAHr66afpT3/6kxBJzKxZs6hVq1b0/PPPU7t27Wjs2LF055130vTp0y3dT+AcZDu8a/2M3tYYarDqu6zcJwAA8KUgGjNmjLDg9O3bN+ryuXPnUr169ahjx440adIkKi0tDS5bs2YNderUiRo0aBB8r3///lRUVERbtmwJjolcN4/h92NRUVEh1hH6AN5Ai8tH7WesbI1h1Xd5td0HAAA4Iqj6nXfeoQ0bNgiXWTTuvvtuatGiBTVu3Ji+/vprmjhxIm3fvp3ee+89sfzQoUNhYohRXvOyeGNY5JSVlVFWVlaN7506dSpNmTLFsP0EzkBLh3ctn7GyNYZV3+XVdh8AAGC7INq3bx899NBDtGTJEsrMzIw65oEHHgj+ny1BjRo1oj59+tCuXbuodevWpm0bW6LGjx8ffM3iqVmzZqZ9HzAfWZcPp6ErGVNaPmN1awy93yWbMebVdh8AAGC7IFq/fj0dOXJEZH+FBkl//vnn9PLLLwu3VUpKSthnunfvLp537twpBBHHFK1duzZszOHDh8UzL1OelfdCx3AsUjTrEMPZaPwA2nBiWrYal4+Shq7lM1a3xmiUnaJ5HFu/ZAszerndBwAA2BpDxJaezZs3i8wv5dGtWzcRYM3/jxRDDL/PsKWI6dGjh1gHCysFtjix2Gnfvn1wzNKlS8PWw2P4fWA8Tk3L1uLy0eomUlpjxMOo1hibfqzQNE5txpiV+wQAAL6yEOXl5YlA6VBycnKobt264n12i7311lt04403ivc4hmjcuHHUq1evYHp+v379hPC55557RDo+xwtNnjxZBGorFh6uW8QWp0cffZTuv/9+WrZsGc2bN48WLlxoy357GS3xNlahxeXjBjfRycpq1eO0ugK93u4DAOBvHFupOj09nT777DN64YUX6PTp0yKGZ9CgQULwKLAVacGCBTR69Ghh8WFBNWzYMHrqqaeCYzjlnsUPi6kZM2ZQ06ZNafbs2SLTDBiH1knWKrS4fLS6iaw8FgXpyarHaXUFMmj3AQDwKo4SRFxRWoEF0MqVKxN+hrPQPv7447hjuOL1xo0bDdlGEB09k6xTO7zLfKZL3Qxbj0XX+pm0/EApxXPuJf00zqiMMTROBQB4EdvrEAFv4Ia07HMunzxh1QmFX/P70Vw+/N4VhZlCVERj1aGyGjFSVh6L1ORkurwwepamAi/ncXa7ArUUxAQAAF9aiIB7cUO8jRaXDwudtUfK464zMkbKqlR4hSY57LIrT7DcnowxZV92nKqkLccrqOzseRGE2CMAgJOAIPIJZqfCuyktW9blIxMLFC0uSM+xUJMKrzVeSYv7UAvR9sVpwfYAAKAAl5kPsCIV3otp2TKxQNHigrQeCy3NU7W21NDiPlRDrH2JBnqgAQCcACxEHsfKVPhz8TZnaN2R8rAg36Sf4ljcZgXQEuOjfEZtirrWzDQ98UpaM8YSWRvVWtbsDLYHAAAFCCIPY3UqfKx4G56K+X2OZXGTKNIS75SVqk1waM1M0xuvpDZjTMalp9ayxqAHGgDAbuAycxlqMnWs7FAuK77c5BpRYoHU8PHe02GuLUVwtK+TIZ5jCU+tlh6ZbTQqdkvWpadF3NgdbA8AALAQuQi1AbdWpn87vQ6RFmSCj41yRWq19FgVIK3G2qhW3Dgl2B4A4G9gIXIJWgJurUyFd0MdIi3ECj5OhFprmB5Lj9kB0moFr1rLmhnB9qh5BABQCyxEHo4F0psKryZV3y11iLTAgqJ1fhptOFoueoJVV1fTpuOVhlrD9Fp6zG6poUbw8ne2q52esH6TWXWI1FpSAQCAgSByAVrdUXomWbWTipvqEBldT8coa5je5qlmttRQI3hZSH97Ir5gzE5Nol+3LwiroO31BsMAAGcDQeQC9KZWq51ktUwqVsWyWE2sY2GWNcypzVPVCF4ZAV9aFaD9p6sSCjg1VkqnNxgGADgbCCIXoNcdpWaS1TOp6LVwOA219XSMsoY5sXmqGsFrVDyZWiulFwP7AQDWAUHkAoxwR8lOsnonFadaOLSgpZ6Om61hiZAVvEbEk2mxUno1sB8AYA3IMnMBVrbFMGJSka2943S0TJxGZnY5lUBExlbka721kbTWtPJyYD8AwHxgIXIJVrmj3DqpmNG8VnYfr2ucTblpKZq+N9p2M060sMWy2pRUBcKsNnrjybRaKb0c2A8AMB8IIhdhhTvKjZOKWWnWsseiW2GWpr9BtO3OTDm3nvKzAUfFYKmNLdMj4LVaKb0a2A8AsAYIIpdhdsCt2yYVM9OszTwWsbY7VAg5KWVci9VGq4DXY6X0WmA/AMA6IIiAaycVt6ZZa81es3Nf9Fht1Ap4vVZKLwX2AwCsA4IIuHZSMTvN2izBpTV7zc6UcStjy4ywzDmxdAEAwNlAEAHXTipqrBZagq7NElx60r5LKrWVAXBbbJlbrJQAAO8AQQRci6w14nhFFc3cYl1wr5lWlNNV1ZZm2tkZW+YGKyUAwDtAEAHXImO14KytVYfKNAUqm+UmktnuWGTHqO8TK9OuT5NsykpNjiko1IgoO6w2TrdSAgC8AwQRcC0yVotExIsBMstNpGe7oxU8jJdp98H3JTU+r4gXLeUKYLUBAHgVVKoGruac1SKvhlDg1z0bZkVNY48WA2R1hfBY2x2PaOJLbcaaYhlbtr9EPEeKPWU5iyWvVyIHAIBQYCECrieW1WLbiUrdMUBmuokit/vfp8pp28no4oxpV7um+NCasbbuSLnryhUAAICZQBABTxAt1sSoGCAz3UTKdrOlZ/mB+Jaeb09UUu/GgbDv1Zp1ligMHF3hAQB+A4IIeBYjY4DMDu7VmuIfL+tML+gKDwDwE4ghAp7FzBggo9Ga4h8r68wInNbAFwAAzASCCPg26Jrfd0qBv8wUbePUBGWrgaVQkxwYkAEA/gFXPOB5jIgBMrPoIXO0vEp63AW1MgypaRQPtkPtP10l1o8Ue/9h9vkOgBOBIAK+QE8MkJZ6PWo5WVGtaZwRtZhiseNkJS3YU4LWGT7DivMdACcClxkAcVCKHmqp12MVWmoayfCvH8tj7veqg6dp6/EK2lNcKawJwBu44XwHwCxgIQLA4m730Wick0obj1VIjUvkFtx+spI2/Bi/zpBeQtuhwHrgDaw83wFwIrAQAWBAKrxe8tNTdI9T3IJtC6ytHQTrgTew8nwHwIlAEAFgcbf7aCjB0fGQrZkksy4z7u/ZegD3mXux8nwHwIk4RhA9++yzlJSURA8//HDwvfLychozZgzVrVuXcnNzadCgQXT48OGwz+3du5duuukmys7OpsLCQpowYQJVVYVn7KxYsYK6du1KGRkZ1KZNG5ozZ45l+wXci1nd7s2umSSzrssLM8loYD1wN1ae7wA4EUcIonXr1tGrr75KnTt3Dnt/3Lhx9Pe//53mz59PK1eupAMHDtDAgQODy8+ePSvEUGVlJa1evZreeOMNIXYef/zx4Jjdu3eLMddeey1t2rRJCK4RI0bQJ598Yuk+AvdhpNXG6ppJidZ1XZPcmMtvb5mrOUAb1gP3YvX5DoDTSAoE7LVxl5SUCOvNK6+8Qv/5n/9Jl1xyCb3wwgt06tQpql+/Pr311lt05513irHbtm2jdu3a0Zo1a+jKK6+kRYsW0c033yyEUoMGDcSYWbNm0cSJE+no0aOUnp4u/r9w4UL65ptvgt85ePBgOnnyJC1evFhqG4uKiqhWrVpim/Lz8006EsDJWTexMLq4I3/fkn0lVFJ1/meZm5pE1zfL1fQ9ierJxFqeaL9jcVebfPQ/czFWn+8AmI2a+dt2CxG7xNiC07dv37D3169fT2fOnAl7/+KLL6bmzZsLQcTwc6dOnYJiiOnfv784AFu2bAmOiVw3j1HWAYBTKl0rk1GoGGL4tdagZSXQun2dDPHMr1kEcbo8p82zGGIRFLpcayo/rAfuxy2V3QHwXNr9O++8Qxs2bBAus0gOHTokLDwFBQVh77P44WXKmFAxpCxXlsUbw6KprKyMsrKyanx3RUWFeCjwWOBfzOx2ryblmS1HGclJVFqlfRvUFN2L3O/jFVVh6fZO7QsHnH++A+BEbBNE+/bto4ceeoiWLFlCmZnGB3jqYerUqTRlyhS7NwM4CCd0u2dL0Tu7ijTX/4nlDlHS5u9odW4yjL3fGVQ/KxVVjH2A2ec7AE7ENpcZu8SOHDki4odSU1PFgwOnX3zxRfF/tuJwsDTH+oTCWWYNGzYU/+fnyKwz5XWiMexLjGYdYiZNmiT8jcqDxRsAZqIlGFlN/R/ZonuJ0uZZ9IzuUFvECt3aIk8882uIIQCA27FNEPXp04c2b94sMr+UR7du3WjIkCHB/6elpdHSpUuDn9m+fbtIs+/Ro4d4zc+8DhZWCmxxYrHTvn374JjQdShjlHVEg9PzeR2hDwDMRE8q8+K9JQmFjJFF96LFJQEAgNuxzWWWl5dHHTt2DHsvJydH1BxS3h8+fDiNHz+e6tSpI0TJgw8+KIQMZ5gx/fr1E8LnnnvuoWnTpol4ocmTJ4tAbRY1zKhRo+jll1+mRx99lO6//35atmwZzZs3T2SeAeAUmuSkimKJWlI+y84GaG/xGWqZH9vFgaJ7ACTOugT+xtG9zKZPn07JycmiICMHOXN2GKfnK6SkpNCCBQto9OjRQiixoBo2bBg99dRTwTGtWrUS4odrGs2YMYOaNm1Ks2fPFusCwCnsP12lSQwp7CmJL4hQdM+/kzFEgPqEAuBPbK9D5AZQhwiYPRlxCvxHe9TX/VG4qkEW9WqcE3c7Zm45EddtxpMDxwP5cbL06mQMEXAO1FfyL0Uq5m9HW4gAcDNqiizqtcw0y02VaucRb1JA2rw5aMnuc/P3Og3ZhAIuNYDz39/YXpgRAC+itsiiTNuEWGSmyKVI2110L7QgJD/7oRGsUdl9bvleJ2JkQgHwNrAQAWAwPMks2lsSdwwvD70jlbHgxGJA81zpO1u7iu751XWjZjI2su6PXd/rRJBQAGSBhchl+PEu223w36X8bPy/Cy/ncbIWnCsKM4W7LRR+rcWyY3XavGIti5yg1dRRcit2TcYQAedBQgGQBRYiF+HXu2y3sa+kSnpcq/wMaQtO78Y5rssW0hq/4ZXMKLsmY4iAmu7oRAkF6MMHIIhcAgIk3UNA57hYbRPc2E5B1nXzj4Ol1DIvTUxKO05Vekb42zUZQwScBwkFQBa4zFwAAiTd5T5sITnJyI5zM7IumTWHy+jtnUX04ubjjnKv6T3HlMk4HmZMxnZ9r1OxO6EAuANYiFwAAiTd5T5snpcmMr/ixRFlpSSJcV5HrUsmUeyVlenRRp1j5yZjsvx8tet7nYpdCQXAPUAQuQAESLrLfcgXWM78imeiv0FFZpibkXHdqMEq4W/0OWbXZAwR4H63M7AOCCIXgABJ9xVZw9056S4nYJfwV3uOyQaA2zUZa/lerwS1A6AGCCIXgABJd7oPWfS0zk+jDUfL6WRlNRWkJ1PX+pmUmuyv0L1Y4lArZgt/NecYu/i8Jnqd7I4GwEwgiFyAXVkSTrxLdJP7MNrEsu5ouS8nllDXzZ7iM7T6cJmm9Vgh/GXPHc6G+9fRcse6br3ojgbATCCIXILVLhin3iW6xX3olonFStGruG74OzYfr9BkLbIiM0r23NlyvMLxrlsvuqMBMAsIIhdhVYCkkydzN7gP3TKx2CV6ZSyekVl6VopxmXMsOzWJSiP61DnVdetFdzQAZgBB5DLMDsx0+mTuhiJrZk0sRlpz7Ba9iSyedmZGyZxj7WtnRHWXOdF160V3NABmAEEEXHeX6PQMLjMmlljWnD5NsikrNVmVcHCK6E1k8bTTCpHoHGMLlowgstt160V3NABmAUEEXHmX6OT6KkZPLPGsOR98XxL2nowodJLodXJdmHjnGItKp7tu1cLbKlNQ1E37BIAa/JX/Czx1l2h113a1MSjxkJ0sZaw5altcuEX0OoFY55hXW2OcTdCapMoh7XEAMAMIImDaZO7XHmhGTpYy1hy1ve3cJHqdjNf6Y/FvIdGpxst5HABeBC4z4LqgZTdkVhkV56TVShPP5eWGTD234GTXrVr2lVRJj2uV7y6xB4AMEETAdUHLWrE6s8qIyVKPlSaWmPK66LUaJ8dBqUFWesNpBrwKBBFw7Z2vmjR0uzKr9E6WepqjxhNTXhW9QDstctNojUQFcR4HgBeBIAKuvPNV6/pyUmaVFc1RZVxebhC9Xm9F46Tta54nl2XG4wDwIhBEwBeur+KKs1LrFuPyyPXNUWVdXk4WvX5oReOk7eNzYUDz3Lji+4bmuY4SkQAYCQQRcBVaXV/7S+UCRnlcR3Ie0aw5ZVXVtHR/qWMneadgd1Vuo7bPCgsSXKnAz0AQAVeh2fUlO284+OY3mjXnooIMR7uB3CSgGauPpez2BQIBQ8VvPHHlN1cqAAoQRD6OGXAjWosK1k5Pkfqc7Din4CaXlx3nu6yAXn2olL46VmG5VUR2+yIrkuuxcMm459x0XgFgFBBEPo4ZcCNaiwp2rZ9Jyw+Uxk0ZTvppHPDO+S4roFcdKrPFpVZSqT57UE92pNPdhwDYCSpV24ByUYq8M5Rpu+B3tFbSTk1OpssL44sdXs7jgHfOdyOqbcer+q2X01X6BZHiIjbKPWfWvgLgdHD1txhclOxri3Fdk1y6ojCzRpgQv+b3ebnX2oj4/XyXEdBGCQ4tZOvcNjWWMDXxd17F6783oA+4zCzGrfVwnBQroicThkVPr0bZtOFoOZ2srKaC9GThJrPDMuQHt6nd57vWOk5WNbrVK9bUWML83tTXD783oA8IIovx+kXJyl5hWjNhWPxc0SCb7MQvsRxOON/jCegudTOixg9Z1ehWphI5f3O8oyPbd87PTX398nsD+tB0e/LUU09RaWlpjffLysrEMuDPi5LVsSJKJkz7Ohni2S0Zena7kfx4vvNkN7pDbbqrTT7d2iJPPPPrqxpma4pJs9IFnCj2TbYIp9b4O7fjp98bsEEQTZkyhUpKaqaBskjiZcB/FyVcdOTxUyyHk873aAJaT0yasRasvBrHiV/z++zmjbdc1rJhxL6aHYNjxvr99HsDNrjMuEhYUpQfzVdffUV16tTRuUnexqudxu2OFXETTnAjWYXTz3eecLl/V7f6mbTleAWVhfTxsjK+JJEL2KhiibLxd9HiAHecqjTVHW6Wu91PvzdgoSCqXbu2EEL8uOiii8JE0dmzZ4XVaNSoUTo3yft4sTw+LjrucyP5/XyPNgFz89IOdc6JD6sLpSYqhmhUscRE4iracYnV9NWoGBwzY3z89nsDFgmiF154QViH7r//fuEaq1WrVnBZeno6tWzZknr06KFjc/yD18rje/2iY2TmnEwgrRvdpm4632NNwGwh+tfRclf/FmWIJa5iHZdoYkhrcUij+hPK4sffG7AghmjYsGF077330vLly2n06NHitfK46667VIuhmTNnUufOnSk/P188+POLFi0KLu/du3fQIqU8Ii1Qe/fupZtuuomys7OpsLCQJkyYQFVV4Y08V6xYQV27dqWMjAxq06YNzZkzh5yAW4OCnR4rYjQ8SczccoLe3llEH+0pFs/8WmuQuBPiVvx8viPeTftxMSMGx+wYH7/+3oBFMUTXXHMNVVdX07///W86cuSI+H8ovXr1klpP06ZN6dlnn6ULL7xQWJ7eeOMNuu2222jjxo3UoUMHMWbkyJFhmWssfELddCyGGjZsSKtXr6aDBw/S0KFDKS0tjZ555hkxZvfu3WIMC6m5c+fS0qVLacSIEdSoUSPq37+/lt0HLowVcZop36luJD+AeDftx8UMd7gV7nb83oBpgujLL7+ku+++m/bs2SOETChsxWGhIsMtt9wS9voPf/iDsBrx+hVBxAKIBU80Pv30U9q6dSt99tln1KBBA7rkkkvo6aefpokTJ9KTTz4p3HizZs2iVq1a0fPPPy8+065dO1q1ahVNnz4dgshgvHbRMduU7zQ3kl+QnVj3FPvr76I3vk+rO9wqdzt+b8AUQcTWlm7dutHChQuFpSVaxplaWETNnz+fTp8+HeZ6Y6vOm2++KUQRC6jf//73QSvRmjVrqFOnTkIMKbDIYXfeli1b6NJLLxVj+vbtG/ZdPObhhx+OuS0VFRXioVBUVKR7//yCly46VlgS0FXc+pgv2Yl19eEy14t6NegRHHrc4VbG+OD3BgwXRDt27KC//e1vIh5HL5s3bxYCqLy8nHJzc+n999+n9u3bi2VshWrRogU1btyYvv76a2H52b59O7333nti+aFDh8LEEKO85mXxxrDI4UKSWVlZNbZp6tSpqKdk8UXH7HYfXs2cc+Jxs5tE6dsyE7AfKxprOS5GuMO96m4HPhFE3bt3p507dxoiiNq2bUubNm2iU6dOCZHFAdorV64UouiBBx4IjmNLEFuj+vTpQ7t27aLWrVuTWUyaNInGjx8ffM3iqVmzZqZ9n9/RWn/EbDHg9Mw5P/RmUvs3lo350trfTI+L1OnICJPI9HujzjevuduBxwURW2gUHnzwQfrd734nrC8sVDiIORTOHJOF43wUYXXZZZfRunXraMaMGfTqq69GFWIMizEWROxGW7t2bdiYw4cPi2cl7oiflfdCx3BWWzTrEMPZaPwAzg1atkIMOC1dN1QcHK+oitqDy0uWDLV/YzUxX7Em4EQoLlL+m8cTam613CUSJma6w61wt7v17wIcJog4YJljhUKDqLkekYKyTE1QdTQ4Yy00ficUtiQxbCli2NXGgdic6cYp98ySJUuE2FHcbjzm448/DlsPj0G9JPcGLVvVqNFJpvxo4sDLlgzZv3HoBFdy5qyqmK/ICfhoeRWtCYkbigVXbF6wpySmUHO75S6RMDEzBsfMGB8n/F0gyDwiiDh93QzX1IABA6h58+ZUXFxMb731lqgZ9Mknnwi3GL++8cYbqW7dusJCNW7cOJHSr1ig+vXrJ4TPPffcQ9OmTRMWq8mTJ9OYMWOCFh4OAH/55Zfp0UcfFQJu2bJlNG/ePBEQDtwXtGx25pebxIGb08bjTQyyf2O+AVu6v1R1zEtozFfoBLynOElKEHHhxlhC7YrCM7T2SLnrLXdeCz52Qrd7JwgyYJAg4uBmo2HLDtcN4vpBXPWahQ6Loeuvv5727dsn0um5OjZnnnEMz6BBg4TgUUhJSaEFCxaIrDK2+OTk5IgYpNC6RZxyz+KHxRS74rj20ezZs5Fy7wC0BC1bWUPGCeJLT7E8p7ZJSTQxyP6NP/i+ZoNpPTFfMi5S/mS8o7ouihjyslh3A074HTtBkAGTgqo/+uijqO+zuywzM1PEBLEQScT//M//xFzGAoiDq2WEWqRLLBKueM3FHoGz0BK0bGXmlxMK+OkplufENikyE8NZ7bUBExIv5kvGRZrorAq4xHLnJ9eN3b9jJwgyYKIguv3222vEE0XGEfXs2ZM++OAD0RAWAKOClq3M/HJC2r3WdTuxTYrsxHBj8/htFvSQKOYrXlBx24L0qO4yt1nu/Oa6sft3bLcgAyb1MgsNSr788svFM6fL84P/z1lg7ML6/PPP6dixY/TII49oWT3wCVp6DDXJSRVui3gk/TTOC2n3WtftxLotshNDEiUl7IunFl7fHa3ypCZ8HvPr9gV0XeNs6lovUzzza76DNwI7LXeKhS7y76BY6LT253Mydv+O7RZkQB5Ns8ZDDz1Er732Gl111VXB97g+ELvLuHYQV4nm2J/QLDQAjKg/sv90lZTbgsfpvdtyQtq92mJ5Vtzpa3W3yF7wS6sCmusEhdK+djq1yc9Q7RKKZkFZd7Sc+jTJ1h1jZKflzq+uG7t/x3YLMmCyIOIMME5tj4Tf++6778T/uWHrjz/+qGX1wGeoqT9i5d2WE9LuZbahZ8MsqpORakksiB53i5qJIbT4n1Y61s6gC2plGBbjxEHcVxRmRs0iU7g8wXI7LXd+dd3Y/Tu2W5ABeTTZpbmA4oQJE+jo0aPB9/j/nNrOrjSlvQeqOwO1ab7t62SI51gXJ6vvts5ZsPJquHDUuGDM3oaejXISHjcnuFuUiSEevJzdnVoz60JReyhkLCjfnqik21vm1tiP7NQk6lY/k1rnp0ddbuX5Egs/u27s/B1rCQ0ALrIQcXbYbbfdJlLYFdHDafIXXHABffjhh+J1SUlJWIo8AG6923JCw1q7t8EId4vsnTq7O7Vm1oVSVmWOBSUrNZlGd6gtxnORxi3HK4SbjwOu+cHnH7vXeJyTsrj87rqx8zeE1iQeFkTcf2zr1q306aef0r///e/ge1w/KDk5OZiJBoBXzN9OKFRn5zYY5W6RmRi2HjcmsFftxK7GgsJ/C3brxSrSyO41tjyw5c4pwHVj72/I7psakBjNqTgsfG644QbxAMBKcLflbndLoomB3U960TKxq7GguDFA2e5YGuCMGytggCB68cUXRQYZZ5Lx/+Px29/+Vna1AGgCd1vudrfEmxgCCfMIE6NlYldjQXFrgDJuJgAwQBBNnz6dhgwZIgQR/z8WXJQRgghYAe623OVukU3Xl4394SDm7ScrDZvY1VhQ7AhQNqq6NG4mADCwuasZjV4BAM5Fr7tFTbp+luRVqXV+Gl3XJMfQiV3WgmJ1gLLR1aVxM2EOfmqJ4kV0lfOtrKwU4qh169aUmqq/MjAAwLlodbeobWwZ0REoJjwu1sSuZ2KSsaBYGaCc6Pjd3jLguIw2P+K3liheRJOKKS0tpQcffJDeeOMN8ZozzTjlnt9r0qQJ/cd//IfR2wkAcABq3S1ago9/OC3nM+Nx0QovGjExJbKgWBWgLHP8Pvy+JCzqCpOwtfDfaPWhUlp1qKzGMnSz90FhxkmTJtFXX31FK1asEDFFCn379qV3333XyO0DALi0iCajJvhY4cfys1LbEbC5V5cVxf5kjl/kcfByXzKnwcd45pYTUcVQKCxqWTgBD1qIuIs9C58rr7xSBFErdOjQQbT1AAAARm3wMU8w/z5VKfWZFhHuKDtS4c0OUNYTlO20tH+vxejEcmW6JeMQGCSIuE1HYWFhjfdPnz4dJpAAAP6cLMyq7aOQlZJEzfPCBZFdqfBmBijrCcr22iTspBgdNeeql1uieA1Ngqhbt260cOFCETPEKCJo9uzZ1KNHD2O3EAAPCAM/TRZm1vZRuKF5bo2/qV29uqKdb4wR56DM8fPDJKw2MN9s1JyrXm+JQn4XRM888wwNGDBAtO+oqqqiGTNmiP+vXr2aVq5cafxWAuByYeCnyUJr8LHsBNOtXkbU/bGjV1e08y0z5dz6ubWH1nMwVGR1qZuRMEbFy5OwE6uCqxWaXm+J4uug6p49e4qgahZDnTp1Ej3N2IW2Zs0auuyyy4zfSgAksDKg1m2ThZ0BnbLBx6WSgig/PSWuNcWqiSnW+cZCKFQMqT0HlUDdt3cW0Ud7ioUYYpGlCC2FJJ9MwloC881GrdBES5T48PVpT3Gl6GPIz3ZdrzRZiIYOHUrXXnutSK/nGkQA2I0T7yKtwC0tJGSCj3NS5e7PYo2zsleXlhgSmXMwlrVPEVg9G2ZRnYxUcfzKqs41kfX6JGyXK9QIV2ZuahJd3yzXs9Zpr1n1NVmI0tPTaerUqXTRRRdRs2bN6Fe/+pWIH9qxY4fxWwiAA+4inXIH44bJQmu6fm663OUo3jgrUuG1xpAkOgdlRNZXxyro4trp4vhdXDvTkn21GztcoYlQxHc8WLz+pmMdz/wd/GDV12QhYvHD7N+/nz7//HMRN/T888/Tr3/9a2rUqBH98MMPRm8nALYJAyfdwbhhsrAiADte4LwVvbr0CMxYn9Vi7eN95RYmG46W08nKaipIT6au9TMpNVnTva5ulL9LSWU1na6qpuy05ODfTOvxt7IquBrQKNd7Vn1d/TZq165NdevWFc8FBQWifUf9+vWN2zoAbBYGTg5Ylp0s2GzvhlgSWZfXjlOVCSchs3t16RGYsT6rRdRHE+vrjpbbMiFH2xarm+5aDRrlesvdr+k24rHHHqOrrrpKiCGOIyovLxfPhw4doo0bNxq/lQAkwIyAWjcELMuY7qsCJESEUZjpPkzk8mKcYGKXOd/UnoNqRb2T3A2xtsWobbLKFWp25XbgbHe/JgvRs88+KyxBTzzxBA0cOFDEEgFgJ2bcRTrxDiae6X7R3pIa2U0Mv2eUNcsK92Gsu26Gs6/MMrGrqV8lc76pPQfVugyd4m5QE2CuZ5tgjfEWOQ5092sSRGwF4rgh7mXGsUMcZH3NNddQ7969xQMCCdiB0T59J97BxIInis+Sk6IKIqMmSCvdh9FcXmyNMkugahF6sc43rXWI1Ih6M4+FmQHmerfJbFcosA4nxoZpEkRdunQRj9/+9rfiNdckmj59Oo0ZM4aqq6vp7Fm55owAGI2Rd5FOvIOxy5rlBIuEWQJVj9CLZ83Scg7KinoniXW13+GEGwhgP8kOjA3TJIgCgYCwErGFiB+rVq2ioqIi6ty5s7AUAWAnRt1FOvEOJhZmT5BOcB+aIVCNEHqxzjetx0GqZpODxLra73DCDQRwBk7L1NMkiOrUqUMlJSXCSsQCaOTIkXT11VeLTDMAvNJLzIl3MLEwe4J0gkXCDIHqBKEX6/cS7/ucJNbV9Ftzyg0EcA5tHRQbpkkQvfnmm0IA5efnG79FwNU4uWaPF+5g7JognWCRMEOgcr0cGbafOJcdZfSFWuvvxUliXU2AuVNuIICzSHZIbFhSgP1fIC7sDqxVqxadOnUKIlBDLIaC3emxXrd6mXn8ef85wyuR4Brdobbpx8VI0b32cCktO1AqPT7e96g9R4z4eznpBsSsOkQAWDV/6yrMCICTgm79cAdjlzXLSRYJI03sXElZDbECrdUKE6N+L05yN4Rui5GVqgGwCggiYAhOiMUA5k6QegWXkVY2owSqluKKkWJFS5aakb8XJ4l1q7bFDRZb4D4giIAhOCHoFpg/KWkVXE5y7WgNCI4mVvjzWiw9+L1ox6nnEnA/9nQABJ7DCUG3wJmtCpzUYkJL65N4YkWNpScU/F604eRzCbgfCCLg2F5iwP24oR8cWxWuKMwktdKDxYpsj7hISw9+L948l4C7gSAClt1pI+XWf2i1oFgJWxXWHiknNdMoi5Wyqmr619FyTZYe/F7UNw52w7kE3I2tgmjmzJmiujWnwvGjR48etGjRouDy8vJy0Q6kbt26lJubS4MGDaLDhw+HrWPv3r100003UXZ2NhUWFtKECROoqqoqbAxX0+7atStlZGRQmzZtaM6cOZbto59wckdqQLZ0u3d6rIyaxqSh9GmSTUv3y6Xrm23pUfP3cDIsTLm0w9s7i+ijPcXimV8rbjCnn0vA/dgaVN20aVN69tln6cILLxTtQN544w267bbbRFuQDh060Lhx42jhwoU0f/58UUdg7NixNHDgQPriiy/E57lnGouhhg0b0urVq+ngwYM0dOhQSktLo2eeeUaM2b17txgzatQomjt3Li1dupRGjBhBjRo1ov79+9u5+57ESWnAwP6AVqfHyqhpTBq6r9zAVfZz0Sw9RqXdOy3AWGv2l0ymntPPJeB+HFeYkduCPPfcc3TnnXdS/fr16a233hL/Z7Zt20bt2rWjNWvW0JVXXimsSTfffDMdOHCAGjRoIMbMmjWLJk6cSEePHqX09HTxfxZV33zzTfA7Bg8eTCdPnqTFixdLbRMKMwI3YHYqspZCgmYXdNS7z2xVYWtEIrrWy6S2BenB9ct+rlv9TOrbNLfG+2zJYQtIIu5qkx8zY9BphVC1ijPZc+TX7Qvo1a0nHVEcFLgHNfO3Y2KI2Nrzzjvv0OnTp4XrbP369XTmzBnq27dvcMzFF19MzZs3F4KI4edOnToFxRDDVh8+AFu2bAmOCV2HMkZZRzQqKirEOkIfALjZ3WBXQKuZsTJG7LOsNYHFUGhGnezn2MITDb3uH6cFGOvJ/pKNDdp/ugpxV8BUbBdEmzdvFvFBHN/Dbq3333+f2rdvT4cOHRIWnsiGsSx+eBnDz6FiSFmuLIs3hkVOWVlZ1G2aOnWqUJTKo1mzZobuMwBuS0XWE9BqRmxZon3edqJcKq6mSU4qZaUkqY4BUpMlFi3GR6/7x0kBxlrEWfgxOSMtDhGnCDxdmLFt27a0adMmYc7629/+RsOGDaOVK1fauk2TJk2i8ePHB1+zeIIoAk5ETSwKo9W9pNeioTW2LJpLTNmneHz4fUlY1lg0143i4ik7G1BtdeDX7Wqni+y0WPByTsuP5kbioGw9zXidFGCstup2vJ5nMuIQcYrAs4KIrUCc+cVcdtlltG7dOpoxYwb98pe/pMrKShHrE2ol4iwzDqJm+Hnt2rVh61Oy0ELHRGam8Wv2JWZlZUXdJrZW8QMApyM7Ga0+VEpfHavQHHxrRECr2grasWJSutTNSLjPgQRtNBLF38j0Ivv2RPwaRF8fO5fOT1G25YPvS0Tto3iCKp77x0kBxmrEmcxxlxGHTmpXAryD7S6zSKqrq0UMD4sjzhbjrDCF7du3izR7jjFi+JldbkeOHAmOWbJkiRA77HZTxoSuQxmjrAP4A6+kJmudjFYdKtPlUmPXkgyy4/S4xHhftMICq6q6OqGFKTs1SQTxxhKLMkK0PIHliQXV7S1zNbl/nFTYUVZ0ZaUmtuzFArFBwPMWInZNDRgwQARKFxcXi4wyrhn0ySefiNid4cOHC9cVZ56xyHnwwQeFkOEMM6Zfv35C+Nxzzz00bdo0ES80efJkUbtIsfBwXNLLL79Mjz76KN1///20bNkymjdvnsg8A/7ACanJZmWAGWEBiJferWz390VycR4/lFRRy/x0W2oDycDnwIaj5QnFTGlVQATxxrJCGOGK4m3ISj2XFaX23FCC1eNZW6wSETL94Hh5EsmXKgj9HHqUAV8IIrbscN0grh/EAoiLNLIYuv7668Xy6dOnU3JysijIyFYjzg575ZVXgp9PSUmhBQsW0OjRo4VQysnJETFITz31VHBMq1athPjhmkbsiuPaR7Nnz0YNIp+gpRO5mwSZ1uakMl3VtcR67Ck5o1sQqa0NpJaTlXLrjid6jHJF8Xdodf+cCzAm28W+rDhjkSlDjwZZVD8zFbFBwHIcV4fIiaAOkTsxuwaODFbUitEalxHKrS3yRLNWveu8qkEW9WqsrVmqgmyNH61c2ziLlh8o01UDSObckiHedzil/pRRwt+I2ksAmDl/2x5UDYBTsl+MxqhqxHosBRyALBNzE2rx0OOyapar/5Iia33p2TCrRqC4DHUzknVleMlaRdKTieIZozjdX2uMj1NEUCiJsr9kXWtoaAvsAoIIeBa7U5OtFGSxJiMmkWiInIS0uqy4nYURwlJ24ryqYbZ4KPv81Y9ltOd0eB/DaGw9ccaQ+Bs+5lcUnqF1EY1h+VPd6mfQ5uOchRb73Aq4OCYuFvHcf06KewLAFVlmABiF3anJVgsyZTJi15dSVVlLpWit2zOgea4hk5lS4ycevFzZP2Wf0xMUWFQ4U32uwB+nvUd+gl/z+zLCgoUJp81HHi1+ve5oRcIsM17OYk5NBqQVRTjNBIUVgZOBhQh4FrtN9HYLMq3Bt2q3Jzc1ia5vlmvYZCZT44eX9258LiBZoWlOKu2QyIbjcYqYiYSlCL/fJCctYf8tIzLhuHDjgj0lUn8Xq1ywZoPCisCpQBABz2K3id5uQaZ1EpLZbq7T06dxDuWmJwfXY1Rci1ZX46X1M2n5wcTxUjzuz9+e0iUsjMqE+9fRcukMSLtj4owEhRWBE4EgAp7GztRkuwWZ1klIZru5+3tSyHYbGdeixdWofH8i2B12sPSsbmFhhJuTj15AhSizOyYOAK8DQQQ8j50meisFmZGZR7G2mzOjeLoNzVzjYOpo8TJaaz2pdTXKlghgMXRdk1wRq+OEOkSJZEukKHOKCxYArwJBBHyBnSZ6KwSZGZlHkdt9rPwMfXG4posnUfCw2rgWbv+RyHrCnA0E6Jvj5bQ0gWUoIzmJxnQsoPSUFMOEhaw7lJu4Lt1fWuPv0rYgPaq7LJ4oc5ILFgAvAkEEgMsFmZnVuJXt3nainFZHEUMyKJYOnqhlRCG3zJBx+szbJVe8saI6INxkLfJSDBMWsu5QPu4XFWTU2G9+LSOIQkWZ01ywAHgNCCIAXIwVmUcsuLg7u1XZVGbEwISu0yhhIesOjSaGtYoyp7TrAMCLQBAB4GLMzjwyKr1cTTaVGTEwkes0SlhodYfqEWVIWwfAHCCIAHAxZmceGZFerjabiif3WIHaWojl/jJKWNjRnBVp6wAYDwQRAC7G7MwjI9xXarOpjCae+yuRsDC7ZxisPQA4BwgiAFyM2ZlHaoRUpFVHazYViwMjrENcPLJ97QyxXSxs1IoMq3qGyVp7nNjQFQAvAUEEgAWYNZmZnXkkI7h4zbe1zDUsm8qooOrSqoD4bn6oFTJmZu55raErhBrwChBEALh8MovXdf1yyUalegQXi6GLa2eK/xuRTXW8InHHerWoETJO6xnmNHHmFqEGgFrQ7R4AE5HtTq6m47maruv8vt4O6Ik6lCtiKJ6gikeoBYu3NbQKttHw5J3o2KrJ3DMbWXGm5nyx+twGwC3AQgSAzZNZIBCIWs1Y5i7bKmuGnuBfJZtqyb4SKqk6P3HnpibR9c1yg/toVIq/3gBuJ/UMc2pDV6dZ0QAwAliIALB5MuOih1rvsq20ZijBv+3rZIhntRNdaDPYaK+N6iCvVcgoVrqj5VWO6RnmJHHmVCsaAEYBCxEAJmHEJJXoLltWQFghNPTGwFg1qUcTMtFiYeKht2eYbCCyUxu6OlWoAaAHCCIATMKISSqRO6RUcgIPHRc6GXNqeoACVFZFpmQIqXGtqD1e3epn0vaTlWEiJlERyGhCJpZgi4eezD01gchObejqVKEGgB4giAAwCZnJTO9ddk6qnNdbGZfIEmJ0hpAa14ra48Ui6romOWGWll2nKmltnDT/drXDrW1q45b0Hh+1GWNObejqVKEGgB4QQwSASchkWOm9y86WvAPncbGygszMECqprJYep+Z4KZNtaFwTv/72ZGXcz317IjyDTzZu6aoGWXRXm3wa3aF2DTEkmyGoNWMsUZafrDjTk8moN3sQADcACxEAJhKvX1WfJtk1sssiYZdWk5zYP9Mk4SRKDM99aiwhRmUIna6qVjVOOV6L9pbErVYdbbLVkpElK9jqZaZGdVuqcX/pyRiTyfKLF5dkRr0goxrkAuAUIIgAMJl4kxlnWsVzh3C15Ve3now5wfByGX44XaXKdRdtYpYNBA4dVyopiLJSk2ocr9WHSkWV6ch2ILGOhdpAXyES9p/WFYitxv2lNxA5XouPeIKHMauwI3qxAS8BQQSABcSazGLdZctOXLJBq1qcI6ETs6yFQW22lkJZhLDj49WzUQ5d1TBberJVE+irJpA6WiyMljo8ZgUiJxJm3MtNzXYacW6jnQdwIxBEwNM4/cLM28cTVq9GWbTkh9MUz4MTbeKSDW5tkZtGaw6rqwCtTMyylhAt2VqJgsNlG5+qORbsgmSrmyxGuefMCESWEWaJGuUaXdgR7TyAW4EgAp7F6RdmtdaUaBOXbBZS8zx1GVzKxCwz4XIF6tb5abqqTOem68/vkD0W+yXdh1kpSXRD8/OVtEPR4v4yI2PMqGKWsrFUbu67BkAikGUGPInT+yzJZHxFI9pELJOFpDbjTZmYZSZcbsexeG/NatuyGJmefa7RbWaNUHPR6LZ+hrDGce0iGfrEEc5a3V9GZYwZXfhQNvjdrX3XAJABFiLgOZzeZ0lPz65YE3FocCvf7fMEl52WLAQAfx/vp0y8khAOhZnBiVl2wv3mhJzIMDs9W2l0GwnvxbqjFeIhS6RoCUWP+8vIQGSjCh/yueLVvmsAyAJBBDyH0y/MWt0c3AyVb665jky0SZT/z/EiKw7GbhQbmsEVras8CwcWFOnJSVQnI5VKzpwlszDafWlkc9hEViu97i81sVFWFP+MJ/5kQTsP4HYgiIDncPqFWev3ciLWO7uKYgoKNfEbXx2LbykJFUuJ2mFooWfDLJFBZqSFzsjmsDJWK8XixjFU7DYMFa7XN4see2R0sL+MMLPKZYl2HsDtQBABz+H0C7Pa72W3F1t+IrOFQoUOW31k3YRqhYMZspEFGQsiIzFC4Kq1Wu0/fYZOR5QM4Nf8fqx1GB3sL+MKtcJliXYewO1AEAHP4fQLs8z2cYXqPo1zRMuNj/eejps6zRMhJ2nJugnNtIyx5Wf90XIqszjVW6/A7VqP46bSVVlqlu0viRmvpLx/XZNcS7KwIuOS2NW57ECp1N/LKJelU/uuASALssyA53B6nyWZ7evfLJc61M0UY+WETpXUdysuGjNgkcdWnz6N5Sw/RgszRWhqgcUQizPZc6KquprWRRFDofByHmdUFlaiXmShfd26FWYlPBbs2jPaSmd0Fh0AVgILEfAkTu+zJLt9sqJBVloo8SpGBOJGwtu941QlLZWwTDBsxYgVIK4F/jx3s49mtYmHFmvhhqPlCY954KdxVzTI1h3sr9bNJmOt4TgnM24K0M4DuBVbLURTp06lyy+/nPLy8qiwsJBuv/122r59e9iY3r17i35PoY9Ro0aFjdm7dy/ddNNNlJ2dLdYzYcIEqqoKv2NesWIFde3alTIyMqhNmzY0Z84cS/YR2AdfmLk7OXcpv7VFXsxu5XYhs32y1hyuRJ3IIhDaIV5NTaJQLi5Ij1rjh2v/MDwBJ3KXKZ9hl85He4rp7Z1FNHPLCVW1oaJZS/jB3ezVosVaeFKykGHoOK3B/lpratlprQm1VqmxvAHgWwvRypUracyYMUIUsYB57LHHqF+/frR161bKyTl/wR45ciQ99dRTwdcsfBTOnj0rxFDDhg1p9erVdPDgQRo6dCilpaXRM888I8bs3r1bjGEhNXfuXFq6dCmNGDGCGjVqRP3797d4r4GVGJXebNf2ycZDcSVqNfEbWgJxuXLztihFDZWYmcwUeUET0BFDE8ta0qVuhiqrlx5rYYFkZe3QcVqC/fXW1IK1BgB5kgIB55QNPXr0qLDwsFDq1atX0EJ0ySWX0AsvvBD1M4sWLaKbb76ZDhw4QA0aNBDvzZo1iyZOnCjWl56eLv6/cOFC+uabb4KfGzx4MJ08eZIWL16ccLuKioqoVq1adOrUKcrPzzdsfwGQIVGPsNC7fbWuFY5xYbcOWzIqz1bHLbCoZLuZCW8rW8liTdh6+qXpCaCOdtye/+p4XLcZr/l3XepQanJyUNywJSyRuA3df7Z+sQUtEWxddLLwB8Au1Mzfjgqq5g1m6tSpE/Y+W3Xq1atHHTt2pEmTJlFp6fkYhTVr1lCnTp2CYohhqw8fhC1btgTH9O3bN2ydPIbfj0ZFRYX4fOgDALtQ4/pQ4yZkccFNTtl1teHHciGGWPREdkfn7+FsJLPFUGgMTTTX2O6ic2JPL2oDqKPBIocreseDlytiSGuwv9NragHgJRwTVF1dXU0PP/ww/exnPxPCR+Huu++mFi1aUOPGjenrr78W1h6OM3rvvffE8kOHDoWJIUZ5zcvijWGhU1ZWRllZWTVim6ZMmWLavgKgFjWuDxk3YSxLiyJ6WABxpWrle7bpaM2hFmVyV9v8Vm8AtdpiiUpKPWeTBaK0P4lMudcS7O/0mloAeAnHCCKOJWKX1qpVq8Lef+CBB4L/Z0sQx/306dOHdu3aRa1btzZlW9gKNX78+OBrFk7NmjUz5bsAsDoeSiYuhQsnju5wvpK0lRMuf5cRrjE1AdRaiyWy6OnVKDvoduSYoa71wy1DesSt02tqAeAlHOEyGzt2LC1YsICWL19OTZs2jTu2e/fu4nnnzp3imYOpDx8+HDZGec3L4o1hf2KkdYjhTDReFvoAwCuoSf9WU+Mn0tWmBf6OJjmpulxjbN1Sk1mlNYtLgcUPp9b3a5YrnuOJIbVZWE6vqQWAl7DVQsTx3A8++CC9//77Ii2+VatWCT+zadMm8cyWIqZHjx70hz/8gY4cOSICspklS5YIEdO+ffvgmI8//jhsPTyG3wfATIzqWWUkWuJSZOraDGh+zkUUaWlR0wuNv2P/6SrNbjKlOCQ/ZI673iwuK3B6TS0AvEKq3W6yt956iz788ENRi0iJ+eGIcLbcsFuMl994441Ut25dEUM0btw4kYHWuXNnMZbT9Fn43HPPPTRt2jSxjsmTJ4t1s6WH4XT7l19+mR599FG6//77admyZTRv3jyReQaAWRjds8oozIxLiXQHZaUSffVjOW07dd7aFI3Q48IB1FoJtZbIuBf1FEu0EqvT57UKeSfeAADgCkE0c+bMYGp9KK+//jrde++9ImX+s88+Eyn3p0+fFnE8gwYNEoJHISUlRbjbRo8eLSw+XL9o2LBhYXWL2PLE4ofF1IwZM4Rbbvbs2ahBBEzDrJ5VRqAlLkWtJYXFAx+DhXvCO8HHqm/06/YFQVeTFiEWKTRlJ2ZkcRkn5PlzS/aF/725PQhXxIYVC7gB211m8WABxDWJEsFZaJEusUhYdG3cuFH1NgKgFi1uGCvvrLU04VRrSVETFM2VrdlNplhgZAQbT7Q3t8ij0qqax0vNhO6WLC6rrI1ahXysz7E4svsGAADXZZkB4BW0iAerXWtq41LUWFJkBGG0z6ntw9UyP133hG5XFpcaAWyVtVFrPBV/btHekrif4+VWxGHBZQf0AEEEgMGoEQ+JJrueDatEgLDdTTjVWFJkBKHW9Rs9oWuxlulFjQC2MuhbazwVF85MVLSTl/O4VvkZvovZA+7BEWn3AHgJ2cmdA44TTXarDpWpbnyqBtn0b5m0e8WSojbeRmu8Eo/TW07AatSm+Fu5T1rjqfaVhDfSjoXsOC3oLZ0AAANBBIDByIqHJEqSsqQ44aKuph6OWmtPu9rhQkyrCNAyoasRX6FtRPg5UpAlQovQszLoW2s8lew3mxWWrlVAAxAJBBEANokHDghWg90XddmeajKCMJRvT1QaIgK0TOiy4mv1oVJhqeNGqx/tKRbPai13WoSelUHfaqyAobSQjK+SHacWN1gG3UK1TtHvdhBDBIBNQct8wVFDono4VgSUysQdycTlxNsvrSJAS4C0rPhi16XeoGYtQs/KoG+t8VTN89JElfJ4cURcWoHHmQFKJxjDdsRgQRABYBaJxIPMZCd7UbfyYibTU00RhJxdlCjgVo8IiBSBfZpk0wffl0hP6EZYVmSDmrUIPauDvrVUxebv5irl8bbxhua5pmV7uaV0gpNxct00K4EgAsBE4okHtZaUWBd1qy9msSxRke+zSEhvmUvv7io2RQTsOFUZdeK+ojBTuOFkJnQtolRrJWut1h69rTvUWg61VMW2s70IGuDqww3ta6wCggj4GrvrligTSWSFX9mLutUXs1iWKA6MjiZC2GKjVQRcUXiG1h0pDwvG5T24vDBT/D+WCFx7pJxub5lLWanJCf+uWkRpNL4vTnwO6bH2aG3dodVyKGMFNGob9WJH6QQv4Zb2NVaQFEhULhpQUVGR6K926tQp0TQWeAMn+cxZ2HDgbrRYFYVo3do5DokDfBNxV5t83RczNdWnQ2GLDYsUNfuV6LsSxazw33F0h9rSk2Csc6FL3Yy4f5NY3x3vHLK76nS84+6UGwW3/57dBAdQc6JAIm5tkSfKc3h5/oaFCPgSp/nMebLp2SiH6melqrqoWxVQqqX6tAJbjthis3R/qWHFCBPFJam9o41l3WC+OlahyqWW6ByywpKix3LoVmFhl4XK7SAG6zwQRMB3ONlnrvaibtXFTEv1aQX+HLuv2GITTXCwlSv0PT3fpUcExnITaXWpLY7TrkKLSyoW0aw5Wt0gTrtRUIuRx9UvIAbrPBBEwHc43Weu5qJu1cVMr4WJPx+5X7EsEW0LjDnmRt3RxgoYlmlau7f4TNSea0a5qfQeQy1FKv0QXOsHQs+3RK7hvj6JwYIgAr7DS3VL9AaUyk7CesVF5OfjWSL+dTR2vJEsRt/RRlrudpwqp29PJi70t6dEThBpcVMZcQy1FKn0Q3Ct14l2vmWmJNVwR7vBVWokEETAd1jpM7eqWKKWlGc1k7Ce9HQtvcr0YsYdrWLh4uO2q0iu6rHMFmhxU8kcQ/7ueJJea5FKN9woAPXnW/lPQqhnwyyqk5HqyxgsCCLgO6xyM1kZnKo29kjtJKwnPT1SnBgVI9Q0J5VOVVYbdnwrz56l5ftL6URlNdVOT6Zrm2RTekqKrky7ZrnxL7Fa3VQyxzCRbNFapNIPwbVeReZ8++pYBY3ukO0rIaQAQQR8hxV1S+wITpWNPeKLIleQVhsQnKhCR2QqvFKHiN/n1F5FpBllYeB2EHdHCdTW8nf7265TtDPE6vM9EW08VkFt8tPozta1NFm2eL8T/T20uqlkj2G3+pm0/aRxRSr9ElzrVeAWjQ8EEfAlZlbWNSs41Sj3Gwf6JkpbjwwI3nainD6M0xKDSUtOotta5lJZ1TkrQllVddRUew7gNIKmuamGZBVFiqFQ+H1ezqJIrWWL21kk+vuY3ciWz7HrmuRInTcocOh94BaNDwQR8C1m1S0x4y7MSPfb95JNZdcdKSU+FCxs4vUHU+Bt42PXvs65OJton+ExnM2SqLCiDJfVz9ItEtlNFksMKfByHicrhjKSiG5sGbvoYShq3FSh+5qVStLWHDWi0c4WHMB84BaNDwQR8DVm1C0x+i7MaPeb7MS+q7iKdhUXSQUGh+6TbMCvHrj6NQc26524OWZIdlztjPB4olhc1Shb+vtl3VQsSmduORE1K8hoaw4KHHoXuEXjk5xgOQDAxrswWfcbj5OFL3hqUGPHYcuFjIWMXXI/a5CpeluSfhJDTXLShBiM/B5FJLKLjws+cuwSP8c6PhxALQOPy0mV29ZcyXGhbqp4cJ84trZF7qtiYYsURnxM47XlUHOjwK0a+BliSDt87smci1Ygc7719bFbFBYiABx8F2aG+61lXjp9Gae3mB6SKEnaArX+xwq6rF4GfXE48bY0yEqhxtmpIvMrNTlZWEviwfFOodNOLMtRgaR45ayz3HRJQSQ5TsZNxUHpHIcVj9QkosGt86m0CtYcp+HENihwi8YGgggAgzEyONWMIMjmeWmGxPBEY+OPZfRdsVyNHv5+GTHEHC47Kx4cz8NB2WpTzqO5F3my2im5rYoQM8vdEMtNJSOIS6oCItbLjY03vYyT26DALRoduMwAMO0uLK+GS0itO8OMIEi+6HEGlBlsP3WGDCgxFBMlKFsrintRmaxKJIQkW4dYDJntbojmpkJWkDsxw9VtNHCL1gQWIgAcfBemxv2mJuNKMZsv2lNM5SYKGKfBx5HjONTUE+L4IXbRKe6EaO6G7NQkal87Q1je+O8Qetz1ZMIhK8idoN6PfZX79QBBBICDs9hk3W87TlVqiglITU7iqxT5iX0lVaorZUe6ORShy8d9y/EKEb/D/cP4EXrc9caQNMlJTdiCI+mnccA5wLLnjniqSOAyA8Dl7jcmXsYVX4giCbqMqpxxQeb+SWozzrSiZ48VNwcLVY6BYgHEGXPRjvuy/SWq/y6R7D9dlXB7Az+N81vGlJOBZS/69UbPb8EKcFsBgIvdb0yijKvIqthqW1CwUOlYJ53WSAZAq4XXf1XDbPHg/fu++AytOVwmJaK471LoRVamoWmL3DSp9cdzc/CxT3QM1yXI5JOpVs4WKKdYGtxwh+8UUO/H/Mr9ZgBBBICL3W98l642VkG2BcWVhZnUKj9dXLQ/3au+qassoYHIvI3s/pERLFc2yAqKKEUkJqqqzd/FWXaJJqt48HcZ0Vw1UQwJCxC2QDnB0uDkjCknxsOgDYo746kgiADwWayC7GcKs9KCF6iTJlggclOT6PpmuTUm0h9K5Nw/PI57rSnbqExQ3NCU43pCXVmRloxEk1U8ePIzyiITaz1qrHiylgatAa1q7vAZJwfNWmktQ70f98VTQRAB4LNYBS2f4dRz7gBvFOzuYutOtMlyT4lcbSAepzSfjTZBZaUkUYc651yNkRNzrMlKVnzwpG8Esf4WMpY/NZYGPe4u2Tv81YdKa7gwvTj5q7GWod4PuSqeCkHVAHggVkGNBUHLZ7gwoREogeA9G8WexGUvi0kJAjbZQsQuJw5+jvZdPFnd2Dx+XaFY4kPmGCZptOzw/nClbRnYGpZIbOgNaJW9c+f6UE4PmrWjvpDf6/0003C9sQsIIgBcjJZigVo+k56SQg2z5JqbRnJxQTrd2iKP7mqTT6M71E44gTfLlTNc8zg1E1S0DKkyyeQsri8UWlBT5hheXpip2rKjiBfZKuKKm8roAoGhx6rkzFmpbVH7HV6PhwHu658GlxkALkdLrILaz/Bkdlplin7ST6LguibqqmLzXXSi1iK8nMfpdedwGxAZbmuZS63yzXX7aMn+S3RXzfutNqA1mnstUfZeIpwSNGt3PIzTCxOahVviqSCIAPAAWmIV1HxGNjPt0roZlJSURAXpydS1fqZoeaEWpbVIvKBnXq6mtUW0dh9KGxDuxRqv6b1I1Y+YyGXEi9q0e9ljHHlXHWuSZWEj2+ZEOY6x4mOMsO04IWjWzngYv5ctaOuCeCoIIgB8XBVb9jOyk1mz3HOxEkbdUS7ZVxJWPDIyM82IQMx4YiiWOd+MtHvZY8zWMRaE8Sph92mSTUv3l5IsfBzVWqgYPiptC9Jp28lKVwTN2lVfCGULjKncbzYQRAAAR2aKyNxRykxQWol3925G2r3ssbu9ZZ7Iros3ycarxRQvc07tceStZzGUyMXplKBZvWipL+SmwoR+x9ag6qlTp9Lll19OeXl5VFhYSLfffjtt3749bEx5eTmNGTOG6tatS7m5uTRo0CA6fPhw2Ji9e/fSTTfdRNnZ2WI9EyZMoKqq8GjJFStWUNeuXSkjI4PatGlDc+bMsWQfAfBzpojeVg+JMnRkAja1wM1af92+IOZdu1HCL3Q9sseYC0tqseYkmsD1iLxEf1enBM1qIfIcZuESr5VO5DmDQGz3YKuFaOXKlULssChiAfPYY49Rv379aOvWrZSTc+4iN27cOFq4cCHNnz+fatWqRWPHjqWBAwfSF198IZafPXtWiKGGDRvS6tWr6eDBgzR06FBKS0ujZ555RozZvXu3GDNq1CiaO3cuLV26lEaMGEGNGjWi/v3723kIAPDsnbFMzERo/EtWKrtgkkSjVDXxBVprCsWDt4H7g8Uy78tYpmTaiIQKSDXHWE2dokT1oIxwP8ZyO7o9RibeOcwZkzLxMG4qTOh3kgIB5+RCHj16VFh4WCj16tWLTp06RfXr16e33nqL7rzzTjFm27Zt1K5dO1qzZg1deeWVtGjRIrr55pvpwIED1KBBAzFm1qxZNHHiRLG+9PR08X8WVd98803wuwYPHkwnT56kxYsXJ9yuoqIiIcZ4e/Lz8008AgA4G9nA0FjunNCJuF5miohziTWxx5tMowUS83svbj6eMCZIFi4VEC8eipu3ro0TON0mP412FsW+61esCZH7wu1HIo9L5LFga8VHe/S1U+F4rN90rCP+z99fVHmWFu41xuqUqPimG0h0DkezBkWDxevbO4sSjuOyFE6Or3ErauZvR8UQ8QYzdeqc+5GuX7+ezpw5Q3379g2Oufjii6l58+ZBQcTPnTp1Coohhq0+o0ePpi1bttCll14qxoSuQxnz8MMPR92OiooK8Qg9oAAAubgeGXeOTPaTEnDas2EV1clIDX4XNzyNJso610k3TAwpbrNY8D5+eyJ+IPHhsrN0e8vcuOImXlB0VmpyzGNshMuOg9OjHUuj4KKYLIjMwOz0dSPjftDo1T04RhBVV1cLgfKzn/2MOnbsKN47dOiQsPAUFBSEjWXxw8uUMaFiSFmuLIs3hoVOWVkZZWVl1YhtmjJligl7CYD3M0W0BOfKiqdYwbv8fV8clmuEKksgwuEVOglzsUKZuBAWNbFcK4mCotkCEctCJTvJKtlm0QQZo7Wfmwz8d2LriNH1m/Skr8sKKSMbkqLRq3twjCDiWCJ2aa1atcruTaFJkybR+PHjg69ZODVr1szWbQLADKJNEEwiC1C85WbGQshWcDaC0CrW0SZhGfhYRBOQei0QspMsC4SLCjKi/o1nbjlBZrOvpMpQQaQnfV2NkDI67scthQn9jiMEEQdKL1iwgD7//HNq2rRp8H0OlK6srBSxPqFWIs4y42XKmLVr14atT8lCCx0TmZnGr9mfGGkdYjgTjR8AeBmeICLr/GQkkyisGCo8ZFw8oRd1L9SbCd2PRLEkMuswwwIhO8lGE2RGBWUnwkj5qkdEqhVSZpSZcENhQr9ja9o9x3OzGHr//fdp2bJl1KpVq7Dll112mcgW46wwBU7L5zT7Hj16iNf8vHnzZjpy5EhwzJIlS4TYad++fXBM6DqUMco6APAbygQRKoaYiuqaVhhl0lj6Q7FUk1CZ9HGno8R06ElvjxcXYpQFgidZdslxQK6afnFarXgsmAe3zqcrG8Tv06bQwsC4GK3p61r6uZnVkNTvjV6dTrLdbrI333xTZJFxLSKO9eEHx/UwHBk+fPhw4b5avny5CLK+7777hJDhgGqG0/RZ+Nxzzz301Vdf0SeffEKTJ08W61asPJxu/91339Gjjz4qstReeeUVmjdvnkjpB8Bv8IV/0V75wn0K645WSE0qZtUGshIlpkNPPFS8uBAjLRBaJlmtVjwWzLz6Xo1yRDxXPLJSkkTNJKPQKiK1CCk3NSQFHhFEM2fOFJllvXv3FjWBlMe7774bHDN9+nSRVs8FGTkVn91f7733XnB5SkqKcLfxMwulX/3qV6IO0VNPPRUcw5YnTrtnq1CXLl3o+eefp9mzZ6MGEfAl7C4xIxYndFI5587JE6ndVsJ37ZzZFXl3z5N35ASeFeW9yOJ6WiwpsQr0hWKWBUIWPVY8JS6K24fE44af+s0ZhVYRqVVIKeewbAFG4H4cVYfIqaAOEfASnx84TasPyzX91Fu7hy1G3HFdtsmoXmLV9okVLB7tvdBJXLaGzHWNsyk3LUVVXIhRdW60ojU2KrRejpUNS/lvyoHgiTLr2GWo5W8Yqw6QXzvUewXX1iECAJiPmXdAkXfnPHH0bJRD9bNSE9bbCa1UfbyiKq6Iiky/lwkkZqJle8VDNr29W2GW6knS7swjLRW+I61WVgYKa01f11sHyOkNSYFxQBAB4DM40HWNCRaieJOK+okzI6aI4knPiElYxrphdg0ZuzOPIr8/kRCNtq+hgsFsa4oWEYk6QEAWuMwkgMsMeAFlsuKJ5JN9JWR01rUZLh6zJli17iorXUN2o3VfrXafqT0v/PQ3BNrmbwgiCSCIgNvRWlhQpkkpL7+tZS5dXFsuFTsWVsVqaI1F8VMsidp9tTseShY//Q3BORBDBADQFDwbrY8WNxvlVhKxMEIMWXn3rrUootZYEq9Pwkb2/VLznV4+psAeIIgA8PCFWWay4iamfRrnUG56csztvyMpyTTBoqcdgxaMbsvgFjeN7LmqdpuN7PvlFZcecCcQRABoxA0XWJnJirO6WAzFm6zMCv61w7pgRlsGJwg9I85VLdtstcDUckyd9LcAzsXd9fUBsAnlApuojYXdWDlZWdmOQQ9WFEXU0i7C7nNV6zZbJTC1bp+T/hbA2cBCBIALrBpaMWqyMssaZodgsyINW1borTpYSi3y0kwNIJc9V7W6vvTW+ZFF6/ZZ7dID7gUWIgBcYNWw0xpipjXMKuuC1cgKOK4YzlWUOevNDKuimnNVqzi1qu+X1u1zupUUOAcIIgBU4qYLrN7Jymx3gx09vaxwoagVcGa5WtWcq3rEqRV9v7Run1dFNzAeuMwAUInbLrB6WkSY7W4w230VLbPKiH1KlLEl40ZyWgC5XteX2VW3tW6fVS494H4giABQiRsvsFonKyusYWb19IoV99S2IF3XPhnV8sOKWBY15ypvc7va6bT2SHnMsbw83jljZt8vreIZrTuALBBEAKjErRdYLZOVVdYwo60L8dKs/3U09oSfaJ/UpG/zc7f6Z6S/z+4AcrZ6fXuiMu76eHnvxgHbzm2t4tnuRrrAHUAQAaABv1xgrbSGGWVdkIkRStSOJNo+acku5P+rFURGu1plz1W3ZGNpFc92N9IFzgeCCACN+OEC60ZrmMzEnsgGE22ftAgGtbFEZrlaZc5VtyULaI1ZQ2o9iAWyzADQgXKBbV8nQzw7SRgYhRUZREYiO2F3q5+pap+0CAaZLD+rxGWic9VtyQIAGA0sRAAAT1nDZCds3p/rmuRI75NWwRDLZRWKE1ytbkwWAMBIIIgAAJ5yN6jNrJLdJz2CIVJQckPdAAWorIocIy7d6B4FwEjgMgMAeAqzKifrXW+oy6plfjq1ys9wnKvVbe5RAIwEFiIAgOcwKwvQD9mFbnKPAmAkEEQAAE+idmJPVH1a63rdiFvcowAYCQQRAMCzyE7sMtWntawXAOAeEEMEAPA1SvXpyGBpsxquAgCcCQQRAMC3yFaf5nEAAG8DQQQA8C1qqk/bDYuyPcWVtPV4hXiGSAPAWBBDBADwLW5pV6E2xgkAoB5YiAAAvsUN7SoQ4wSANUAQAQB8i1J9Oh52tqtAjBMA1gFBBADwLWZVtfZjjBMAbgeCCADga5zcrsItMU4AeAEEVQMAfI9Tq0+7IcYJAK8AQQQAAA6tPq3EOMVzm9kZ4wSAl4DLDAAAHIrTY5wA8BIQRAAA4GCcHOMEgJeAywwAAByOU2OcAPAStlqIPv/8c7rllluocePGlJSURB988EHY8nvvvVe8H/q44YYbwsYcP36chgwZQvn5+VRQUEDDhw+nkpKSsDFff/01XX311ZSZmUnNmjWjadOmWbJ/AABgdIxT+zoZ4hliCAAPCaLTp09Tly5d6E9/+lPMMSyADh48GHy8/fbbYctZDG3ZsoWWLFlCCxYsECLrgQceCC4vKiqifv36UYsWLWj9+vX03HPP0ZNPPkmvvfaaqfsGAAAAAPdgq8tswIAB4hGPjIwMatiwYdRl3377LS1evJjWrVtH3bp1E++99NJLdOONN9J///d/C8vT3LlzqbKykv7yl79Qeno6dejQgTZt2kR//OMfw4QTAAAAAPyL44OqV6xYQYWFhdS2bVsaPXo0HTt2LLhszZo1wk2miCGmb9++lJycTP/85z+DY3r16iXEkEL//v1p+/btdOLECYv3BgAAAABOxNFB1ewuGzhwILVq1Yp27dpFjz32mLAoschJSUmhQ4cOCbEUSmpqKtWpU0csY/iZPx9KgwYNgstq165d43srKirEI9TtBgAAAADv4mhBNHjw4OD/O3XqRJ07d6bWrVsLq1GfPn1M+96pU6fSlClTTFs/AAAAAJyF411moVxwwQVUr1492rlzp3jNsUVHjhwJG1NVVSUyz5S4I34+fPhw2BjldazYpEmTJtGpU6eCj3379pm0RwAAAABwAq4SRD/88IOIIWrUqJF43aNHDzp58qTIHlNYtmwZVVdXU/fu3YNjOPPszJnz3aA5I41jkqK5y5RAbk7jD30AAAAAwLvYKoi4XhBnfPGD2b17t/j/3r17xbIJEybQl19+Sd9//z0tXbqUbrvtNmrTpo0IimbatWsn4oxGjhxJa9eupS+++ILGjh0rXG2cYcbcfffdIqCa6xNxev67775LM2bMoPHjx9u56wAAAABwEEmBQCBg15dzLNC1115b4/1hw4bRzJkz6fbbb6eNGzcKKxALHK4n9PTTTweDohl2j7EI+vvf/y6yywYNGkQvvvgi5ebmhhVmHDNmjEjPZ5fbgw8+SBMnTpTeTg6qrlWrlnCfwVoEAAAAuAM187etgsgt8IHk9H6OJYIgAgAAANwjiLhDBRtWWBi5NsvMKRQXF4tnPqgAAAAAcN88nkgQwUIkAQdpHzhwgPLy8kQ/tURKFJYkHItQcCzOg2NxHhyL8+BYnAfHwthjwRKHxRCH3XBYTTxgIZKAD2LTpk2lxyMz7Tw4FufBsTgPjsV5cCzOg2NxHhwL445FIsuQK9PuAQAAAADMAIIIAAAAAL4HgshAuKDjE088IZ79Do7FeXAszoNjcR4ci/PgWJwHx8K+Y4GgagAAAAD4HliIAAAAAOB7IIgAAAAA4HsgiAAAAADgeyCIAAAAAOB7IIgkadmypahSHfngprHRmDNnTo2xmZmZ5EY+//xzuuWWW0SlT96PDz74IGw5x+U//vjj1KhRI8rKyqK+ffvSjh07Eq73T3/6kziufFy6d+9Oa9euJTcfizNnzoimwZ06daKcnBwxZujQoaLKeTyefPLJGufKxRdfTG4/L+69994a+3XDDTf47rxgol07+PHcc8957ryYOnUqXX755aKyf2FhoWjSvX379rAx5eXl4tpZt25d0Yibm3IfPnw47nq1XmecfCy4OTk3G2/btq3Yp+bNm9Nvf/tb0T8zHlp/W04/L3r37l1jv0aNGmXZeQFBJMm6devo4MGDwceSJUvE+z//+c9jfoYra4Z+Zs+ePeRGTp8+TV26dBETVTSmTZtGL774Is2aNYv++c9/CjHQv39/cdGLxbvvvkvjx48XKZUbNmwQ6+fPHDlyhNx6LEpLS8W+/P73vxfP7733nvjB33rrrQnX26FDh7BzZdWqVeT284Lhi3Tofr399ttx1+nF84IJPQb8+Mtf/iIu9iwEvHZerFy5UoidL7/8Ulwn+UahX79+4hgpjBs3jv7+97/T/PnzxXi+aRg4cGDc9Wq5zjj9WPB+8+O///u/6ZtvvhE30osXL6bhw4cnXLfa35Ybzgtm5MiRYfvFf3fLzgtOuwfqeeihhwKtW7cOVFdXR13++uuvB2rVqhXwGnzKvP/++8HXvP8NGzYMPPfcc8H3Tp48GcjIyAi8/fbbMddzxRVXBMaMGRN8ffbs2UDjxo0DU6dODbj1WERj7dq1YtyePXtijnniiScCXbp0CbiZaMdi2LBhgdtuu03VevxyXvBxue666+KO8cJ5wRw5ckQck5UrVwavD2lpaYH58+cHx3z77bdizJo1a6KuQ+t1xunHIhrz5s0LpKenB86cORNzjJbflhuOxTXXXCPmVlmMPi9gIdJAZWUlvfnmm3T//ffHbfZaUlJCLVq0EM3pbrvtNtqyZQt5jd27d9OhQ4eEmTK0bwy7OtasWRPz+K1fvz7sM9wvjl/H+oxbYdM3nyMFBQVxx7GJl90tF1xwAQ0ZMoT27t1LXmDFihXCPM4ugdGjR9OxY8dijvXLecGuoYULF0pZAbxwXijunzp16ohn/huzdSD078yuQHYXxfo7a7nOuOFYxBrD3oXU1FTDfltuOhZz586levXqUceOHWnSpEnC8h4Lo88LNHfVAMcHnDx5UvhxY8EnKZvFO3fuLP7wbBK96qqrhChS0yjW6fDJyDRo0CDsfX6tLIvkxx9/pLNnz0b9zLZt28grsMmWY4ruuuuuuI0J+cfLpnI+Z9hEPGXKFLr66quFCZ397W6FTfrsBmnVqhXt2rWLHnvsMRowYIC4UKWkpPj2vHjjjTfE3zWRi8gL50V1dTU9/PDD9LOf/UxMcAxfF9LT02vcJMS7Zmi5zrjhWET7DTz99NP0wAMPGPrbcsuxuPvuu4URgW8Cvv76a3H95LADDj+w4ryAINLA//zP/4iTj/9osejRo4d4KLAYateuHb366qvihAfehu+Af/GLX4iAv5kzZ8Ydy+eSAgtongj5ojBv3jwpK4JTGTx4cPD/HGjO+9a6dWtxZ9unTx/yK3yjxNaeREkWXjgvOGaEBZwbYp/sPhZFRUV00003Ufv27UVAvZd/W2NiHItQIcj7xYHSvD8s+nj/zAYuM5VwYPRnn31GI0aMUPW5tLQ0uvTSS2nnzp3kJRo2bCieIzNE+LWyLBI2h/JdjJrPuFEM8bnCwYPxrEPR4Dvniy66yHPnCrt9+G8fa7+8fl4w//jHP8Qdr9rrhxvPi7Fjx9KCBQto+fLlYVZx/luye5St7LJ/Zy3XGTccC4Xi4mJh9WHL3/vvvy/mCyN/W246FqHwTQATa7+MPi8giFTy+uuvC78tK3k1sCtg8+bNQvF6CTbZ8om3dOnSsDsdjvYPtZCFwubyyy67LOwzbELl17E+4zYxxLEfLJw5rVgtHHvGd0ReO1d++OEHEecQa7+8fF6EWpd5HzkjzavnBVtFedLjiX3ZsmXiGhEK7z9P+KF/ZxaJHB8V6++s5TrjhmOh7AdnW/H5/9FHH2kqz5Lot+WWYxHJpk2bxHOs/TL8vFAdhu1jOOOlefPmgYkTJ9ZYds899wT+4z/+I/h6ypQpgU8++SSwa9euwPr16wODBw8OZGZmBrZs2RJwG8XFxYGNGzeKB58yf/zjH8X/lcypZ599NlBQUBD48MMPA19//bXIfmjVqlWgrKwsuA7OqHnppZeCr9955x2RCTBnzpzA1q1bAw888IBYx6FDhwJuPRaVlZWBW2+9NdC0adPApk2bAgcPHgw+KioqYh6L3/3ud4EVK1YEdu/eHfjiiy8Cffv2DdSrV09kYbj1WPCyRx55RGQN8X599tlnga5duwYuvPDCQHl5ua/OC4VTp04FsrOzAzNnzoy6Dq+cF6NHjxYZtrztob+B0tLS4JhRo0aJa+myZcsC//rXvwI9evQQj1Datm0beO+994KvZa4zbjsWfE5079490KlTp8DOnTvDxlRVVUU9FrK/Lbcdi507dwaeeuopcT7wfvHf+YILLgj06tXLsvMCgkgFLHD4Yrd9+/YayzhdkFMhFR5++GHxg+f0yQYNGgRuvPHGwIYNGwJuZPny5WK/Ix/K/nLq4+9//3uxnzyZ9enTp8YxatGihUgjDoUv/sox4nTrL7/8MuDmY8E/4mjL+MGfi3UsfvnLXwYaNWokjkOTJk3Ea744uPlY8EWuX79+gfr164sUa97nkSNH1hA2fjgvFF599dVAVlaWSAuOhlfOi1i/AS5FosCT1W9+85tA7dq1hUi84447xOQYuZ7Qz8hcZ9x2LGKdN/zg60noepTPyP623HYs9u7dK8RPnTp1xN+3TZs2gQkTJgjRaNV5kfTTFwAAAAAA+BbEEAEAAADA90AQAQAAAMD3QBABAAAAwPdAEAEAAADA90AQAQAAAMD3QBABAAAAwPdAEAEAAADA90AQAQB8AXeOj+ywbhYtW7akF154wZLvAgAYAwQRAAAYLLLWrVsX1rkbAOB8Uu3eAAAA8Br169e3exMAACqBhQgAYBmLFy+mnj17CqtK3bp16eabbxYd3EO7dt91111Up04dysnJoW7duonO1Qp///vf6fLLLxcdwevVq0d33HFHcFlFRQU98sgj1KRJE/HZ7t2704oVK+Juz4cffkhdu3YV67vgggtoypQpVFVVFVz+xz/+kTp16iTW16xZM/rNb34jus4zvO777ruPTp06RUlJSeLx5JNPRnWZcSf32267jXJzcyk/P59+8Ytf0OHDh4PL+XOXXHIJ/fWvfxWfrVWrFg0ePJiKi4t1H3MAgBwQRAAAyzh9+jSNHz+e/vWvf9HSpUspOTlZiJrq6mohNK655hrav38/ffTRR/TVV1/Ro48+KpYxCxcuFGNvvPFG2rhxo/j8FVdcEVz32LFjac2aNfTOO+/Q119/TT//+c/phhtuoB07dkTdln/84x80dOhQeuihh2jr1q306quvChfYH/7wh+AY3r4XX3yRtmzZQm+88QYtW7ZMbBNz1VVXCdHDAufgwYPiwYIsEt5+FkPHjx+nlStX0pIlS+i7776jX/7yl2HjWBh+8MEHtGDBAvHgsc8++6xhxx4AkAB9/WsBAEA7R48eFd2rN2/eLLrB5+XlBY4dOxZ1bI8ePQJDhgyJumzPnj2BlJSUwP79+8Pe587XkyZNEv/nDtm1atUKW/bMM8+Ejf/rX/8qOszHYv78+YG6desGX0euU4E7kE+fPl38/9NPPxXbxt28FbZs2SL2e+3ateI1d7nnru9FRUXBMdzpu3v37jG3BQBgLIghAgBYBltrHn/8ceEG+/HHH4PWH3Ypbdq0iS699FLhLosGLx85cmTUZZs3b6azZ8/SRRddFPY+u9HYNRcNtkB98cUXYRYhXkd5eTmVlpZSdnY2ffbZZzR16lTatm0bFRUVCXda6HIZvv32W+Fu44dC+/bthduQl7ELkGFXWV5eXnBMo0aN6MiRI1LfAQDQDwQRAMAybrnlFmrRogX9+c9/psaNGwtB1LFjR6qsrKSsrKy4n423nN1tKSkptH79evEcCsftxPoMxwwNHDiwxjKOKfr+++9FjNPo0aOFaGKhtmrVKho+fLjYXllBJEtaWlrYa45JUgQjAMB8IIgAAJZw7Ngx2r59uxBDV199tXiPBYZC586dafbs2SLWJpqViJdz3BAHMkfCliW27rBFRVl3IjiYmrenTZs2UZezuGJB8vzzz4tYImbevHlhY9LT08X3xqNdu3a0b98+8VCsRByzdPLkSWEpAgA4AwRVAwAsoXbt2sJ99dprr9HOnTtFgDIHWCtwdlnDhg3p9ttvF64sDjz+v//7PxEozTzxxBP09ttvi2d2NbGb7L/+67/EMnaVDRkyRARJv/fee7R7925au3atcHdxMHY02HX3v//7v8JKxEHTvE4OyJ48ebJYzkLpzJkz9NJLL4lt4QywWbNmha2D3VxsaWKhxi5AdqVF0rdvX5Gpxtu3YcMGsV28nRxAzll0AABnAEEEALAEtrKw4GDLC7vJxo0bR88991yYteXTTz+lwsJCkUnGIoKzrBQXWO/evWn+/PkiA41T1K+77johLhRef/11ITR+97vfUdu2bYWw4gKJzZs3j7o9/fv3F9lc/J0cx3PllVfS9OnThUuP6dKli0i7Z9HF2zt37lwhsELhTLNRo0aJjDGuPTRt2rQa38OuL07vZ0HYq1cvIZA4xf/dd9817NgCAPSTxJHVBqwHAAAAAMC1wEIEAAAAAN8DQQQAAAAA3wNBBAAAAADfA0EEAAAAAN8DQQQAAAAA3wNBBAAAAADfA0EEAAAAAN8DQQQAAAAA3wNBBAAAAADfA0EEAAAAAN8DQQQAAAAA3wNBBAAAAADyO/8fF7clizcrJZoAAAAASUVORK5CYII=",
      "text/plain": [
       "<Figure size 640x480 with 1 Axes>"
      ]
     },
     "metadata": {},
     "output_type": "display_data"
    }
   ],
   "source": [
    "# call the function\n",
    "acce = carfeatures[\"acceleration\"]\n",
    "weight = carfeatures[\"weight\"]\n",
    "# color_scatterplot(acce, weight, 'acceleation', 'weight', 'scatterplot')\n",
    "color_scatterplot(acce, weight, 'acceleation', 'weight', 'scatterplot', \n",
    "                  'skyblue')"
=======
    "def red_scatterplot(vec_x, vec_y, name_x, name_y, title):\n",
    "    plt.scatter(x = vec_x, y = vec_y, color = 'red')\n",
    "    plt.title(title)\n",
    "    plt.xlabel(name_x)\n",
    "    plt.ylabel(name_y)\n",
    "    plt.show()\n",
    "    \n",
    "# call the function\n",
    "acce = carfeatures[\"acceleration\"]\n",
    "weight = carfeatures[\"weight\"]\n",
    "\n",
    "red_scatterplot(acce,weight,\"acceleration\", \"weight\", \"Scatterplot\")\n",
    "\n",
    "# Function to customize the color\n",
    "def color_scatterplot(vec_x, vec_y, name_x, name_y, title, color='red'):\n",
    "    plt.scatter(x = vec_x, y = vec_y, color = color)\n",
    "    plt.title(title)\n",
    "    plt.xlabel(name_x)\n",
    "    plt.ylabel(name_y)\n",
    "    plt.show()\n",
    "\n",
    "# color is an optional parameter (deaults to red when you run it)\n",
    "color_scatterplot(acce,weight,\"acceleration\", \"weight\", \"Scatterplot\")\n",
    "\n",
    "color_scatterplot(acce,weight,\"acceleration\", \"weight\", \"Scatterplot\", 'teal')\n"
>>>>>>> Stashed changes
   ]
  },
  {
   "cell_type": "markdown",
   "metadata": {},
   "source": [
    "## 6. Arrays\n"
   ]
  },
  {
   "cell_type": "markdown",
   "metadata": {},
   "source": [
    "<font size='4'>\n",
    "    "
   ]
  },
  {
   "cell_type": "markdown",
   "metadata": {},
   "source": [
    "<font size='4'>\n",
    "\n",
    "- Array is a grid that contains values of the same data type.\n",
    "- Previously, we covered 1-dim, but it can go beyond that."
   ]
  },
  {
   "cell_type": "code",
   "execution_count": 54,
   "metadata": {
    "scrolled": true
   },
   "outputs": [
    {
     "name": "stdout",
     "output_type": "stream",
     "text": [
      "[1 2 3]\n",
      "[[1 2 3]\n",
      " [4 5 6]]\n",
      "[[[ 1  2  3]\n",
      "  [ 4  5  6]]\n",
      "\n",
      " [[-1 -2 -3]\n",
      "  [-4 -5 -6]]]\n",
      "\n"
     ]
    }
   ],
   "source": [
    "# 1-dim array\n",
    "arr_1d = np.array([1,2,3], dtype=np.int64)\n",
    "# dtype is optional: depending on your operation system, \n",
    "# it is np.int32 or np.int64 by default.\n",
    "print(arr_1d)\n",
    "\n",
    "# 2-dim array\n",
    "arr_2d = np.array([[1,2,3], [4,5,6]], dtype=np.int64)\n",
    "print(arr_2d)\n",
    "\n",
    "# 3-dim array\n",
    "arr_3d = np.array([[[1,2,3],\n",
    "                    [4,5,6]],\n",
    "                   [[-1,-2,-3],\n",
    "                    [-4,-5,-6]]], dtype=np.int64)\n",
    "print(arr_3d)\n",
    "print()"
   ]
  },
  {
   "cell_type": "markdown",
   "metadata": {},
   "source": [
    "<font size='4'>\n",
    "\n",
    "- The array holds and represents any regular data in a *structured* way.\n",
    "- An array contains information about *raw data (memory address)*, how to *locate an element (shape and indexing)*, and how to *interpret an elemnt (data type)*.\n",
    "    - For this class, you should at least know the shape of two dimension array (matrix).\n",
    "    - The shape of a 2d-array is a coordiante of two integers (known as `tuple`, a regular data type).\n",
    "    - Axis 0 corresponds to # of rows, while axis 1 corresponds to # of columns."
   ]
  },
  {
   "cell_type": "code",
   "execution_count": 55,
   "metadata": {},
   "outputs": [
    {
     "name": "stdout",
     "output_type": "stream",
     "text": [
      "<memory at 0x121d1c110>\n",
      "(2, 3)\n",
      "int64\n"
     ]
    }
   ],
   "source": [
    "# print out memory address\n",
    "print(arr_2d.data)\n",
    "\n",
    "# print out shape\n",
    "print(arr_2d.shape)\n",
    "\n",
    "# print out data type\n",
    "print(arr_2d.dtype)"
   ]
  },
  {
   "cell_type": "markdown",
   "metadata": {},
   "source": [
    "<font size='4'>\n",
    "\n",
    "Useful functions to initialize an empty numpy array.\n",
    "\n",
    "- `np.ones()`\n",
    "- `np.zeros()`\n",
    "- `np.random.random()`\n",
    "- `np.empty()`\n",
    "- `np.full()`\n",
    "- `np.arange()`\n",
    "- `np.linspace()`"
   ]
  },
  {
   "cell_type": "code",
   "execution_count": 56,
   "metadata": {},
   "outputs": [
    {
     "name": "stdout",
     "output_type": "stream",
     "text": [
      "Ones Array:\n",
      "[[1. 1. 1. 1.]\n",
      " [1. 1. 1. 1.]\n",
      " [1. 1. 1. 1.]]\n",
      "\n",
      "Zeros Array:\n",
      "[[[0 0 0 0]\n",
      "  [0 0 0 0]\n",
      "  [0 0 0 0]]\n",
      "\n",
      " [[0 0 0 0]\n",
      "  [0 0 0 0]\n",
      "  [0 0 0 0]]]\n",
      "\n",
      "Random Array:\n",
      "[[0.91113131 0.14618872]\n",
      " [0.20591276 0.60442538]]\n",
      "\n",
      "Empty Array:\n",
      "[[ 0.00000000e+00  4.16666667e+00]\n",
      " [-1.11775611e-15  4.16666667e+00]\n",
      " [-2.94627825e+00  2.94627825e+00]]\n",
      "\n",
      "Full Array:\n",
      "[[7 7]\n",
      " [7 7]]\n",
      "\n",
      "Arange Array:\n",
      "[10 15 20]\n",
      "\n",
      "[0.   0.25 0.5  0.75 1.   1.25 1.5  1.75 2.  ]\n",
      "[0.         0.22222222 0.44444444 0.66666667 0.88888889 1.11111111\n",
      " 1.33333333 1.55555556 1.77777778]\n",
      "\n"
     ]
    }
   ],
   "source": [
    "# Create an array of ones\n",
    "ones_array = np.ones((3, 4))\n",
    "print(\"Ones Array:\")\n",
    "print(ones_array)\n",
    "print()\n",
    "\n",
    "# Create an array of zeros\n",
    "zeros_array = np.zeros((2, 3, 4), dtype=np.int16)\n",
    "print(\"Zeros Array:\")\n",
    "print(zeros_array)\n",
    "print()\n",
    "\n",
    "# Create an array with random values\n",
    "# Return random floats in the half-open interval [0.0, 1.0). \n",
    "random_array = np.random.random((2, 2))\n",
    "print(\"Random Array:\")\n",
    "print(random_array)\n",
    "print()\n",
    "\n",
    "# Create an empty array\n",
    "empty_array = np.empty((3, 2))\n",
    "print(\"Empty Array:\")\n",
    "print(empty_array)\n",
    "print()\n",
    "\n",
    "# Create a full array\n",
    "full_array = np.full((2, 2), 7)\n",
    "print(\"Full Array:\")\n",
    "print(full_array)\n",
    "print()\n",
    "\n",
    "# Create an array of evenly-spaced values\n",
    "arange_array = np.arange(10, 25, 5)\n",
    "print(\"Arange Array:\")\n",
    "print(arange_array)\n",
    "print()\n",
    "\n",
    "# Create an array of evenly-spaced values\n",
    "# the stop value is set to achieve by default (endpoint=True), you can modify it by adding\n",
    "# an optional parameter endpoint=False\n",
    "# https://numpy.org/doc/stable/reference/generated/numpy.linspace.html \n",
    "print(np.linspace(0,2,9))\n",
    "print(np.linspace(0,2,9,endpoint=False))\n",
    "print()"
   ]
  },
  {
   "cell_type": "markdown",
   "metadata": {},
   "source": [
    "<font size='4'>\n",
    "    \n",
    "Useful functions to load np arrays from text (.txt files)\n",
    "- `np.loadtxt()`\n",
    "- `np.genfromtxt()`."
   ]
  },
  {
   "cell_type": "code",
   "execution_count": 57,
   "metadata": {},
   "outputs": [
    {
     "name": "stdout",
     "output_type": "stream",
     "text": [
      "[0.2536 0.4839 0.1292 0.1781 0.6253]\n",
      "[0.1008 0.4536 0.6875 0.3049 0.3486]\n",
      "[0.3857 0.3561 0.5929 0.8928 0.8791]\n"
     ]
    }
   ],
   "source": [
    "# This is your data in the text file\n",
    "# Value1  Value2  Value3\n",
    "# 0.2536  0.1008  0.3857\n",
    "# 0.4839  0.4536  0.3561\n",
    "# 0.1292  0.6875  0.5929\n",
    "# 0.1781  0.3049  0.8928\n",
    "# 0.6253  0.3486  0.8791\n",
    "\n",
    "# Import your data\n",
    "x, y, z = np.loadtxt('./data/working_example_data.txt', skiprows=1, unpack=True)\n",
    "# unpack option allows you to import dataset and return the columns as separate arrays.\n",
    "# https://numpy.org/doc/stable/reference/generated/numpy.loadtxt.html\n",
    "print(x)\n",
    "print(y)\n",
    "print(z)"
   ]
  },
  {
   "cell_type": "code",
   "execution_count": 58,
   "metadata": {},
   "outputs": [
    {
     "name": "stdout",
     "output_type": "stream",
     "text": [
      "[[ 0.4839  0.4536  0.3561]\n",
      " [ 0.1292  0.6875 -9.    ]\n",
      " [ 0.1781  0.3049  0.8928]\n",
      " [-9.      0.5801  0.2038]\n",
      " [ 0.5993  0.4357  0.741 ]]\n"
     ]
    }
   ],
   "source": [
    "# Your data in the text file\n",
    "# Value1  Value2  Value3\n",
    "# 0.4839  0.4536  0.3561\n",
    "# 0.1292  0.6875  MISSING\n",
    "# 0.1781  0.3049  0.8928\n",
    "# MISSING 0.5801  0.2038\n",
    "# 0.5993  0.4357  0.7410\n",
    "\n",
    "# np.genfromtxt() can checking the missing values\n",
    "# https://numpy.org/doc/stable/reference/generated/numpy.genfromtxt.html#numpy.genfromtxt\n",
    "my_arr2 = np.genfromtxt('./data/working_example_data_2.txt', skip_header=1, filling_values=-9)\n",
    "print(my_arr2)"
   ]
  },
  {
   "cell_type": "markdown",
   "metadata": {},
   "source": [
    "<font size='4'>\n",
    "\n",
    "How to save your numpy arrays?\n",
    "\n",
    "- `np.savetxt()`: save an array to a text file\n",
    "- `np.save()`: save an array to a binary file in NumPy .npy format\n",
    "- `np.savez()`: save several arrays into an uncompressed .npz archive\n",
    "- `np.savez_compressed()`: save several arrays into a compressed .npz archive\n",
    "- `np.load()`: load arrays from `.npy` and `.npz` formats.\n",
    "    - In presence of multiple arrays, we need advanced syntax (either `.keys()` or `with`) to access specific elements.\n",
    "    - Will cover it later."
   ]
  },
  {
   "cell_type": "code",
   "execution_count": 59,
   "metadata": {},
   "outputs": [
    {
     "name": "stdout",
     "output_type": "stream",
     "text": [
      "NpzFile './data/my_arr2_twice.npz' with keys: arr_0, arr_1\n",
      "[[ 0.4839  0.4536  0.3561]\n",
      " [ 0.1292  0.6875 -9.    ]\n",
      " [ 0.1781  0.3049  0.8928]\n",
      " [-9.      0.5801  0.2038]\n",
      " [ 0.5993  0.4357  0.741 ]]\n",
      "[[ 0.4839  0.4536  0.3561]\n",
      " [ 0.1292  0.6875 -9.    ]\n",
      " [ 0.1781  0.3049  0.8928]\n",
      " [-9.      0.5801  0.2038]\n",
      " [ 0.5993  0.4357  0.741 ]]\n",
      " \n"
     ]
    }
   ],
   "source": [
    "# Let's take my_arr2 as an example.\n",
    "\n",
    "np.savetxt('./data/my_arr2_delimiter_space.txt', my_arr2, delimiter=' ')\n",
    "np.savetxt('./data/my_arr2_delimiter_comma.txt', my_arr2, delimiter=',')\n",
    "\n",
    "np.save('./data/my_arr2.npy', my_arr2)\n",
    "# https://numpy.org/doc/stable/reference/generated/numpy.save.html\n",
    "\n",
    "np.savez('./data/my_arr2.npz', my_arr2)\n",
    "# https://numpy.org/doc/stable/reference/generated/numpy.savez.html#numpy.savez\n",
    "\n",
    "np.savez_compressed('./data/my_arr2_comp.npz', my_arr2)\n",
    "# https://numpy.org/doc/stable/reference/generated/numpy.savez_compressed.html#numpy.savez_compressed\n",
    "\n",
    "# save multiple arrays\n",
    "np.savez('./data/my_arr2_twice.npz', my_arr2, my_arr2)\n",
    "np.savez_compressed('./data/my_arr2_twice_comp.npz', my_arr2, my_arr2)\n",
    "\n",
    "my_arr2_twice = np.load('./data/my_arr2_twice.npz')\n",
    "print(my_arr2_twice)\n",
    "print(my_arr2_twice['arr_0'])\n",
    "print(my_arr2_twice['arr_1'])\n",
    "print(' ')"
   ]
  },
  {
   "cell_type": "code",
   "execution_count": 60,
   "metadata": {},
   "outputs": [
    {
     "name": "stdout",
     "output_type": "stream",
     "text": [
      "[[ 0.4839  0.4536  0.3561]\n",
      " [ 0.1292  0.6875 -9.    ]\n",
      " [ 0.1781  0.3049  0.8928]\n",
      " [-9.      0.5801  0.2038]\n",
      " [ 0.5993  0.4357  0.741 ]]\n",
      "[[ 0.4839  0.4536  0.3561]\n",
      " [ 0.1292  0.6875 -9.    ]\n",
      " [ 0.1781  0.3049  0.8928]\n",
      " [-9.      0.5801  0.2038]\n",
      " [ 0.5993  0.4357  0.741 ]]\n"
     ]
    }
   ],
   "source": [
    "# Or we can use with function\n",
    "with np.load('./data/my_arr2_twice.npz') as my_arr2_twice:\n",
    "    arr_0 = my_arr2_twice['arr_0']\n",
    "    arr_1 = my_arr2_twice['arr_1']\n",
    "print(arr_0)\n",
    "print(arr_1)"
   ]
  },
  {
   "cell_type": "code",
   "execution_count": null,
   "metadata": {},
   "outputs": [],
   "source": []
  }
 ],
 "metadata": {
  "kernelspec": {
   "display_name": "Python 3 (ipykernel)",
   "language": "python",
   "name": "python3"
  },
  "language_info": {
   "codemirror_mode": {
    "name": "ipython",
    "version": 3
   },
   "file_extension": ".py",
   "mimetype": "text/x-python",
   "name": "python",
   "nbconvert_exporter": "python",
   "pygments_lexer": "ipython3",
   "version": "3.13.7"
  },
  "vscode": {
   "interpreter": {
    "hash": "45fc1f684f6f416f40889115beff3ddf69879b64cf4bfee48cb72a61e9d15d1a"
   }
  }
 },
 "nbformat": 4,
 "nbformat_minor": 4
}
